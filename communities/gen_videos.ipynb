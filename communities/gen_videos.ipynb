{
 "cells": [
  {
   "cell_type": "code",
   "execution_count": 28,
   "metadata": {
    "collapsed": true
   },
   "outputs": [],
   "source": [
    "import pandas as pd\n",
    "from random import sample"
   ]
  },
  {
   "cell_type": "code",
   "execution_count": 4,
   "outputs": [
    {
     "data": {
      "text/plain": "              Name                        Id    Category  Subscribers  \\\n0  Amazing Atheist  UCjNxszyFPasDdRoD9J6X-sw  Antitheist       966000   \n1      Thunderf00t  UCmb8hO2ilV9vRa8cilis88A  Antitheist      1010000   \n2      JaclynGlenn  UCravYcv6C0CopL2ukVzhzNw  Antitheist       813000   \n3      Desertphile  UCYnwmslj2knI9iAiXM4UOgg  Antitheist        10800   \n4  Hannah and Jake  UCgGgkVyadk0TdxmVzYcAM-Q  Antitheist       153000   \n\n                                         Description  Available  \n0  The Amazing Atheist is a professional ranter w...       True  \n1  The true beauty of a self-inquiring sentient u...       True  \n2  I'm on every social platform @jaclynglenn \\n\\n...       True  \n3  Gravity.  GRAVITY!\\n\\nPsycho anti-social ravin...       True  \n4  Hannah and Jake sit and talk about everything,...       True  ",
      "text/html": "<div>\n<style scoped>\n    .dataframe tbody tr th:only-of-type {\n        vertical-align: middle;\n    }\n\n    .dataframe tbody tr th {\n        vertical-align: top;\n    }\n\n    .dataframe thead th {\n        text-align: right;\n    }\n</style>\n<table border=\"1\" class=\"dataframe\">\n  <thead>\n    <tr style=\"text-align: right;\">\n      <th></th>\n      <th>Name</th>\n      <th>Id</th>\n      <th>Category</th>\n      <th>Subscribers</th>\n      <th>Description</th>\n      <th>Available</th>\n    </tr>\n  </thead>\n  <tbody>\n    <tr>\n      <th>0</th>\n      <td>Amazing Atheist</td>\n      <td>UCjNxszyFPasDdRoD9J6X-sw</td>\n      <td>Antitheist</td>\n      <td>966000</td>\n      <td>The Amazing Atheist is a professional ranter w...</td>\n      <td>True</td>\n    </tr>\n    <tr>\n      <th>1</th>\n      <td>Thunderf00t</td>\n      <td>UCmb8hO2ilV9vRa8cilis88A</td>\n      <td>Antitheist</td>\n      <td>1010000</td>\n      <td>The true beauty of a self-inquiring sentient u...</td>\n      <td>True</td>\n    </tr>\n    <tr>\n      <th>2</th>\n      <td>JaclynGlenn</td>\n      <td>UCravYcv6C0CopL2ukVzhzNw</td>\n      <td>Antitheist</td>\n      <td>813000</td>\n      <td>I'm on every social platform @jaclynglenn \\n\\n...</td>\n      <td>True</td>\n    </tr>\n    <tr>\n      <th>3</th>\n      <td>Desertphile</td>\n      <td>UCYnwmslj2knI9iAiXM4UOgg</td>\n      <td>Antitheist</td>\n      <td>10800</td>\n      <td>Gravity.  GRAVITY!\\n\\nPsycho anti-social ravin...</td>\n      <td>True</td>\n    </tr>\n    <tr>\n      <th>4</th>\n      <td>Hannah and Jake</td>\n      <td>UCgGgkVyadk0TdxmVzYcAM-Q</td>\n      <td>Antitheist</td>\n      <td>153000</td>\n      <td>Hannah and Jake sit and talk about everything,...</td>\n      <td>True</td>\n    </tr>\n  </tbody>\n</table>\n</div>"
     },
     "execution_count": 4,
     "metadata": {},
     "output_type": "execute_result"
    }
   ],
   "source": [
    "channels_df = pd.read_csv('./channels.csv')\n",
    "channels_df.head()"
   ],
   "metadata": {
    "collapsed": false,
    "pycharm": {
     "name": "#%%\n"
    }
   }
  },
  {
   "cell_type": "code",
   "execution_count": 4,
   "outputs": [],
   "source": [],
   "metadata": {
    "collapsed": false,
    "pycharm": {
     "name": "#%%\n"
    }
   }
  },
  {
   "cell_type": "markdown",
   "source": [
    "Alt-Right Seed Video Generation"
   ],
   "metadata": {
    "collapsed": false,
    "pycharm": {
     "name": "#%% md\n"
    }
   }
  },
  {
   "cell_type": "code",
   "execution_count": 5,
   "outputs": [
    {
     "data": {
      "text/plain": "array(['Antitheist', 'Alt-lite', 'Alt-right', 'Incel',\n       'Intellectual Dark Web', 'MGTOW', 'MRA', 'PUA'], dtype=object)"
     },
     "execution_count": 5,
     "metadata": {},
     "output_type": "execute_result"
    }
   ],
   "source": [
    "channels_df['Category'].unique()"
   ],
   "metadata": {
    "collapsed": false,
    "pycharm": {
     "name": "#%%\n"
    }
   }
  },
  {
   "cell_type": "code",
   "execution_count": 6,
   "outputs": [
    {
     "data": {
      "text/plain": "                       Name                        Id   Category  Subscribers  \\\n356            AltRight.com  UCSTy-H5lSiCcozas32sfJlQ  Alt-right        20000   \n357             AmRenVideos  UCMLbmp5tcLxzahMLTmeM4lg  Alt-right           -1   \n358          AmRen Podcasts  UCyZVnp-_owuoPlzNJNtaxZQ  Alt-right           -1   \n359  The Reality Calls Show  UCmtALVZjXFzb4v3fIXDmDyw  Alt-right         9380   \n360           Faith J Goldy  UClMWnUHbxJKJLUgloN1mPUA  Alt-right        92300   \n\n                                           Description  Available  \n356  Perspectives on culture and politics from Rich...       True  \n357                                                NaN      False  \n358                                                NaN      False  \n359  The Reality Calls Show with Tara McCarthy.\\n\\n...       True  \n360  ✝️ For Christ the King & Country 🍁\\n\\n________...       True  ",
      "text/html": "<div>\n<style scoped>\n    .dataframe tbody tr th:only-of-type {\n        vertical-align: middle;\n    }\n\n    .dataframe tbody tr th {\n        vertical-align: top;\n    }\n\n    .dataframe thead th {\n        text-align: right;\n    }\n</style>\n<table border=\"1\" class=\"dataframe\">\n  <thead>\n    <tr style=\"text-align: right;\">\n      <th></th>\n      <th>Name</th>\n      <th>Id</th>\n      <th>Category</th>\n      <th>Subscribers</th>\n      <th>Description</th>\n      <th>Available</th>\n    </tr>\n  </thead>\n  <tbody>\n    <tr>\n      <th>356</th>\n      <td>AltRight.com</td>\n      <td>UCSTy-H5lSiCcozas32sfJlQ</td>\n      <td>Alt-right</td>\n      <td>20000</td>\n      <td>Perspectives on culture and politics from Rich...</td>\n      <td>True</td>\n    </tr>\n    <tr>\n      <th>357</th>\n      <td>AmRenVideos</td>\n      <td>UCMLbmp5tcLxzahMLTmeM4lg</td>\n      <td>Alt-right</td>\n      <td>-1</td>\n      <td>NaN</td>\n      <td>False</td>\n    </tr>\n    <tr>\n      <th>358</th>\n      <td>AmRen Podcasts</td>\n      <td>UCyZVnp-_owuoPlzNJNtaxZQ</td>\n      <td>Alt-right</td>\n      <td>-1</td>\n      <td>NaN</td>\n      <td>False</td>\n    </tr>\n    <tr>\n      <th>359</th>\n      <td>The Reality Calls Show</td>\n      <td>UCmtALVZjXFzb4v3fIXDmDyw</td>\n      <td>Alt-right</td>\n      <td>9380</td>\n      <td>The Reality Calls Show with Tara McCarthy.\\n\\n...</td>\n      <td>True</td>\n    </tr>\n    <tr>\n      <th>360</th>\n      <td>Faith J Goldy</td>\n      <td>UClMWnUHbxJKJLUgloN1mPUA</td>\n      <td>Alt-right</td>\n      <td>92300</td>\n      <td>✝️ For Christ the King &amp; Country 🍁\\n\\n________...</td>\n      <td>True</td>\n    </tr>\n  </tbody>\n</table>\n</div>"
     },
     "execution_count": 6,
     "metadata": {},
     "output_type": "execute_result"
    }
   ],
   "source": [
    "alt_right_channels_df = channels_df[channels_df['Category']=='Alt-right']\n",
    "alt_right_channels_df.head()"
   ],
   "metadata": {
    "collapsed": false,
    "pycharm": {
     "name": "#%%\n"
    }
   }
  },
  {
   "cell_type": "code",
   "execution_count": 7,
   "outputs": [
    {
     "data": {
      "text/plain": "                                 Name                        Id   Category  \\\n356                      AltRight.com  UCSTy-H5lSiCcozas32sfJlQ  Alt-right   \n360                     Faith J Goldy  UClMWnUHbxJKJLUgloN1mPUA  Alt-right   \n370  Ayla Stewart Wife With A Purpose  UCZeP6H2mELnRI9imY5Iga0g  Alt-right   \n374                    The Golden One  UCN0-RRaxMgh86eOwndAklxw  Alt-right   \n376                       Voxiversity  UCutpp9X6rKErxUkv4wKBRPA  Alt-right   \n\n     Subscribers                                        Description  Available  \n356        20000  Perspectives on culture and politics from Rich...       True  \n360        92300  ✝️ For Christ the King & Country 🍁\\n\\n________...       True  \n370        10200  Ayla Stewart is a writer, artist and Youtuber....       True  \n374       112000  This is a channel dedicated to how glorious an...       True  \n376        17500            A series of online lectures by Vox Day.       True  ",
      "text/html": "<div>\n<style scoped>\n    .dataframe tbody tr th:only-of-type {\n        vertical-align: middle;\n    }\n\n    .dataframe tbody tr th {\n        vertical-align: top;\n    }\n\n    .dataframe thead th {\n        text-align: right;\n    }\n</style>\n<table border=\"1\" class=\"dataframe\">\n  <thead>\n    <tr style=\"text-align: right;\">\n      <th></th>\n      <th>Name</th>\n      <th>Id</th>\n      <th>Category</th>\n      <th>Subscribers</th>\n      <th>Description</th>\n      <th>Available</th>\n    </tr>\n  </thead>\n  <tbody>\n    <tr>\n      <th>356</th>\n      <td>AltRight.com</td>\n      <td>UCSTy-H5lSiCcozas32sfJlQ</td>\n      <td>Alt-right</td>\n      <td>20000</td>\n      <td>Perspectives on culture and politics from Rich...</td>\n      <td>True</td>\n    </tr>\n    <tr>\n      <th>360</th>\n      <td>Faith J Goldy</td>\n      <td>UClMWnUHbxJKJLUgloN1mPUA</td>\n      <td>Alt-right</td>\n      <td>92300</td>\n      <td>✝️ For Christ the King &amp; Country 🍁\\n\\n________...</td>\n      <td>True</td>\n    </tr>\n    <tr>\n      <th>370</th>\n      <td>Ayla Stewart Wife With A Purpose</td>\n      <td>UCZeP6H2mELnRI9imY5Iga0g</td>\n      <td>Alt-right</td>\n      <td>10200</td>\n      <td>Ayla Stewart is a writer, artist and Youtuber....</td>\n      <td>True</td>\n    </tr>\n    <tr>\n      <th>374</th>\n      <td>The Golden One</td>\n      <td>UCN0-RRaxMgh86eOwndAklxw</td>\n      <td>Alt-right</td>\n      <td>112000</td>\n      <td>This is a channel dedicated to how glorious an...</td>\n      <td>True</td>\n    </tr>\n    <tr>\n      <th>376</th>\n      <td>Voxiversity</td>\n      <td>UCutpp9X6rKErxUkv4wKBRPA</td>\n      <td>Alt-right</td>\n      <td>17500</td>\n      <td>A series of online lectures by Vox Day.</td>\n      <td>True</td>\n    </tr>\n  </tbody>\n</table>\n</div>"
     },
     "execution_count": 7,
     "metadata": {},
     "output_type": "execute_result"
    }
   ],
   "source": [
    "alt_right_pop_channels_df = alt_right_channels_df[alt_right_channels_df['Subscribers']>10000]\n",
    "alt_right_pop_channels_df.head()"
   ],
   "metadata": {
    "collapsed": false,
    "pycharm": {
     "name": "#%%\n"
    }
   }
  },
  {
   "cell_type": "code",
   "execution_count": 8,
   "outputs": [
    {
     "data": {
      "text/plain": "(20, 6)"
     },
     "execution_count": 8,
     "metadata": {},
     "output_type": "execute_result"
    }
   ],
   "source": [
    "alt_right_pop_channels_df.shape"
   ],
   "metadata": {
    "collapsed": false,
    "pycharm": {
     "name": "#%%\n"
    }
   }
  },
  {
   "cell_type": "code",
   "execution_count": 9,
   "outputs": [
    {
     "data": {
      "text/plain": "356    UCSTy-H5lSiCcozas32sfJlQ\n360    UClMWnUHbxJKJLUgloN1mPUA\n370    UCZeP6H2mELnRI9imY5Iga0g\n374    UCN0-RRaxMgh86eOwndAklxw\n376    UCutpp9X6rKErxUkv4wKBRPA\n378    UCGJNdaSwFeP3pLd1MhN0dRg\n379    UCmrLCXSDScliR7q8AxxjvXg\n382    UCBceihEYR7elOoeWTuDhAzA\n391    UC66IBH4uFkBTzEh2olFFJSg\n393    UCur6nu-T7FilkEztCm_S8yA\n397    UCZtDKD0pFpPclXA7ZAti90w\n399    UCVO8YsD87ibqRGIJ7o8sOzg\n407    UC3FqYK9UCKtmcTwSYo7mwpw\n410    UCqDUhDiWJdk3inMxtEPOUWw\n411    UCLM6JlQkQ9tltBL9Bipci9g\n413    UCdEfsAy6rUDPnm9HwKA_asg\n421    UC2w1CQqPli4w94-PCg2UvJQ\n430    UCHC60upCUfq7EAfw6oDQRDA\n432    UCkXYznmArMELRxH_36uM1lQ\n442    UCkY8CvV8WQFe87CZGmvuYHA\nName: Id, dtype: object"
     },
     "execution_count": 9,
     "metadata": {},
     "output_type": "execute_result"
    }
   ],
   "source": [
    "channels = alt_right_pop_channels_df['Id']\n",
    "channels"
   ],
   "metadata": {
    "collapsed": false,
    "pycharm": {
     "name": "#%%\n"
    }
   }
  },
  {
   "cell_type": "code",
   "execution_count": 10,
   "outputs": [],
   "source": [
    "from api import videos_from_channel"
   ],
   "metadata": {
    "collapsed": false,
    "pycharm": {
     "name": "#%%\n"
    }
   }
  },
  {
   "cell_type": "code",
   "execution_count": 11,
   "outputs": [],
   "source": [
    "videos = []"
   ],
   "metadata": {
    "collapsed": false,
    "pycharm": {
     "name": "#%%\n"
    }
   }
  },
  {
   "cell_type": "code",
   "execution_count": 12,
   "outputs": [
    {
     "name": "stdout",
     "output_type": "stream",
     "text": [
      "UCSTy-H5lSiCcozas32sfJlQ\n",
      "UClMWnUHbxJKJLUgloN1mPUA\n",
      "UCZeP6H2mELnRI9imY5Iga0g\n",
      "UCN0-RRaxMgh86eOwndAklxw\n",
      "UCutpp9X6rKErxUkv4wKBRPA\n",
      "UCGJNdaSwFeP3pLd1MhN0dRg\n",
      "UCmrLCXSDScliR7q8AxxjvXg\n",
      "UCBceihEYR7elOoeWTuDhAzA\n",
      "UC66IBH4uFkBTzEh2olFFJSg\n",
      "UCur6nu-T7FilkEztCm_S8yA\n",
      "UCZtDKD0pFpPclXA7ZAti90w\n",
      "UCVO8YsD87ibqRGIJ7o8sOzg\n",
      "UC3FqYK9UCKtmcTwSYo7mwpw\n",
      "UCqDUhDiWJdk3inMxtEPOUWw\n",
      "UCLM6JlQkQ9tltBL9Bipci9g\n",
      "UCdEfsAy6rUDPnm9HwKA_asg\n",
      "UC2w1CQqPli4w94-PCg2UvJQ\n",
      "UCHC60upCUfq7EAfw6oDQRDA\n",
      "UCkXYznmArMELRxH_36uM1lQ\n",
      "UCkY8CvV8WQFe87CZGmvuYHA\n"
     ]
    }
   ],
   "source": [
    "for channel in channels:\n",
    "    print(channel)\n",
    "    response_1 = videos_from_channel(channel, order='date', video_duration='short')\n",
    "    response_2 = videos_from_channel(channel, order='date', video_duration='medium')\n",
    "    videos.append(response_1)\n",
    "    videos.append(response_2)"
   ],
   "metadata": {
    "collapsed": false,
    "pycharm": {
     "name": "#%%\n"
    }
   }
  },
  {
   "cell_type": "code",
   "execution_count": 20,
   "outputs": [],
   "source": [
    "videos_list = []\n",
    "for layer_1 in videos:\n",
    "    for layer_2 in layer_1:\n",
    "        videos_list.append(layer_2)"
   ],
   "metadata": {
    "collapsed": false,
    "pycharm": {
     "name": "#%%\n"
    }
   }
  },
  {
   "cell_type": "code",
   "execution_count": 21,
   "outputs": [
    {
     "data": {
      "text/plain": "           vid                       cid  \\\n0  zlQMwWkZNp8  UCSTy-H5lSiCcozas32sfJlQ   \n1  7r9W-qadhVQ  UCSTy-H5lSiCcozas32sfJlQ   \n2  P_xubHEaR6w  UCSTy-H5lSiCcozas32sfJlQ   \n3  w3zFUZejKxM  UCSTy-H5lSiCcozas32sfJlQ   \n4  AnUPJEs8aWc  UCSTy-H5lSiCcozas32sfJlQ   \n\n                                              title  \\\n0                             INTERREGNUM HAS MOVED   \n1                        Join Me At Michigan State!   \n2                                        #FreeAmRen   \n3    The Best of Budapest&#39;s Christmas Fair 2017   \n4  Richard Spencer Protests DACA Outside Whitehouse   \n\n                                         description  \n0  Source: https://www.spreaker.com/user/altright...  \n1  Richard Spencer talks about his upcoming appea...  \n2  Richard Spencer calls on the Alt-Right to twee...  \n3  If anyone would like to experience a living ex...  \n4  Richard Spencer speaks at an Identity Europa r...  ",
      "text/html": "<div>\n<style scoped>\n    .dataframe tbody tr th:only-of-type {\n        vertical-align: middle;\n    }\n\n    .dataframe tbody tr th {\n        vertical-align: top;\n    }\n\n    .dataframe thead th {\n        text-align: right;\n    }\n</style>\n<table border=\"1\" class=\"dataframe\">\n  <thead>\n    <tr style=\"text-align: right;\">\n      <th></th>\n      <th>vid</th>\n      <th>cid</th>\n      <th>title</th>\n      <th>description</th>\n    </tr>\n  </thead>\n  <tbody>\n    <tr>\n      <th>0</th>\n      <td>zlQMwWkZNp8</td>\n      <td>UCSTy-H5lSiCcozas32sfJlQ</td>\n      <td>INTERREGNUM HAS MOVED</td>\n      <td>Source: https://www.spreaker.com/user/altright...</td>\n    </tr>\n    <tr>\n      <th>1</th>\n      <td>7r9W-qadhVQ</td>\n      <td>UCSTy-H5lSiCcozas32sfJlQ</td>\n      <td>Join Me At Michigan State!</td>\n      <td>Richard Spencer talks about his upcoming appea...</td>\n    </tr>\n    <tr>\n      <th>2</th>\n      <td>P_xubHEaR6w</td>\n      <td>UCSTy-H5lSiCcozas32sfJlQ</td>\n      <td>#FreeAmRen</td>\n      <td>Richard Spencer calls on the Alt-Right to twee...</td>\n    </tr>\n    <tr>\n      <th>3</th>\n      <td>w3zFUZejKxM</td>\n      <td>UCSTy-H5lSiCcozas32sfJlQ</td>\n      <td>The Best of Budapest&amp;#39;s Christmas Fair 2017</td>\n      <td>If anyone would like to experience a living ex...</td>\n    </tr>\n    <tr>\n      <th>4</th>\n      <td>AnUPJEs8aWc</td>\n      <td>UCSTy-H5lSiCcozas32sfJlQ</td>\n      <td>Richard Spencer Protests DACA Outside Whitehouse</td>\n      <td>Richard Spencer speaks at an Identity Europa r...</td>\n    </tr>\n  </tbody>\n</table>\n</div>"
     },
     "execution_count": 21,
     "metadata": {},
     "output_type": "execute_result"
    }
   ],
   "source": [
    "videos_df = pd.DataFrame(videos_list)\n",
    "videos_df.head()"
   ],
   "metadata": {
    "collapsed": false,
    "pycharm": {
     "name": "#%%\n"
    }
   }
  },
  {
   "cell_type": "code",
   "execution_count": 22,
   "outputs": [
    {
     "data": {
      "text/plain": "(824, 4)"
     },
     "execution_count": 22,
     "metadata": {},
     "output_type": "execute_result"
    }
   ],
   "source": [
    "videos_df.shape"
   ],
   "metadata": {
    "collapsed": false,
    "pycharm": {
     "name": "#%%\n"
    }
   }
  },
  {
   "cell_type": "code",
   "execution_count": 23,
   "outputs": [],
   "source": [
    "videos_df.to_csv('./videos.csv', index=False)"
   ],
   "metadata": {
    "collapsed": false,
    "pycharm": {
     "name": "#%%\n"
    }
   }
  },
  {
   "cell_type": "code",
   "execution_count": 23,
   "outputs": [],
   "source": [],
   "metadata": {
    "collapsed": false,
    "pycharm": {
     "name": "#%%\n"
    }
   }
  },
  {
   "cell_type": "markdown",
   "source": [
    "Generate a sample!"
   ],
   "metadata": {
    "collapsed": false
   }
  },
  {
   "cell_type": "code",
   "execution_count": 24,
   "outputs": [
    {
     "data": {
      "text/plain": "           vid                       cid  \\\n0  zlQMwWkZNp8  UCSTy-H5lSiCcozas32sfJlQ   \n1  7r9W-qadhVQ  UCSTy-H5lSiCcozas32sfJlQ   \n2  P_xubHEaR6w  UCSTy-H5lSiCcozas32sfJlQ   \n3  w3zFUZejKxM  UCSTy-H5lSiCcozas32sfJlQ   \n4  AnUPJEs8aWc  UCSTy-H5lSiCcozas32sfJlQ   \n\n                                              title  \\\n0                             INTERREGNUM HAS MOVED   \n1                        Join Me At Michigan State!   \n2                                        #FreeAmRen   \n3    The Best of Budapest&#39;s Christmas Fair 2017   \n4  Richard Spencer Protests DACA Outside Whitehouse   \n\n                                         description  \n0  Source: https://www.spreaker.com/user/altright...  \n1  Richard Spencer talks about his upcoming appea...  \n2  Richard Spencer calls on the Alt-Right to twee...  \n3  If anyone would like to experience a living ex...  \n4  Richard Spencer speaks at an Identity Europa r...  ",
      "text/html": "<div>\n<style scoped>\n    .dataframe tbody tr th:only-of-type {\n        vertical-align: middle;\n    }\n\n    .dataframe tbody tr th {\n        vertical-align: top;\n    }\n\n    .dataframe thead th {\n        text-align: right;\n    }\n</style>\n<table border=\"1\" class=\"dataframe\">\n  <thead>\n    <tr style=\"text-align: right;\">\n      <th></th>\n      <th>vid</th>\n      <th>cid</th>\n      <th>title</th>\n      <th>description</th>\n    </tr>\n  </thead>\n  <tbody>\n    <tr>\n      <th>0</th>\n      <td>zlQMwWkZNp8</td>\n      <td>UCSTy-H5lSiCcozas32sfJlQ</td>\n      <td>INTERREGNUM HAS MOVED</td>\n      <td>Source: https://www.spreaker.com/user/altright...</td>\n    </tr>\n    <tr>\n      <th>1</th>\n      <td>7r9W-qadhVQ</td>\n      <td>UCSTy-H5lSiCcozas32sfJlQ</td>\n      <td>Join Me At Michigan State!</td>\n      <td>Richard Spencer talks about his upcoming appea...</td>\n    </tr>\n    <tr>\n      <th>2</th>\n      <td>P_xubHEaR6w</td>\n      <td>UCSTy-H5lSiCcozas32sfJlQ</td>\n      <td>#FreeAmRen</td>\n      <td>Richard Spencer calls on the Alt-Right to twee...</td>\n    </tr>\n    <tr>\n      <th>3</th>\n      <td>w3zFUZejKxM</td>\n      <td>UCSTy-H5lSiCcozas32sfJlQ</td>\n      <td>The Best of Budapest&amp;#39;s Christmas Fair 2017</td>\n      <td>If anyone would like to experience a living ex...</td>\n    </tr>\n    <tr>\n      <th>4</th>\n      <td>AnUPJEs8aWc</td>\n      <td>UCSTy-H5lSiCcozas32sfJlQ</td>\n      <td>Richard Spencer Protests DACA Outside Whitehouse</td>\n      <td>Richard Spencer speaks at an Identity Europa r...</td>\n    </tr>\n  </tbody>\n</table>\n</div>"
     },
     "execution_count": 24,
     "metadata": {},
     "output_type": "execute_result"
    }
   ],
   "source": [
    "videos_df = pd.read_csv('./videos.csv')\n",
    "videos_df.head()"
   ],
   "metadata": {
    "collapsed": false,
    "pycharm": {
     "name": "#%%\n"
    }
   }
  },
  {
   "cell_type": "code",
   "execution_count": 32,
   "outputs": [],
   "source": [
    "videos = list(videos_df['vid'])"
   ],
   "metadata": {
    "collapsed": false,
    "pycharm": {
     "name": "#%%\n"
    }
   }
  },
  {
   "cell_type": "code",
   "execution_count": 31,
   "outputs": [
    {
     "data": {
      "text/plain": "['lCR6hTW9Clw',\n 'KXSX5mD8HwM',\n 'Ih4-rdL2GC8',\n 'yOPUY2c2HmM',\n 'hLS6ls45SHE',\n '_f3otgJIheY',\n 'vqEw2K2aRyY',\n 'Uz0c7uihWGw',\n 'iZALBXbUnZ8',\n 'uAAyLZ7KSA8',\n '6-266bADD-M',\n 'rc5GJi0PdHs',\n 'mEEaqsll2jw',\n 'ICrDXSaq69Y',\n 'TLRFAcQa8go',\n 'sr6B5sY9c1A',\n 'RV7Nx4LRNkE',\n 'yKLYnC6d8ZM',\n 'BmfgVUOzrNo',\n 'fM-tzJfiUWA',\n 'TPo33xnOXLM',\n 'CWEMXCHPdvw',\n 'qU-j_XsPVMk',\n 'sqYCvnRIzkc',\n 'NJFzzKGpd-g',\n 'Ol58T2fVOzs',\n 'mzxn34Kn8QQ',\n 'wxG-WdzF0fg',\n 'ZQSpPrZSDQ8',\n 'xyGdImPfrB4',\n 'fDU0MBJEUtU',\n 'dgel5lo-Tsw',\n 'FaW3bvsqLjA',\n 'uBaXQc0iark',\n 'khjpRAz1x4k',\n 'c70dhKdSRAk',\n 'dwbqasjYkHM',\n 'Mu5jBi26Fx0',\n 'QpKEdOUHYKA',\n 'mKGzfxzBVHY']"
     },
     "execution_count": 31,
     "metadata": {},
     "output_type": "execute_result"
    }
   ],
   "source": [
    "sampled = sample(videos, 40)\n",
    "sampled"
   ],
   "metadata": {
    "collapsed": false,
    "pycharm": {
     "name": "#%%\n"
    }
   }
  },
  {
   "cell_type": "code",
   "execution_count": 33,
   "outputs": [
    {
     "data": {
      "text/plain": "['0UPCpMrLffQ',\n 'nGFHEVIe9pM',\n '7FYUhfJ8kF4',\n 'Yo9gV0cPKyI',\n 'uD6qgoSs6G8',\n 'sfTsHtk9RDM',\n 'aqAlxbSNfTI',\n 'GTBdYuLBbkk',\n 'yIU78KvMNOE',\n '3tr43h-N7hc',\n 'SD4AzNXgXFc',\n '_zBhlA4Iwg4',\n 'brc23GhfdcI',\n 'TFqWsMn0rrk',\n 'G4pA5EWwwrU',\n 'swaMx0RhBsQ',\n 'bUdkzI5YMOk',\n 'cZpmj6Sb9Yk',\n 'coLsC-xd6b0',\n '8zXlkpS2340',\n 'k8PhwPJXwHs',\n 'j67ok1aYLl8',\n 'YB3SAD-gHTc',\n 'hVbrVaLIYvA',\n 'KO3ct4iCkfU',\n 'UYB2Qb_nucM',\n 'YpQRohBoIMg',\n 'kjmeI5YhfIg',\n 'iw444fflH8w',\n 'ScGU2WscFA4',\n '6TjjalCsmJA',\n 'kPuqJadc6uc',\n 'DGQIHPNq5cE',\n 'pNUWaHl8Qio',\n 'rBNtOCCSSRc',\n 'ozQfqLz4CzU',\n 'J884JdQ6wHw',\n 'r2T8akG6jGE',\n 'vhTFkUpB8zc',\n '7rI2KKXTni4']"
     },
     "execution_count": 33,
     "metadata": {},
     "output_type": "execute_result"
    }
   ],
   "source": [
    "sampled = sample(videos, 40)\n",
    "sampled"
   ],
   "metadata": {
    "collapsed": false,
    "pycharm": {
     "name": "#%%\n"
    }
   }
  },
  {
   "cell_type": "code",
   "execution_count": null,
   "outputs": [],
   "source": [],
   "metadata": {
    "collapsed": false,
    "pycharm": {
     "name": "#%%\n"
    }
   }
  }
 ],
 "metadata": {
  "kernelspec": {
   "display_name": "Python 3",
   "language": "python",
   "name": "python3"
  },
  "language_info": {
   "codemirror_mode": {
    "name": "ipython",
    "version": 2
   },
   "file_extension": ".py",
   "mimetype": "text/x-python",
   "name": "python",
   "nbconvert_exporter": "python",
   "pygments_lexer": "ipython2",
   "version": "2.7.6"
  }
 },
 "nbformat": 4,
 "nbformat_minor": 0
}