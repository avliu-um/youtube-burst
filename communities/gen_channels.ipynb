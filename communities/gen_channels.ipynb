{
 "cells": [
  {
   "cell_type": "code",
   "execution_count": 2,
   "id": "2e51da4e",
   "metadata": {},
   "outputs": [],
   "source": [
    "import pandas as pd"
   ]
  },
  {
   "cell_type": "code",
   "execution_count": 3,
   "id": "c7f4269e",
   "metadata": {},
   "outputs": [
    {
     "data": {
      "text/plain": "                     CHANNEL_TITLE                                   TAGS  \\\n0                            Brave                                    NaN   \n1                           GBNews  AntiSJW|Mainstream News|PartisanRight   \n2  The Black Conservative Preacher            AntiSJW|PartisanRight|QAnon   \n3    Energy and Commerce Committee                            StateFunded   \n4              That Star Wars Girl                                AntiSJW   \n\n                 CHANNEL_ID LR  RELEVANCE REVIEWER_LR  \\\n0  UCFNTTISby1c_H-rm5Ww5rZg  C        0.0           C   \n1  UC0vn8ISa4LKMunLbzaXLnOQ  R        1.0           R   \n2  UC_QYq3wFd46rcaoKOvPHFgA  R        1.0           R   \n3  UCCbD3bkHRcwiBsaL1lWE_QQ  C        1.0           C   \n4  UCRWsFMLzGGJKLnAXJ9U93_A  R        0.8           R   \n\n                           REVIEWER_TAGS REVIEWER_MAIN_CHANNEL_ID  \\\n0                                    NaN                      NaN   \n1  AntiSJW|Mainstream News|PartisanRight                      NaN   \n2            PartisanRight|QAnon|AntiSJW                      NaN   \n3                            StateFunded                      NaN   \n4                                AntiSJW                      NaN   \n\n   REVIEWER_RELEVANCE REVIEWER_CODE                       UPDATED  \\\n0                 0.0           mar  2021-12-22T01:00:52.5691836Z   \n1                 1.0           mar  2021-10-25T21:17:49.7200458Z   \n2                 1.0           mar  2021-06-08T01:27:45.4527338Z   \n3                 1.0           mar  2021-03-26T02:15:09.3585105Z   \n4                 0.8           mar  2021-03-16T01:24:18.9299734Z   \n\n                               PUBLIC_REVIEWER_NOTES PUBLIC_CREATOR_NOTES  \n0                                                NaN                  NaN  \n1                                                NaN                  NaN  \n2  This is the channel that had the senator who l...                  NaN  \n3                                                NaN                  NaN  \n4                                                NaN                  NaN  ",
      "text/html": "<div>\n<style scoped>\n    .dataframe tbody tr th:only-of-type {\n        vertical-align: middle;\n    }\n\n    .dataframe tbody tr th {\n        vertical-align: top;\n    }\n\n    .dataframe thead th {\n        text-align: right;\n    }\n</style>\n<table border=\"1\" class=\"dataframe\">\n  <thead>\n    <tr style=\"text-align: right;\">\n      <th></th>\n      <th>CHANNEL_TITLE</th>\n      <th>TAGS</th>\n      <th>CHANNEL_ID</th>\n      <th>LR</th>\n      <th>RELEVANCE</th>\n      <th>REVIEWER_LR</th>\n      <th>REVIEWER_TAGS</th>\n      <th>REVIEWER_MAIN_CHANNEL_ID</th>\n      <th>REVIEWER_RELEVANCE</th>\n      <th>REVIEWER_CODE</th>\n      <th>UPDATED</th>\n      <th>PUBLIC_REVIEWER_NOTES</th>\n      <th>PUBLIC_CREATOR_NOTES</th>\n    </tr>\n  </thead>\n  <tbody>\n    <tr>\n      <th>0</th>\n      <td>Brave</td>\n      <td>NaN</td>\n      <td>UCFNTTISby1c_H-rm5Ww5rZg</td>\n      <td>C</td>\n      <td>0.0</td>\n      <td>C</td>\n      <td>NaN</td>\n      <td>NaN</td>\n      <td>0.0</td>\n      <td>mar</td>\n      <td>2021-12-22T01:00:52.5691836Z</td>\n      <td>NaN</td>\n      <td>NaN</td>\n    </tr>\n    <tr>\n      <th>1</th>\n      <td>GBNews</td>\n      <td>AntiSJW|Mainstream News|PartisanRight</td>\n      <td>UC0vn8ISa4LKMunLbzaXLnOQ</td>\n      <td>R</td>\n      <td>1.0</td>\n      <td>R</td>\n      <td>AntiSJW|Mainstream News|PartisanRight</td>\n      <td>NaN</td>\n      <td>1.0</td>\n      <td>mar</td>\n      <td>2021-10-25T21:17:49.7200458Z</td>\n      <td>NaN</td>\n      <td>NaN</td>\n    </tr>\n    <tr>\n      <th>2</th>\n      <td>The Black Conservative Preacher</td>\n      <td>AntiSJW|PartisanRight|QAnon</td>\n      <td>UC_QYq3wFd46rcaoKOvPHFgA</td>\n      <td>R</td>\n      <td>1.0</td>\n      <td>R</td>\n      <td>PartisanRight|QAnon|AntiSJW</td>\n      <td>NaN</td>\n      <td>1.0</td>\n      <td>mar</td>\n      <td>2021-06-08T01:27:45.4527338Z</td>\n      <td>This is the channel that had the senator who l...</td>\n      <td>NaN</td>\n    </tr>\n    <tr>\n      <th>3</th>\n      <td>Energy and Commerce Committee</td>\n      <td>StateFunded</td>\n      <td>UCCbD3bkHRcwiBsaL1lWE_QQ</td>\n      <td>C</td>\n      <td>1.0</td>\n      <td>C</td>\n      <td>StateFunded</td>\n      <td>NaN</td>\n      <td>1.0</td>\n      <td>mar</td>\n      <td>2021-03-26T02:15:09.3585105Z</td>\n      <td>NaN</td>\n      <td>NaN</td>\n    </tr>\n    <tr>\n      <th>4</th>\n      <td>That Star Wars Girl</td>\n      <td>AntiSJW</td>\n      <td>UCRWsFMLzGGJKLnAXJ9U93_A</td>\n      <td>R</td>\n      <td>0.8</td>\n      <td>R</td>\n      <td>AntiSJW</td>\n      <td>NaN</td>\n      <td>0.8</td>\n      <td>mar</td>\n      <td>2021-03-16T01:24:18.9299734Z</td>\n      <td>NaN</td>\n      <td>NaN</td>\n    </tr>\n  </tbody>\n</table>\n</div>"
     },
     "execution_count": 3,
     "metadata": {},
     "output_type": "execute_result"
    }
   ],
   "source": [
    "ledwich_df = pd.read_csv('./sources/ledwich_zaitsev.csv')\n",
    "ledwich_df.head()"
   ]
  },
  {
   "cell_type": "code",
   "execution_count": 4,
   "id": "dd734c56",
   "metadata": {},
   "outputs": [
    {
     "data": {
      "text/plain": "        CHANNEL_TITLE                TAGS                CHANNEL_ID LR  \\\n975   Amazing Atheist  AntiSJW|AntiTheist  UCjNxszyFPasDdRoD9J6X-sw  L   \n1017      Thunderf00t  AntiSJW|AntiTheist  UCmb8hO2ilV9vRa8cilis88A  C   \n1018      Thunderf00t  AntiSJW|AntiTheist  UCmb8hO2ilV9vRa8cilis88A  C   \n1082      JaclynGlenn  AntiSJW|AntiTheist  UCravYcv6C0CopL2ukVzhzNw  L   \n1086      JaclynGlenn  AntiSJW|AntiTheist  UCravYcv6C0CopL2ukVzhzNw  L   \n\n      RELEVANCE REVIEWER_LR       REVIEWER_TAGS REVIEWER_MAIN_CHANNEL_ID  \\\n975        1.00           L  AntiTheist|AntiSJW                      NaN   \n1017       0.66           C  AntiSJW|AntiTheist                      NaN   \n1018       0.66           C  AntiSJW|AntiTheist                      NaN   \n1082       1.00           C             AntiSJW                      NaN   \n1086       1.00           C  AntiTheist|AntiSJW                      NaN   \n\n      REVIEWER_RELEVANCE REVIEWER_CODE                       UPDATED  \\\n975                  1.0           ann  2020-11-13T00:34:14.5550854Z   \n1017                 1.0           sam  2020-11-03T02:42:40.2813859Z   \n1018                 0.7           scl  2020-11-03T02:38:48.3892593Z   \n1082                 1.0           mar  2020-10-31T07:57:12.9994114Z   \n1086                 1.0           scl  2020-10-31T01:23:03.6120362Z   \n\n     PUBLIC_REVIEWER_NOTES PUBLIC_CREATOR_NOTES  is_antitheist  \n975                    NaN                  NaN           True  \n1017                   NaN                  NaN           True  \n1018                   NaN                  NaN           True  \n1082                   NaN                  NaN           True  \n1086                   NaN                  NaN           True  ",
      "text/html": "<div>\n<style scoped>\n    .dataframe tbody tr th:only-of-type {\n        vertical-align: middle;\n    }\n\n    .dataframe tbody tr th {\n        vertical-align: top;\n    }\n\n    .dataframe thead th {\n        text-align: right;\n    }\n</style>\n<table border=\"1\" class=\"dataframe\">\n  <thead>\n    <tr style=\"text-align: right;\">\n      <th></th>\n      <th>CHANNEL_TITLE</th>\n      <th>TAGS</th>\n      <th>CHANNEL_ID</th>\n      <th>LR</th>\n      <th>RELEVANCE</th>\n      <th>REVIEWER_LR</th>\n      <th>REVIEWER_TAGS</th>\n      <th>REVIEWER_MAIN_CHANNEL_ID</th>\n      <th>REVIEWER_RELEVANCE</th>\n      <th>REVIEWER_CODE</th>\n      <th>UPDATED</th>\n      <th>PUBLIC_REVIEWER_NOTES</th>\n      <th>PUBLIC_CREATOR_NOTES</th>\n      <th>is_antitheist</th>\n    </tr>\n  </thead>\n  <tbody>\n    <tr>\n      <th>975</th>\n      <td>Amazing Atheist</td>\n      <td>AntiSJW|AntiTheist</td>\n      <td>UCjNxszyFPasDdRoD9J6X-sw</td>\n      <td>L</td>\n      <td>1.00</td>\n      <td>L</td>\n      <td>AntiTheist|AntiSJW</td>\n      <td>NaN</td>\n      <td>1.0</td>\n      <td>ann</td>\n      <td>2020-11-13T00:34:14.5550854Z</td>\n      <td>NaN</td>\n      <td>NaN</td>\n      <td>True</td>\n    </tr>\n    <tr>\n      <th>1017</th>\n      <td>Thunderf00t</td>\n      <td>AntiSJW|AntiTheist</td>\n      <td>UCmb8hO2ilV9vRa8cilis88A</td>\n      <td>C</td>\n      <td>0.66</td>\n      <td>C</td>\n      <td>AntiSJW|AntiTheist</td>\n      <td>NaN</td>\n      <td>1.0</td>\n      <td>sam</td>\n      <td>2020-11-03T02:42:40.2813859Z</td>\n      <td>NaN</td>\n      <td>NaN</td>\n      <td>True</td>\n    </tr>\n    <tr>\n      <th>1018</th>\n      <td>Thunderf00t</td>\n      <td>AntiSJW|AntiTheist</td>\n      <td>UCmb8hO2ilV9vRa8cilis88A</td>\n      <td>C</td>\n      <td>0.66</td>\n      <td>C</td>\n      <td>AntiSJW|AntiTheist</td>\n      <td>NaN</td>\n      <td>0.7</td>\n      <td>scl</td>\n      <td>2020-11-03T02:38:48.3892593Z</td>\n      <td>NaN</td>\n      <td>NaN</td>\n      <td>True</td>\n    </tr>\n    <tr>\n      <th>1082</th>\n      <td>JaclynGlenn</td>\n      <td>AntiSJW|AntiTheist</td>\n      <td>UCravYcv6C0CopL2ukVzhzNw</td>\n      <td>L</td>\n      <td>1.00</td>\n      <td>C</td>\n      <td>AntiSJW</td>\n      <td>NaN</td>\n      <td>1.0</td>\n      <td>mar</td>\n      <td>2020-10-31T07:57:12.9994114Z</td>\n      <td>NaN</td>\n      <td>NaN</td>\n      <td>True</td>\n    </tr>\n    <tr>\n      <th>1086</th>\n      <td>JaclynGlenn</td>\n      <td>AntiSJW|AntiTheist</td>\n      <td>UCravYcv6C0CopL2ukVzhzNw</td>\n      <td>L</td>\n      <td>1.00</td>\n      <td>C</td>\n      <td>AntiTheist|AntiSJW</td>\n      <td>NaN</td>\n      <td>1.0</td>\n      <td>scl</td>\n      <td>2020-10-31T01:23:03.6120362Z</td>\n      <td>NaN</td>\n      <td>NaN</td>\n      <td>True</td>\n    </tr>\n  </tbody>\n</table>\n</div>"
     },
     "execution_count": 4,
     "metadata": {},
     "output_type": "execute_result"
    }
   ],
   "source": [
    "# Must contain 'AntiTheist' as a label from the TAGS column, NOT the TAGS_REVIEWER column \n",
    "#   (that is before conslidating labels via their inter-coder agreement rule)\n",
    "# Also cannot be a BitChute channel \n",
    "#   (in the bottom of the paper they mention that some channels migrate to other platform, such as BitChute)\n",
    "ledwich_df['is_antitheist'] = ledwich_df.apply(\n",
    "    lambda row: 'AntiTheist' in str(row['TAGS']) and str(row['CHANNEL_ID'])[:2]=='UC',\n",
    "    axis = 1\n",
    ")\n",
    "ledwich_df = ledwich_df[ledwich_df['is_antitheist']==True]\n",
    "ledwich_df.head()"
   ]
  },
  {
   "cell_type": "code",
   "execution_count": 5,
   "id": "74742851",
   "metadata": {},
   "outputs": [
    {
     "data": {
      "text/plain": "                  CHANNEL_TITLE                CHANNEL_ID\n975             Amazing Atheist  UCjNxszyFPasDdRoD9J6X-sw\n1017                Thunderf00t  UCmb8hO2ilV9vRa8cilis88A\n1018                Thunderf00t  UCmb8hO2ilV9vRa8cilis88A\n1082                JaclynGlenn  UCravYcv6C0CopL2ukVzhzNw\n1086                JaclynGlenn  UCravYcv6C0CopL2ukVzhzNw\n...                         ...                       ...\n11416  Atheism-is-Unstoppable-2  UCXyLkBdJzh3SfFw6GvHkXKw\n11418  Atheism-is-Unstoppable-2  UCXyLkBdJzh3SfFw6GvHkXKw\n11422  Atheism-is-Unstoppable-2  UCXyLkBdJzh3SfFw6GvHkXKw\n11551              Secular Talk  UCldfgbzNILYZA4dmDt4Cd6A\n11552              Secular Talk  UCldfgbzNILYZA4dmDt4Cd6A\n\n[398 rows x 2 columns]",
      "text/html": "<div>\n<style scoped>\n    .dataframe tbody tr th:only-of-type {\n        vertical-align: middle;\n    }\n\n    .dataframe tbody tr th {\n        vertical-align: top;\n    }\n\n    .dataframe thead th {\n        text-align: right;\n    }\n</style>\n<table border=\"1\" class=\"dataframe\">\n  <thead>\n    <tr style=\"text-align: right;\">\n      <th></th>\n      <th>CHANNEL_TITLE</th>\n      <th>CHANNEL_ID</th>\n    </tr>\n  </thead>\n  <tbody>\n    <tr>\n      <th>975</th>\n      <td>Amazing Atheist</td>\n      <td>UCjNxszyFPasDdRoD9J6X-sw</td>\n    </tr>\n    <tr>\n      <th>1017</th>\n      <td>Thunderf00t</td>\n      <td>UCmb8hO2ilV9vRa8cilis88A</td>\n    </tr>\n    <tr>\n      <th>1018</th>\n      <td>Thunderf00t</td>\n      <td>UCmb8hO2ilV9vRa8cilis88A</td>\n    </tr>\n    <tr>\n      <th>1082</th>\n      <td>JaclynGlenn</td>\n      <td>UCravYcv6C0CopL2ukVzhzNw</td>\n    </tr>\n    <tr>\n      <th>1086</th>\n      <td>JaclynGlenn</td>\n      <td>UCravYcv6C0CopL2ukVzhzNw</td>\n    </tr>\n    <tr>\n      <th>...</th>\n      <td>...</td>\n      <td>...</td>\n    </tr>\n    <tr>\n      <th>11416</th>\n      <td>Atheism-is-Unstoppable-2</td>\n      <td>UCXyLkBdJzh3SfFw6GvHkXKw</td>\n    </tr>\n    <tr>\n      <th>11418</th>\n      <td>Atheism-is-Unstoppable-2</td>\n      <td>UCXyLkBdJzh3SfFw6GvHkXKw</td>\n    </tr>\n    <tr>\n      <th>11422</th>\n      <td>Atheism-is-Unstoppable-2</td>\n      <td>UCXyLkBdJzh3SfFw6GvHkXKw</td>\n    </tr>\n    <tr>\n      <th>11551</th>\n      <td>Secular Talk</td>\n      <td>UCldfgbzNILYZA4dmDt4Cd6A</td>\n    </tr>\n    <tr>\n      <th>11552</th>\n      <td>Secular Talk</td>\n      <td>UCldfgbzNILYZA4dmDt4Cd6A</td>\n    </tr>\n  </tbody>\n</table>\n<p>398 rows × 2 columns</p>\n</div>"
     },
     "execution_count": 5,
     "metadata": {},
     "output_type": "execute_result"
    }
   ],
   "source": [
    "ledwich_df = ledwich_df.loc[:][['CHANNEL_TITLE', 'CHANNEL_ID']]\n",
    "ledwich_df"
   ]
  },
  {
   "cell_type": "code",
   "execution_count": 6,
   "id": "50136397",
   "metadata": {},
   "outputs": [
    {
     "data": {
      "text/plain": "                 Name                        Id\n975   Amazing Atheist  UCjNxszyFPasDdRoD9J6X-sw\n1017      Thunderf00t  UCmb8hO2ilV9vRa8cilis88A\n1018      Thunderf00t  UCmb8hO2ilV9vRa8cilis88A\n1082      JaclynGlenn  UCravYcv6C0CopL2ukVzhzNw\n1086      JaclynGlenn  UCravYcv6C0CopL2ukVzhzNw",
      "text/html": "<div>\n<style scoped>\n    .dataframe tbody tr th:only-of-type {\n        vertical-align: middle;\n    }\n\n    .dataframe tbody tr th {\n        vertical-align: top;\n    }\n\n    .dataframe thead th {\n        text-align: right;\n    }\n</style>\n<table border=\"1\" class=\"dataframe\">\n  <thead>\n    <tr style=\"text-align: right;\">\n      <th></th>\n      <th>Name</th>\n      <th>Id</th>\n    </tr>\n  </thead>\n  <tbody>\n    <tr>\n      <th>975</th>\n      <td>Amazing Atheist</td>\n      <td>UCjNxszyFPasDdRoD9J6X-sw</td>\n    </tr>\n    <tr>\n      <th>1017</th>\n      <td>Thunderf00t</td>\n      <td>UCmb8hO2ilV9vRa8cilis88A</td>\n    </tr>\n    <tr>\n      <th>1018</th>\n      <td>Thunderf00t</td>\n      <td>UCmb8hO2ilV9vRa8cilis88A</td>\n    </tr>\n    <tr>\n      <th>1082</th>\n      <td>JaclynGlenn</td>\n      <td>UCravYcv6C0CopL2ukVzhzNw</td>\n    </tr>\n    <tr>\n      <th>1086</th>\n      <td>JaclynGlenn</td>\n      <td>UCravYcv6C0CopL2ukVzhzNw</td>\n    </tr>\n  </tbody>\n</table>\n</div>"
     },
     "execution_count": 6,
     "metadata": {},
     "output_type": "execute_result"
    }
   ],
   "source": [
    "ledwich_df = ledwich_df.rename(columns={'CHANNEL_TITLE':'Name', 'CHANNEL_ID':'Id'})\n",
    "ledwich_df.head()"
   ]
  },
  {
   "cell_type": "code",
   "execution_count": 7,
   "id": "b675ea2f",
   "metadata": {},
   "outputs": [
    {
     "data": {
      "text/plain": "                 Name                        Id    Category\n975   Amazing Atheist  UCjNxszyFPasDdRoD9J6X-sw  Antitheist\n1017      Thunderf00t  UCmb8hO2ilV9vRa8cilis88A  Antitheist\n1018      Thunderf00t  UCmb8hO2ilV9vRa8cilis88A  Antitheist\n1082      JaclynGlenn  UCravYcv6C0CopL2ukVzhzNw  Antitheist\n1086      JaclynGlenn  UCravYcv6C0CopL2ukVzhzNw  Antitheist",
      "text/html": "<div>\n<style scoped>\n    .dataframe tbody tr th:only-of-type {\n        vertical-align: middle;\n    }\n\n    .dataframe tbody tr th {\n        vertical-align: top;\n    }\n\n    .dataframe thead th {\n        text-align: right;\n    }\n</style>\n<table border=\"1\" class=\"dataframe\">\n  <thead>\n    <tr style=\"text-align: right;\">\n      <th></th>\n      <th>Name</th>\n      <th>Id</th>\n      <th>Category</th>\n    </tr>\n  </thead>\n  <tbody>\n    <tr>\n      <th>975</th>\n      <td>Amazing Atheist</td>\n      <td>UCjNxszyFPasDdRoD9J6X-sw</td>\n      <td>Antitheist</td>\n    </tr>\n    <tr>\n      <th>1017</th>\n      <td>Thunderf00t</td>\n      <td>UCmb8hO2ilV9vRa8cilis88A</td>\n      <td>Antitheist</td>\n    </tr>\n    <tr>\n      <th>1018</th>\n      <td>Thunderf00t</td>\n      <td>UCmb8hO2ilV9vRa8cilis88A</td>\n      <td>Antitheist</td>\n    </tr>\n    <tr>\n      <th>1082</th>\n      <td>JaclynGlenn</td>\n      <td>UCravYcv6C0CopL2ukVzhzNw</td>\n      <td>Antitheist</td>\n    </tr>\n    <tr>\n      <th>1086</th>\n      <td>JaclynGlenn</td>\n      <td>UCravYcv6C0CopL2ukVzhzNw</td>\n      <td>Antitheist</td>\n    </tr>\n  </tbody>\n</table>\n</div>"
     },
     "execution_count": 7,
     "metadata": {},
     "output_type": "execute_result"
    }
   ],
   "source": [
    "ledwich_df['Category'] = ['Antitheist' for i in range(len(ledwich_df['Name']))]\n",
    "ledwich_df.head()"
   ]
  },
  {
   "cell_type": "code",
   "execution_count": 7,
   "id": "ba7f78de",
   "metadata": {},
   "outputs": [],
   "source": []
  },
  {
   "cell_type": "code",
   "execution_count": 8,
   "id": "e15c8ec3",
   "metadata": {},
   "outputs": [
    {
     "data": {
      "text/plain": "                   Name  Category  Data Collection step  \\\n0      DailyCallerVideo  Alt-lite                     2   \n1  Liberty Machine News  Alt-lite                     2   \n2      AIU-Resurrection  Alt-lite                     2   \n3         Tree Of Logic  Alt-lite                     2   \n4             DailyKenn  Alt-lite                     2   \n\n                         Id  \n0  UCfDdlNLRVb1h3_7Xh-WhL3w  \n1  UCso6oQ3qy7z61Fr8b0WNBMw  \n2  UCplXdu0g94UynzYCmO2zOjw  \n3  UCl3RCEtooHD5bhPCHJw3btA  \n4  UCbukZErY9SjdGTHabMzY7qg  ",
      "text/html": "<div>\n<style scoped>\n    .dataframe tbody tr th:only-of-type {\n        vertical-align: middle;\n    }\n\n    .dataframe tbody tr th {\n        vertical-align: top;\n    }\n\n    .dataframe thead th {\n        text-align: right;\n    }\n</style>\n<table border=\"1\" class=\"dataframe\">\n  <thead>\n    <tr style=\"text-align: right;\">\n      <th></th>\n      <th>Name</th>\n      <th>Category</th>\n      <th>Data Collection step</th>\n      <th>Id</th>\n    </tr>\n  </thead>\n  <tbody>\n    <tr>\n      <th>0</th>\n      <td>DailyCallerVideo</td>\n      <td>Alt-lite</td>\n      <td>2</td>\n      <td>UCfDdlNLRVb1h3_7Xh-WhL3w</td>\n    </tr>\n    <tr>\n      <th>1</th>\n      <td>Liberty Machine News</td>\n      <td>Alt-lite</td>\n      <td>2</td>\n      <td>UCso6oQ3qy7z61Fr8b0WNBMw</td>\n    </tr>\n    <tr>\n      <th>2</th>\n      <td>AIU-Resurrection</td>\n      <td>Alt-lite</td>\n      <td>2</td>\n      <td>UCplXdu0g94UynzYCmO2zOjw</td>\n    </tr>\n    <tr>\n      <th>3</th>\n      <td>Tree Of Logic</td>\n      <td>Alt-lite</td>\n      <td>2</td>\n      <td>UCl3RCEtooHD5bhPCHJw3btA</td>\n    </tr>\n    <tr>\n      <th>4</th>\n      <td>DailyKenn</td>\n      <td>Alt-lite</td>\n      <td>2</td>\n      <td>UCbukZErY9SjdGTHabMzY7qg</td>\n    </tr>\n  </tbody>\n</table>\n</div>"
     },
     "execution_count": 8,
     "metadata": {},
     "output_type": "execute_result"
    }
   ],
   "source": [
    "ribeiro_df = pd.read_csv('./sources/ribeiro.csv')\n",
    "ribeiro_df.head()"
   ]
  },
  {
   "cell_type": "code",
   "execution_count": 9,
   "id": "e87c3e22",
   "metadata": {},
   "outputs": [
    {
     "data": {
      "text/plain": "array(['Alt-lite', 'Alt-right', 'Incel', 'Intellectual Dark Web', 'NONE',\n       'MGTOW', 'MRA', 'PUA', 'PUA ', 'center', 'left', 'left-center',\n       'right-center', 'right'], dtype=object)"
     },
     "execution_count": 9,
     "metadata": {},
     "output_type": "execute_result"
    }
   ],
   "source": [
    "ribeiro_df['Category'].unique()"
   ]
  },
  {
   "cell_type": "code",
   "execution_count": 10,
   "id": "a95bee80",
   "metadata": {},
   "outputs": [],
   "source": [
    "# Fix error of 'PUA ' --> 'PUA'\n",
    "ribeiro_df = ribeiro_df.replace('PUA ', 'PUA')"
   ]
  },
  {
   "cell_type": "code",
   "execution_count": 11,
   "id": "6ff5a113",
   "metadata": {},
   "outputs": [
    {
     "data": {
      "text/plain": "array(['Alt-lite', 'Alt-right', 'Incel', 'Intellectual Dark Web', 'NONE',\n       'MGTOW', 'MRA', 'PUA', 'center', 'left', 'left-center',\n       'right-center', 'right'], dtype=object)"
     },
     "execution_count": 11,
     "metadata": {},
     "output_type": "execute_result"
    }
   ],
   "source": [
    "ribeiro_df['Category'].unique()"
   ]
  },
  {
   "cell_type": "code",
   "execution_count": 12,
   "id": "0471e1a7",
   "metadata": {},
   "outputs": [
    {
     "data": {
      "text/plain": "                   Name  Category  Data Collection step  \\\n0      DailyCallerVideo  Alt-lite                     2   \n1  Liberty Machine News  Alt-lite                     2   \n2      AIU-Resurrection  Alt-lite                     2   \n3         Tree Of Logic  Alt-lite                     2   \n4             DailyKenn  Alt-lite                     2   \n\n                         Id  \n0  UCfDdlNLRVb1h3_7Xh-WhL3w  \n1  UCso6oQ3qy7z61Fr8b0WNBMw  \n2  UCplXdu0g94UynzYCmO2zOjw  \n3  UCl3RCEtooHD5bhPCHJw3btA  \n4  UCbukZErY9SjdGTHabMzY7qg  ",
      "text/html": "<div>\n<style scoped>\n    .dataframe tbody tr th:only-of-type {\n        vertical-align: middle;\n    }\n\n    .dataframe tbody tr th {\n        vertical-align: top;\n    }\n\n    .dataframe thead th {\n        text-align: right;\n    }\n</style>\n<table border=\"1\" class=\"dataframe\">\n  <thead>\n    <tr style=\"text-align: right;\">\n      <th></th>\n      <th>Name</th>\n      <th>Category</th>\n      <th>Data Collection step</th>\n      <th>Id</th>\n    </tr>\n  </thead>\n  <tbody>\n    <tr>\n      <th>0</th>\n      <td>DailyCallerVideo</td>\n      <td>Alt-lite</td>\n      <td>2</td>\n      <td>UCfDdlNLRVb1h3_7Xh-WhL3w</td>\n    </tr>\n    <tr>\n      <th>1</th>\n      <td>Liberty Machine News</td>\n      <td>Alt-lite</td>\n      <td>2</td>\n      <td>UCso6oQ3qy7z61Fr8b0WNBMw</td>\n    </tr>\n    <tr>\n      <th>2</th>\n      <td>AIU-Resurrection</td>\n      <td>Alt-lite</td>\n      <td>2</td>\n      <td>UCplXdu0g94UynzYCmO2zOjw</td>\n    </tr>\n    <tr>\n      <th>3</th>\n      <td>Tree Of Logic</td>\n      <td>Alt-lite</td>\n      <td>2</td>\n      <td>UCl3RCEtooHD5bhPCHJw3btA</td>\n    </tr>\n    <tr>\n      <th>4</th>\n      <td>DailyKenn</td>\n      <td>Alt-lite</td>\n      <td>2</td>\n      <td>UCbukZErY9SjdGTHabMzY7qg</td>\n    </tr>\n  </tbody>\n</table>\n</div>"
     },
     "execution_count": 12,
     "metadata": {},
     "output_type": "execute_result"
    }
   ],
   "source": [
    "categories = ['Alt-lite', 'Alt-right', 'Incel', 'Intellectual Dark Web', 'MGTOW', 'MRA', 'PUA']\n",
    "ribeiro_df = ribeiro_df[ribeiro_df['Category'].isin(categories)]\n",
    "ribeiro_df.head()"
   ]
  },
  {
   "cell_type": "code",
   "execution_count": 13,
   "id": "aecebe01",
   "metadata": {},
   "outputs": [
    {
     "data": {
      "text/plain": "                       Name  Data Collection step   Id\nCategory                                              \nAlt-lite                113                   113  113\nAlt-right                88                    88   88\nIncel                    42                    42   42\nIntellectual Dark Web    89                    89   89\nMGTOW                    80                    80   80\nMRA                      33                    33   33\nPUA                     124                   124  124",
      "text/html": "<div>\n<style scoped>\n    .dataframe tbody tr th:only-of-type {\n        vertical-align: middle;\n    }\n\n    .dataframe tbody tr th {\n        vertical-align: top;\n    }\n\n    .dataframe thead th {\n        text-align: right;\n    }\n</style>\n<table border=\"1\" class=\"dataframe\">\n  <thead>\n    <tr style=\"text-align: right;\">\n      <th></th>\n      <th>Name</th>\n      <th>Data Collection step</th>\n      <th>Id</th>\n    </tr>\n    <tr>\n      <th>Category</th>\n      <th></th>\n      <th></th>\n      <th></th>\n    </tr>\n  </thead>\n  <tbody>\n    <tr>\n      <th>Alt-lite</th>\n      <td>113</td>\n      <td>113</td>\n      <td>113</td>\n    </tr>\n    <tr>\n      <th>Alt-right</th>\n      <td>88</td>\n      <td>88</td>\n      <td>88</td>\n    </tr>\n    <tr>\n      <th>Incel</th>\n      <td>42</td>\n      <td>42</td>\n      <td>42</td>\n    </tr>\n    <tr>\n      <th>Intellectual Dark Web</th>\n      <td>89</td>\n      <td>89</td>\n      <td>89</td>\n    </tr>\n    <tr>\n      <th>MGTOW</th>\n      <td>80</td>\n      <td>80</td>\n      <td>80</td>\n    </tr>\n    <tr>\n      <th>MRA</th>\n      <td>33</td>\n      <td>33</td>\n      <td>33</td>\n    </tr>\n    <tr>\n      <th>PUA</th>\n      <td>124</td>\n      <td>124</td>\n      <td>124</td>\n    </tr>\n  </tbody>\n</table>\n</div>"
     },
     "execution_count": 13,
     "metadata": {},
     "output_type": "execute_result"
    }
   ],
   "source": [
    "ribeiro_df.groupby(['Category']).agg('count')"
   ]
  },
  {
   "cell_type": "code",
   "execution_count": 14,
   "id": "b912bcdb",
   "metadata": {},
   "outputs": [
    {
     "data": {
      "text/plain": "                   Name                        Id  Category\n0      DailyCallerVideo  UCfDdlNLRVb1h3_7Xh-WhL3w  Alt-lite\n1  Liberty Machine News  UCso6oQ3qy7z61Fr8b0WNBMw  Alt-lite\n2      AIU-Resurrection  UCplXdu0g94UynzYCmO2zOjw  Alt-lite\n3         Tree Of Logic  UCl3RCEtooHD5bhPCHJw3btA  Alt-lite\n4             DailyKenn  UCbukZErY9SjdGTHabMzY7qg  Alt-lite",
      "text/html": "<div>\n<style scoped>\n    .dataframe tbody tr th:only-of-type {\n        vertical-align: middle;\n    }\n\n    .dataframe tbody tr th {\n        vertical-align: top;\n    }\n\n    .dataframe thead th {\n        text-align: right;\n    }\n</style>\n<table border=\"1\" class=\"dataframe\">\n  <thead>\n    <tr style=\"text-align: right;\">\n      <th></th>\n      <th>Name</th>\n      <th>Id</th>\n      <th>Category</th>\n    </tr>\n  </thead>\n  <tbody>\n    <tr>\n      <th>0</th>\n      <td>DailyCallerVideo</td>\n      <td>UCfDdlNLRVb1h3_7Xh-WhL3w</td>\n      <td>Alt-lite</td>\n    </tr>\n    <tr>\n      <th>1</th>\n      <td>Liberty Machine News</td>\n      <td>UCso6oQ3qy7z61Fr8b0WNBMw</td>\n      <td>Alt-lite</td>\n    </tr>\n    <tr>\n      <th>2</th>\n      <td>AIU-Resurrection</td>\n      <td>UCplXdu0g94UynzYCmO2zOjw</td>\n      <td>Alt-lite</td>\n    </tr>\n    <tr>\n      <th>3</th>\n      <td>Tree Of Logic</td>\n      <td>UCl3RCEtooHD5bhPCHJw3btA</td>\n      <td>Alt-lite</td>\n    </tr>\n    <tr>\n      <th>4</th>\n      <td>DailyKenn</td>\n      <td>UCbukZErY9SjdGTHabMzY7qg</td>\n      <td>Alt-lite</td>\n    </tr>\n  </tbody>\n</table>\n</div>"
     },
     "execution_count": 14,
     "metadata": {},
     "output_type": "execute_result"
    }
   ],
   "source": [
    "ribeiro_df = ribeiro_df[:][['Name','Id', 'Category']]\n",
    "ribeiro_df.head()"
   ]
  },
  {
   "cell_type": "code",
   "execution_count": 14,
   "id": "825a7cbd",
   "metadata": {},
   "outputs": [],
   "source": []
  },
  {
   "cell_type": "markdown",
   "id": "8650cc22",
   "metadata": {},
   "source": [
    "Combine!"
   ]
  },
  {
   "cell_type": "code",
   "execution_count": 15,
   "id": "c48895ce",
   "metadata": {},
   "outputs": [
    {
     "data": {
      "text/plain": "                 Name                        Id    Category\n975   Amazing Atheist  UCjNxszyFPasDdRoD9J6X-sw  Antitheist\n1017      Thunderf00t  UCmb8hO2ilV9vRa8cilis88A  Antitheist\n1018      Thunderf00t  UCmb8hO2ilV9vRa8cilis88A  Antitheist\n1082      JaclynGlenn  UCravYcv6C0CopL2ukVzhzNw  Antitheist\n1086      JaclynGlenn  UCravYcv6C0CopL2ukVzhzNw  Antitheist",
      "text/html": "<div>\n<style scoped>\n    .dataframe tbody tr th:only-of-type {\n        vertical-align: middle;\n    }\n\n    .dataframe tbody tr th {\n        vertical-align: top;\n    }\n\n    .dataframe thead th {\n        text-align: right;\n    }\n</style>\n<table border=\"1\" class=\"dataframe\">\n  <thead>\n    <tr style=\"text-align: right;\">\n      <th></th>\n      <th>Name</th>\n      <th>Id</th>\n      <th>Category</th>\n    </tr>\n  </thead>\n  <tbody>\n    <tr>\n      <th>975</th>\n      <td>Amazing Atheist</td>\n      <td>UCjNxszyFPasDdRoD9J6X-sw</td>\n      <td>Antitheist</td>\n    </tr>\n    <tr>\n      <th>1017</th>\n      <td>Thunderf00t</td>\n      <td>UCmb8hO2ilV9vRa8cilis88A</td>\n      <td>Antitheist</td>\n    </tr>\n    <tr>\n      <th>1018</th>\n      <td>Thunderf00t</td>\n      <td>UCmb8hO2ilV9vRa8cilis88A</td>\n      <td>Antitheist</td>\n    </tr>\n    <tr>\n      <th>1082</th>\n      <td>JaclynGlenn</td>\n      <td>UCravYcv6C0CopL2ukVzhzNw</td>\n      <td>Antitheist</td>\n    </tr>\n    <tr>\n      <th>1086</th>\n      <td>JaclynGlenn</td>\n      <td>UCravYcv6C0CopL2ukVzhzNw</td>\n      <td>Antitheist</td>\n    </tr>\n  </tbody>\n</table>\n</div>"
     },
     "execution_count": 15,
     "metadata": {},
     "output_type": "execute_result"
    }
   ],
   "source": [
    "ledwich_df.head()"
   ]
  },
  {
   "cell_type": "code",
   "execution_count": 16,
   "id": "0daa3694",
   "metadata": {},
   "outputs": [
    {
     "data": {
      "text/plain": "                   Name                        Id  Category\n0      DailyCallerVideo  UCfDdlNLRVb1h3_7Xh-WhL3w  Alt-lite\n1  Liberty Machine News  UCso6oQ3qy7z61Fr8b0WNBMw  Alt-lite\n2      AIU-Resurrection  UCplXdu0g94UynzYCmO2zOjw  Alt-lite\n3         Tree Of Logic  UCl3RCEtooHD5bhPCHJw3btA  Alt-lite\n4             DailyKenn  UCbukZErY9SjdGTHabMzY7qg  Alt-lite",
      "text/html": "<div>\n<style scoped>\n    .dataframe tbody tr th:only-of-type {\n        vertical-align: middle;\n    }\n\n    .dataframe tbody tr th {\n        vertical-align: top;\n    }\n\n    .dataframe thead th {\n        text-align: right;\n    }\n</style>\n<table border=\"1\" class=\"dataframe\">\n  <thead>\n    <tr style=\"text-align: right;\">\n      <th></th>\n      <th>Name</th>\n      <th>Id</th>\n      <th>Category</th>\n    </tr>\n  </thead>\n  <tbody>\n    <tr>\n      <th>0</th>\n      <td>DailyCallerVideo</td>\n      <td>UCfDdlNLRVb1h3_7Xh-WhL3w</td>\n      <td>Alt-lite</td>\n    </tr>\n    <tr>\n      <th>1</th>\n      <td>Liberty Machine News</td>\n      <td>UCso6oQ3qy7z61Fr8b0WNBMw</td>\n      <td>Alt-lite</td>\n    </tr>\n    <tr>\n      <th>2</th>\n      <td>AIU-Resurrection</td>\n      <td>UCplXdu0g94UynzYCmO2zOjw</td>\n      <td>Alt-lite</td>\n    </tr>\n    <tr>\n      <th>3</th>\n      <td>Tree Of Logic</td>\n      <td>UCl3RCEtooHD5bhPCHJw3btA</td>\n      <td>Alt-lite</td>\n    </tr>\n    <tr>\n      <th>4</th>\n      <td>DailyKenn</td>\n      <td>UCbukZErY9SjdGTHabMzY7qg</td>\n      <td>Alt-lite</td>\n    </tr>\n  </tbody>\n</table>\n</div>"
     },
     "execution_count": 16,
     "metadata": {},
     "output_type": "execute_result"
    }
   ],
   "source": [
    "ribeiro_df.head()"
   ]
  },
  {
   "cell_type": "code",
   "execution_count": 17,
   "id": "e1c7195b",
   "metadata": {},
   "outputs": [
    {
     "data": {
      "text/plain": "              Name                        Id    Category\n0  Amazing Atheist  UCjNxszyFPasDdRoD9J6X-sw  Antitheist\n1      Thunderf00t  UCmb8hO2ilV9vRa8cilis88A  Antitheist\n2      Thunderf00t  UCmb8hO2ilV9vRa8cilis88A  Antitheist\n3      JaclynGlenn  UCravYcv6C0CopL2ukVzhzNw  Antitheist\n4      JaclynGlenn  UCravYcv6C0CopL2ukVzhzNw  Antitheist",
      "text/html": "<div>\n<style scoped>\n    .dataframe tbody tr th:only-of-type {\n        vertical-align: middle;\n    }\n\n    .dataframe tbody tr th {\n        vertical-align: top;\n    }\n\n    .dataframe thead th {\n        text-align: right;\n    }\n</style>\n<table border=\"1\" class=\"dataframe\">\n  <thead>\n    <tr style=\"text-align: right;\">\n      <th></th>\n      <th>Name</th>\n      <th>Id</th>\n      <th>Category</th>\n    </tr>\n  </thead>\n  <tbody>\n    <tr>\n      <th>0</th>\n      <td>Amazing Atheist</td>\n      <td>UCjNxszyFPasDdRoD9J6X-sw</td>\n      <td>Antitheist</td>\n    </tr>\n    <tr>\n      <th>1</th>\n      <td>Thunderf00t</td>\n      <td>UCmb8hO2ilV9vRa8cilis88A</td>\n      <td>Antitheist</td>\n    </tr>\n    <tr>\n      <th>2</th>\n      <td>Thunderf00t</td>\n      <td>UCmb8hO2ilV9vRa8cilis88A</td>\n      <td>Antitheist</td>\n    </tr>\n    <tr>\n      <th>3</th>\n      <td>JaclynGlenn</td>\n      <td>UCravYcv6C0CopL2ukVzhzNw</td>\n      <td>Antitheist</td>\n    </tr>\n    <tr>\n      <th>4</th>\n      <td>JaclynGlenn</td>\n      <td>UCravYcv6C0CopL2ukVzhzNw</td>\n      <td>Antitheist</td>\n    </tr>\n  </tbody>\n</table>\n</div>"
     },
     "execution_count": 17,
     "metadata": {},
     "output_type": "execute_result"
    }
   ],
   "source": [
    "combine_df = pd.concat([ledwich_df, ribeiro_df], ignore_index=True)\n",
    "combine_df.head()"
   ]
  },
  {
   "cell_type": "code",
   "execution_count": 18,
   "id": "6a1b58d3",
   "metadata": {},
   "outputs": [
    {
     "data": {
      "text/plain": "(819, 3)"
     },
     "execution_count": 18,
     "metadata": {},
     "output_type": "execute_result"
    }
   ],
   "source": [
    "# Drop duplicates (there are some duplicates in Ribeiro due to them listing each collection step's channels)\n",
    "combine_df = combine_df.drop_duplicates()\n",
    "combine_df.shape"
   ]
  },
  {
   "cell_type": "code",
   "execution_count": 19,
   "id": "b8e4ea45",
   "metadata": {},
   "outputs": [
    {
     "data": {
      "text/plain": "(398, 3)"
     },
     "execution_count": 19,
     "metadata": {},
     "output_type": "execute_result"
    }
   ],
   "source": [
    "ledwich_df.shape"
   ]
  },
  {
   "cell_type": "code",
   "execution_count": 20,
   "id": "f907cc0a",
   "metadata": {},
   "outputs": [
    {
     "data": {
      "text/plain": "(569, 3)"
     },
     "execution_count": 20,
     "metadata": {},
     "output_type": "execute_result"
    }
   ],
   "source": [
    "ribeiro_df.shape"
   ]
  },
  {
   "cell_type": "code",
   "execution_count": 21,
   "id": "36b4c86d",
   "metadata": {},
   "outputs": [],
   "source": [
    "from api import api_channel"
   ]
  },
  {
   "cell_type": "code",
   "execution_count": 22,
   "id": "f329ddde",
   "metadata": {},
   "outputs": [
    {
     "data": {
      "text/plain": "0      UCjNxszyFPasDdRoD9J6X-sw\n1      UCmb8hO2ilV9vRa8cilis88A\n3      UCravYcv6C0CopL2ukVzhzNw\n5      UCYnwmslj2knI9iAiXM4UOgg\n6      UCgGgkVyadk0TdxmVzYcAM-Q\n                 ...           \n962    UCvF7Ll_WOgQWOw0KZJsVNXQ\n963    UCi-ZsSk7G8z2G12KgTjKgZw\n964    UCUVCYTauctWL_VgysXmgTaQ\n965    UC16j6EppP0K85CzYMduNCqw\n966    UCBmkZCMwh-OqGB5eU2W3QXg\nName: Id, Length: 819, dtype: object"
     },
     "execution_count": 22,
     "metadata": {},
     "output_type": "execute_result"
    }
   ],
   "source": [
    "channels = combine_df['Id']\n",
    "channels"
   ]
  },
  {
   "cell_type": "code",
   "execution_count": 23,
   "id": "8d2127a4",
   "metadata": {},
   "outputs": [],
   "source": [
    "# TODO: Place this in the api\n",
    "subs = []\n",
    "descriptions = []\n",
    "available = []\n",
    "for cid in channels:\n",
    "    items = api_channel(cid)\n",
    "    sub = None\n",
    "    des = None\n",
    "    if items and len(items)>0:\n",
    "        item = items[0]\n",
    "        if 'statistics' in item.keys():\n",
    "            if 'subscriberCount' in item['statistics'].keys():\n",
    "                sub = item['statistics']['subscriberCount']\n",
    "        if 'snippet' in item.keys():\n",
    "            if 'description' in item['snippet'].keys():\n",
    "                des = item['snippet']['description']\n",
    "        subs.append(sub)\n",
    "        descriptions.append(des)\n",
    "        available.append(True)\n",
    "    else:\n",
    "        subs.append(None)\n",
    "        descriptions.append(None)\n",
    "        available.append(False)"
   ]
  },
  {
   "cell_type": "code",
   "execution_count": 24,
   "id": "ddaf6a50",
   "metadata": {},
   "outputs": [],
   "source": [
    "combine_df['Subscribers'] = subs\n",
    "combine_df['Description'] = descriptions\n",
    "combine_df['Available'] = available"
   ]
  },
  {
   "cell_type": "code",
   "execution_count": 25,
   "id": "3d2de2c5",
   "metadata": {},
   "outputs": [
    {
     "data": {
      "text/plain": "              Name                        Id    Category Subscribers  \\\n0  Amazing Atheist  UCjNxszyFPasDdRoD9J6X-sw  Antitheist      966000   \n1      Thunderf00t  UCmb8hO2ilV9vRa8cilis88A  Antitheist     1010000   \n3      JaclynGlenn  UCravYcv6C0CopL2ukVzhzNw  Antitheist      813000   \n5      Desertphile  UCYnwmslj2knI9iAiXM4UOgg  Antitheist       10800   \n6  Hannah and Jake  UCgGgkVyadk0TdxmVzYcAM-Q  Antitheist      153000   \n\n                                         Description  Available  \n0  The Amazing Atheist is a professional ranter w...       True  \n1  The true beauty of a self-inquiring sentient u...       True  \n3  I'm on every social platform @jaclynglenn \\n\\n...       True  \n5  Gravity.  GRAVITY!\\n\\nPsycho anti-social ravin...       True  \n6  Hannah and Jake sit and talk about everything,...       True  ",
      "text/html": "<div>\n<style scoped>\n    .dataframe tbody tr th:only-of-type {\n        vertical-align: middle;\n    }\n\n    .dataframe tbody tr th {\n        vertical-align: top;\n    }\n\n    .dataframe thead th {\n        text-align: right;\n    }\n</style>\n<table border=\"1\" class=\"dataframe\">\n  <thead>\n    <tr style=\"text-align: right;\">\n      <th></th>\n      <th>Name</th>\n      <th>Id</th>\n      <th>Category</th>\n      <th>Subscribers</th>\n      <th>Description</th>\n      <th>Available</th>\n    </tr>\n  </thead>\n  <tbody>\n    <tr>\n      <th>0</th>\n      <td>Amazing Atheist</td>\n      <td>UCjNxszyFPasDdRoD9J6X-sw</td>\n      <td>Antitheist</td>\n      <td>966000</td>\n      <td>The Amazing Atheist is a professional ranter w...</td>\n      <td>True</td>\n    </tr>\n    <tr>\n      <th>1</th>\n      <td>Thunderf00t</td>\n      <td>UCmb8hO2ilV9vRa8cilis88A</td>\n      <td>Antitheist</td>\n      <td>1010000</td>\n      <td>The true beauty of a self-inquiring sentient u...</td>\n      <td>True</td>\n    </tr>\n    <tr>\n      <th>3</th>\n      <td>JaclynGlenn</td>\n      <td>UCravYcv6C0CopL2ukVzhzNw</td>\n      <td>Antitheist</td>\n      <td>813000</td>\n      <td>I'm on every social platform @jaclynglenn \\n\\n...</td>\n      <td>True</td>\n    </tr>\n    <tr>\n      <th>5</th>\n      <td>Desertphile</td>\n      <td>UCYnwmslj2knI9iAiXM4UOgg</td>\n      <td>Antitheist</td>\n      <td>10800</td>\n      <td>Gravity.  GRAVITY!\\n\\nPsycho anti-social ravin...</td>\n      <td>True</td>\n    </tr>\n    <tr>\n      <th>6</th>\n      <td>Hannah and Jake</td>\n      <td>UCgGgkVyadk0TdxmVzYcAM-Q</td>\n      <td>Antitheist</td>\n      <td>153000</td>\n      <td>Hannah and Jake sit and talk about everything,...</td>\n      <td>True</td>\n    </tr>\n  </tbody>\n</table>\n</div>"
     },
     "execution_count": 25,
     "metadata": {},
     "output_type": "execute_result"
    }
   ],
   "source": [
    "combine_df.head()"
   ]
  },
  {
   "cell_type": "code",
   "execution_count": 26,
   "id": "e85ffa0d",
   "metadata": {},
   "outputs": [],
   "source": [
    "combine_df['Subscribers'] = combine_df['Subscribers'].fillna(-1)"
   ]
  },
  {
   "cell_type": "code",
   "execution_count": 27,
   "id": "c4746dcf",
   "metadata": {},
   "outputs": [],
   "source": [
    "combine_df['Subscribers'] = combine_df['Subscribers'].astype(int)"
   ]
  },
  {
   "cell_type": "code",
   "execution_count": 28,
   "id": "83a5f467",
   "metadata": {},
   "outputs": [
    {
     "data": {
      "text/plain": "(520, 6)"
     },
     "execution_count": 28,
     "metadata": {},
     "output_type": "execute_result"
    }
   ],
   "source": [
    "combine_df[combine_df['Subscribers']>10000].shape"
   ]
  },
  {
   "cell_type": "code",
   "execution_count": 29,
   "id": "770b13c3",
   "metadata": {},
   "outputs": [
    {
     "data": {
      "text/plain": "(819, 6)"
     },
     "execution_count": 29,
     "metadata": {},
     "output_type": "execute_result"
    }
   ],
   "source": [
    "combine_df.shape"
   ]
  },
  {
   "cell_type": "code",
   "execution_count": 30,
   "id": "cc2ca7ab",
   "metadata": {},
   "outputs": [
    {
     "data": {
      "text/plain": "                       Name   Id  Subscribers  Description  Available\nCategory                                                             \nAlt-lite                 73   73           73           73         73\nAlt-right                20   20           20           20         20\nAntitheist              234  234          234          234        234\nIncel                     9    9            9            9          9\nIntellectual Dark Web    61   61           61           61         61\nMGTOW                    30   30           30           30         30\nMRA                      12   12           12           12         12\nPUA                      81   81           81           81         81",
      "text/html": "<div>\n<style scoped>\n    .dataframe tbody tr th:only-of-type {\n        vertical-align: middle;\n    }\n\n    .dataframe tbody tr th {\n        vertical-align: top;\n    }\n\n    .dataframe thead th {\n        text-align: right;\n    }\n</style>\n<table border=\"1\" class=\"dataframe\">\n  <thead>\n    <tr style=\"text-align: right;\">\n      <th></th>\n      <th>Name</th>\n      <th>Id</th>\n      <th>Subscribers</th>\n      <th>Description</th>\n      <th>Available</th>\n    </tr>\n    <tr>\n      <th>Category</th>\n      <th></th>\n      <th></th>\n      <th></th>\n      <th></th>\n      <th></th>\n    </tr>\n  </thead>\n  <tbody>\n    <tr>\n      <th>Alt-lite</th>\n      <td>73</td>\n      <td>73</td>\n      <td>73</td>\n      <td>73</td>\n      <td>73</td>\n    </tr>\n    <tr>\n      <th>Alt-right</th>\n      <td>20</td>\n      <td>20</td>\n      <td>20</td>\n      <td>20</td>\n      <td>20</td>\n    </tr>\n    <tr>\n      <th>Antitheist</th>\n      <td>234</td>\n      <td>234</td>\n      <td>234</td>\n      <td>234</td>\n      <td>234</td>\n    </tr>\n    <tr>\n      <th>Incel</th>\n      <td>9</td>\n      <td>9</td>\n      <td>9</td>\n      <td>9</td>\n      <td>9</td>\n    </tr>\n    <tr>\n      <th>Intellectual Dark Web</th>\n      <td>61</td>\n      <td>61</td>\n      <td>61</td>\n      <td>61</td>\n      <td>61</td>\n    </tr>\n    <tr>\n      <th>MGTOW</th>\n      <td>30</td>\n      <td>30</td>\n      <td>30</td>\n      <td>30</td>\n      <td>30</td>\n    </tr>\n    <tr>\n      <th>MRA</th>\n      <td>12</td>\n      <td>12</td>\n      <td>12</td>\n      <td>12</td>\n      <td>12</td>\n    </tr>\n    <tr>\n      <th>PUA</th>\n      <td>81</td>\n      <td>81</td>\n      <td>81</td>\n      <td>81</td>\n      <td>81</td>\n    </tr>\n  </tbody>\n</table>\n</div>"
     },
     "execution_count": 30,
     "metadata": {},
     "output_type": "execute_result"
    }
   ],
   "source": [
    "combine_df[combine_df['Subscribers']>10000].groupby('Category').agg('count')"
   ]
  },
  {
   "cell_type": "code",
   "execution_count": 31,
   "id": "fb9620b0",
   "metadata": {},
   "outputs": [],
   "source": [
    "combine_df.to_csv('./channels.csv', index=False)"
   ]
  },
  {
   "cell_type": "code",
   "execution_count": null,
   "outputs": [],
   "source": [],
   "metadata": {
    "collapsed": false,
    "pycharm": {
     "name": "#%%\n"
    }
   }
  }
 ],
 "metadata": {
  "kernelspec": {
   "display_name": "Python 3 (ipykernel)",
   "language": "python",
   "name": "python3"
  },
  "language_info": {
   "codemirror_mode": {
    "name": "ipython",
    "version": 3
   },
   "file_extension": ".py",
   "mimetype": "text/x-python",
   "name": "python",
   "nbconvert_exporter": "python",
   "pygments_lexer": "ipython3",
   "version": "3.10.0"
  }
 },
 "nbformat": 4,
 "nbformat_minor": 5
}