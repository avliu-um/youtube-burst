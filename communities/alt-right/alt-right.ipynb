{
 "cells": [
  {
   "cell_type": "code",
   "execution_count": 4,
   "id": "37a7dfdc",
   "metadata": {},
   "outputs": [],
   "source": [
    "import pandas as pd\n",
    "from googleapiclient.discovery import build\n"
   ]
  },
  {
   "cell_type": "markdown",
   "id": "0abcd15f",
   "metadata": {},
   "source": [
    "Generate the list of Alt-Right channel names identified and labeled by Ribeiro et al."
   ]
  },
  {
   "cell_type": "code",
   "execution_count": 5,
   "id": "476f0d80",
   "metadata": {
    "scrolled": true
   },
   "outputs": [
    {
     "data": {
      "text/html": [
       "<div>\n",
       "<style scoped>\n",
       "    .dataframe tbody tr th:only-of-type {\n",
       "        vertical-align: middle;\n",
       "    }\n",
       "\n",
       "    .dataframe tbody tr th {\n",
       "        vertical-align: top;\n",
       "    }\n",
       "\n",
       "    .dataframe thead th {\n",
       "        text-align: right;\n",
       "    }\n",
       "</style>\n",
       "<table border=\"1\" class=\"dataframe\">\n",
       "  <thead>\n",
       "    <tr style=\"text-align: right;\">\n",
       "      <th></th>\n",
       "      <th>Name</th>\n",
       "      <th>Category</th>\n",
       "      <th>Data Collection step</th>\n",
       "      <th>Id</th>\n",
       "    </tr>\n",
       "  </thead>\n",
       "  <tbody>\n",
       "    <tr>\n",
       "      <th>0</th>\n",
       "      <td>DailyCallerVideo</td>\n",
       "      <td>Alt-lite</td>\n",
       "      <td>2</td>\n",
       "      <td>UCfDdlNLRVb1h3_7Xh-WhL3w</td>\n",
       "    </tr>\n",
       "    <tr>\n",
       "      <th>1</th>\n",
       "      <td>Liberty Machine News</td>\n",
       "      <td>Alt-lite</td>\n",
       "      <td>2</td>\n",
       "      <td>UCso6oQ3qy7z61Fr8b0WNBMw</td>\n",
       "    </tr>\n",
       "    <tr>\n",
       "      <th>2</th>\n",
       "      <td>AIU-Resurrection</td>\n",
       "      <td>Alt-lite</td>\n",
       "      <td>2</td>\n",
       "      <td>UCplXdu0g94UynzYCmO2zOjw</td>\n",
       "    </tr>\n",
       "    <tr>\n",
       "      <th>3</th>\n",
       "      <td>Tree Of Logic</td>\n",
       "      <td>Alt-lite</td>\n",
       "      <td>2</td>\n",
       "      <td>UCl3RCEtooHD5bhPCHJw3btA</td>\n",
       "    </tr>\n",
       "    <tr>\n",
       "      <th>4</th>\n",
       "      <td>DailyKenn</td>\n",
       "      <td>Alt-lite</td>\n",
       "      <td>2</td>\n",
       "      <td>UCbukZErY9SjdGTHabMzY7qg</td>\n",
       "    </tr>\n",
       "  </tbody>\n",
       "</table>\n",
       "</div>"
      ],
      "text/plain": [
       "                   Name  Category  Data Collection step  \\\n",
       "0      DailyCallerVideo  Alt-lite                     2   \n",
       "1  Liberty Machine News  Alt-lite                     2   \n",
       "2      AIU-Resurrection  Alt-lite                     2   \n",
       "3         Tree Of Logic  Alt-lite                     2   \n",
       "4             DailyKenn  Alt-lite                     2   \n",
       "\n",
       "                         Id  \n",
       "0  UCfDdlNLRVb1h3_7Xh-WhL3w  \n",
       "1  UCso6oQ3qy7z61Fr8b0WNBMw  \n",
       "2  UCplXdu0g94UynzYCmO2zOjw  \n",
       "3  UCl3RCEtooHD5bhPCHJw3btA  \n",
       "4  UCbukZErY9SjdGTHabMzY7qg  "
      ]
     },
     "execution_count": 5,
     "metadata": {},
     "output_type": "execute_result"
    }
   ],
   "source": [
    "ain_df = pd.read_csv('./ribeiro_ain.csv')\n",
    "ain_df.head()"
   ]
  },
  {
   "cell_type": "code",
   "execution_count": 6,
   "id": "09d61900",
   "metadata": {},
   "outputs": [
    {
     "data": {
      "text/html": [
       "<div>\n",
       "<style scoped>\n",
       "    .dataframe tbody tr th:only-of-type {\n",
       "        vertical-align: middle;\n",
       "    }\n",
       "\n",
       "    .dataframe tbody tr th {\n",
       "        vertical-align: top;\n",
       "    }\n",
       "\n",
       "    .dataframe thead th {\n",
       "        text-align: right;\n",
       "    }\n",
       "</style>\n",
       "<table border=\"1\" class=\"dataframe\">\n",
       "  <thead>\n",
       "    <tr style=\"text-align: right;\">\n",
       "      <th></th>\n",
       "      <th>Name</th>\n",
       "      <th>Category</th>\n",
       "      <th>Data Collection step</th>\n",
       "      <th>Id</th>\n",
       "    </tr>\n",
       "  </thead>\n",
       "  <tbody>\n",
       "    <tr>\n",
       "      <th>106</th>\n",
       "      <td>AltRight.com</td>\n",
       "      <td>Alt-right</td>\n",
       "      <td>1</td>\n",
       "      <td>UCSTy-H5lSiCcozas32sfJlQ</td>\n",
       "    </tr>\n",
       "    <tr>\n",
       "      <th>107</th>\n",
       "      <td>AmRenVideos</td>\n",
       "      <td>Alt-right</td>\n",
       "      <td>1</td>\n",
       "      <td>UCMLbmp5tcLxzahMLTmeM4lg</td>\n",
       "    </tr>\n",
       "    <tr>\n",
       "      <th>108</th>\n",
       "      <td>AmRen Podcasts</td>\n",
       "      <td>Alt-right</td>\n",
       "      <td>1</td>\n",
       "      <td>UCyZVnp-_owuoPlzNJNtaxZQ</td>\n",
       "    </tr>\n",
       "    <tr>\n",
       "      <th>109</th>\n",
       "      <td>The Reality Calls Show</td>\n",
       "      <td>Alt-right</td>\n",
       "      <td>1</td>\n",
       "      <td>UCmtALVZjXFzb4v3fIXDmDyw</td>\n",
       "    </tr>\n",
       "    <tr>\n",
       "      <th>110</th>\n",
       "      <td>Faith J Goldy</td>\n",
       "      <td>Alt-right</td>\n",
       "      <td>1</td>\n",
       "      <td>UClMWnUHbxJKJLUgloN1mPUA</td>\n",
       "    </tr>\n",
       "  </tbody>\n",
       "</table>\n",
       "</div>"
      ],
      "text/plain": [
       "                       Name   Category  Data Collection step  \\\n",
       "106            AltRight.com  Alt-right                     1   \n",
       "107             AmRenVideos  Alt-right                     1   \n",
       "108          AmRen Podcasts  Alt-right                     1   \n",
       "109  The Reality Calls Show  Alt-right                     1   \n",
       "110           Faith J Goldy  Alt-right                     1   \n",
       "\n",
       "                           Id  \n",
       "106  UCSTy-H5lSiCcozas32sfJlQ  \n",
       "107  UCMLbmp5tcLxzahMLTmeM4lg  \n",
       "108  UCyZVnp-_owuoPlzNJNtaxZQ  \n",
       "109  UCmtALVZjXFzb4v3fIXDmDyw  \n",
       "110  UClMWnUHbxJKJLUgloN1mPUA  "
      ]
     },
     "execution_count": 6,
     "metadata": {},
     "output_type": "execute_result"
    }
   ],
   "source": [
    "alt_right_df = ain_df[ain_df['Category']=='Alt-right']\n",
    "alt_right_df.head()"
   ]
  },
  {
   "cell_type": "code",
   "execution_count": null,
   "id": "b27b9f93",
   "metadata": {},
   "outputs": [],
   "source": []
  },
  {
   "cell_type": "markdown",
   "id": "00ec5ce4",
   "metadata": {},
   "source": [
    "Generating inital videos to watch"
   ]
  },
  {
   "cell_type": "code",
   "execution_count": 7,
   "id": "fabb05bf",
   "metadata": {},
   "outputs": [],
   "source": [
    "# TODO\n",
    "# Go on these channels, and for the ones that still exist, find some recent videos\n",
    "# Place them in a list and randomly draw, once for each bot we plan on having belong to this community"
   ]
  },
  {
   "cell_type": "code",
   "execution_count": 8,
   "id": "2982c552",
   "metadata": {},
   "outputs": [
    {
     "data": {
      "text/plain": [
       "'UC'"
      ]
     },
     "execution_count": 8,
     "metadata": {},
     "output_type": "execute_result"
    }
   ],
   "source": [
    "test = 'UC_asdc.csv'\n",
    "test[:2]"
   ]
  },
  {
   "cell_type": "code",
   "execution_count": null,
   "id": "04a0372a",
   "metadata": {},
   "outputs": [],
   "source": []
  },
  {
   "cell_type": "code",
   "execution_count": 9,
   "id": "350fab28",
   "metadata": {},
   "outputs": [],
   "source": [
    "# From old build_polarizer (see Alex branch of Siqi's Polarizer code)\n",
    "YOUTUBE_API_SERVICE_NAME = 'youtube'\n",
    "YOUTUBE_API_VERSION = 'v3'\n",
    "dev_key_file = '../yt_api_dev_key.txt'\n",
    "text_file = open(dev_key_file, \"r\")\n",
    "DEVELOPER_KEY = text_file.read()\n",
    "text_file.close()"
   ]
  },
  {
   "cell_type": "code",
   "execution_count": 10,
   "id": "248634bd",
   "metadata": {},
   "outputs": [],
   "source": [
    "def check_api_available(cid):\n",
    "    youtube = build(YOUTUBE_API_SERVICE_NAME, YOUTUBE_API_VERSION, developerKey=DEVELOPER_KEY)\n",
    "    request = youtube.channels().list(\n",
    "        part=\"snippet,contentDetails,statistics\",\n",
    "        id=cid\n",
    "    )\n",
    "    response = request.execute()\n",
    "    if response['pageInfo']['totalResults'] == 0:\n",
    "        return False\n",
    "    return True\n"
   ]
  },
  {
   "cell_type": "code",
   "execution_count": 11,
   "id": "786cdf10",
   "metadata": {},
   "outputs": [],
   "source": [
    "alt_right_ids = []\n",
    "for cid in alt_right_df['Id']:\n",
    "    if check_api_available(cid):\n",
    "        alt_right_ids.append(cid)"
   ]
  },
  {
   "cell_type": "code",
   "execution_count": 12,
   "id": "7de54480",
   "metadata": {},
   "outputs": [],
   "source": [
    "d = {'id':alt_right_ids}\n",
    "df = pd.DataFrame(d)"
   ]
  },
  {
   "cell_type": "code",
   "execution_count": 13,
   "id": "69e513cd",
   "metadata": {},
   "outputs": [],
   "source": [
    "df.to_csv('ribeiro_alt-right.csv', index=False, header=False)"
   ]
  },
  {
   "cell_type": "code",
   "execution_count": null,
   "id": "df0e1f96",
   "metadata": {},
   "outputs": [],
   "source": []
  }
 ],
 "metadata": {
  "kernelspec": {
   "display_name": "Python 3 (ipykernel)",
   "language": "python",
   "name": "python3"
  },
  "language_info": {
   "codemirror_mode": {
    "name": "ipython",
    "version": 3
   },
   "file_extension": ".py",
   "mimetype": "text/x-python",
   "name": "python",
   "nbconvert_exporter": "python",
   "pygments_lexer": "ipython3",
   "version": "3.8.12"
  }
 },
 "nbformat": 4,
 "nbformat_minor": 5
}
