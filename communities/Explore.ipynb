{
 "cells": [
  {
   "cell_type": "code",
   "execution_count": 41,
   "id": "2932c80f",
   "metadata": {},
   "outputs": [],
   "source": [
    "import pandas as pd"
   ]
  },
  {
   "cell_type": "markdown",
   "id": "07f1a859",
   "metadata": {},
   "source": [
    "Seeing if alt-right, our original topic, has any intersection with antitheist, our proposed new topic"
   ]
  },
  {
   "cell_type": "code",
   "execution_count": 42,
   "id": "3f12b8be",
   "metadata": {},
   "outputs": [
    {
     "data": {
      "text/html": [
       "<div>\n",
       "<style scoped>\n",
       "    .dataframe tbody tr th:only-of-type {\n",
       "        vertical-align: middle;\n",
       "    }\n",
       "\n",
       "    .dataframe tbody tr th {\n",
       "        vertical-align: top;\n",
       "    }\n",
       "\n",
       "    .dataframe thead th {\n",
       "        text-align: right;\n",
       "    }\n",
       "</style>\n",
       "<table border=\"1\" class=\"dataframe\">\n",
       "  <thead>\n",
       "    <tr style=\"text-align: right;\">\n",
       "      <th></th>\n",
       "      <th>0</th>\n",
       "    </tr>\n",
       "  </thead>\n",
       "  <tbody>\n",
       "    <tr>\n",
       "      <th>0</th>\n",
       "      <td>UCSTy-H5lSiCcozas32sfJlQ</td>\n",
       "    </tr>\n",
       "    <tr>\n",
       "      <th>1</th>\n",
       "      <td>UCmtALVZjXFzb4v3fIXDmDyw</td>\n",
       "    </tr>\n",
       "    <tr>\n",
       "      <th>2</th>\n",
       "      <td>UClMWnUHbxJKJLUgloN1mPUA</td>\n",
       "    </tr>\n",
       "    <tr>\n",
       "      <th>3</th>\n",
       "      <td>UC4f8Z2XefBDL421pnNEQH0Q</td>\n",
       "    </tr>\n",
       "    <tr>\n",
       "      <th>4</th>\n",
       "      <td>UCFc0stDRUkeBDc36qZeox1g</td>\n",
       "    </tr>\n",
       "  </tbody>\n",
       "</table>\n",
       "</div>"
      ],
      "text/plain": [
       "                          0\n",
       "0  UCSTy-H5lSiCcozas32sfJlQ\n",
       "1  UCmtALVZjXFzb4v3fIXDmDyw\n",
       "2  UClMWnUHbxJKJLUgloN1mPUA\n",
       "3  UC4f8Z2XefBDL421pnNEQH0Q\n",
       "4  UCFc0stDRUkeBDc36qZeox1g"
      ]
     },
     "execution_count": 42,
     "metadata": {},
     "output_type": "execute_result"
    }
   ],
   "source": [
    "alt_right_df = pd.read_csv('alt-right/ribeiro_alt-right.csv', header=None)\n",
    "alt_right_df.head()"
   ]
  },
  {
   "cell_type": "code",
   "execution_count": 43,
   "id": "f83c2e17",
   "metadata": {},
   "outputs": [
    {
     "data": {
      "text/html": [
       "<div>\n",
       "<style scoped>\n",
       "    .dataframe tbody tr th:only-of-type {\n",
       "        vertical-align: middle;\n",
       "    }\n",
       "\n",
       "    .dataframe tbody tr th {\n",
       "        vertical-align: top;\n",
       "    }\n",
       "\n",
       "    .dataframe thead th {\n",
       "        text-align: right;\n",
       "    }\n",
       "</style>\n",
       "<table border=\"1\" class=\"dataframe\">\n",
       "  <thead>\n",
       "    <tr style=\"text-align: right;\">\n",
       "      <th></th>\n",
       "      <th>0</th>\n",
       "    </tr>\n",
       "  </thead>\n",
       "  <tbody>\n",
       "    <tr>\n",
       "      <th>0</th>\n",
       "      <td>UCjNxszyFPasDdRoD9J6X-sw</td>\n",
       "    </tr>\n",
       "    <tr>\n",
       "      <th>1</th>\n",
       "      <td>UCmb8hO2ilV9vRa8cilis88A</td>\n",
       "    </tr>\n",
       "    <tr>\n",
       "      <th>2</th>\n",
       "      <td>UCmb8hO2ilV9vRa8cilis88A</td>\n",
       "    </tr>\n",
       "    <tr>\n",
       "      <th>3</th>\n",
       "      <td>UCravYcv6C0CopL2ukVzhzNw</td>\n",
       "    </tr>\n",
       "    <tr>\n",
       "      <th>4</th>\n",
       "      <td>UCravYcv6C0CopL2ukVzhzNw</td>\n",
       "    </tr>\n",
       "  </tbody>\n",
       "</table>\n",
       "</div>"
      ],
      "text/plain": [
       "                          0\n",
       "0  UCjNxszyFPasDdRoD9J6X-sw\n",
       "1  UCmb8hO2ilV9vRa8cilis88A\n",
       "2  UCmb8hO2ilV9vRa8cilis88A\n",
       "3  UCravYcv6C0CopL2ukVzhzNw\n",
       "4  UCravYcv6C0CopL2ukVzhzNw"
      ]
     },
     "execution_count": 43,
     "metadata": {},
     "output_type": "execute_result"
    }
   ],
   "source": [
    "antitheist_df = pd.read_csv('ledwich_refluence/antitheist.csv', header=None)\n",
    "antitheist_df.head()"
   ]
  },
  {
   "cell_type": "code",
   "execution_count": 44,
   "id": "d183f759",
   "metadata": {},
   "outputs": [
    {
     "name": "stdout",
     "output_type": "stream",
     "text": [
      "set()\n"
     ]
    }
   ],
   "source": [
    "alt_right = set(alt_right_df[0])\n",
    "antitheist = set(antitheist_df[0])\n",
    "intersect = alt_right.intersection(antitheist)\n",
    "print(intersect)"
   ]
  },
  {
   "cell_type": "code",
   "execution_count": null,
   "id": "8e7e4573",
   "metadata": {},
   "outputs": [],
   "source": []
  },
  {
   "cell_type": "code",
   "execution_count": 45,
   "id": "5c07b490",
   "metadata": {},
   "outputs": [
    {
     "data": {
      "text/html": [
       "<div>\n",
       "<style scoped>\n",
       "    .dataframe tbody tr th:only-of-type {\n",
       "        vertical-align: middle;\n",
       "    }\n",
       "\n",
       "    .dataframe tbody tr th {\n",
       "        vertical-align: top;\n",
       "    }\n",
       "\n",
       "    .dataframe thead th {\n",
       "        text-align: right;\n",
       "    }\n",
       "</style>\n",
       "<table border=\"1\" class=\"dataframe\">\n",
       "  <thead>\n",
       "    <tr style=\"text-align: right;\">\n",
       "      <th></th>\n",
       "      <th>0</th>\n",
       "    </tr>\n",
       "  </thead>\n",
       "  <tbody>\n",
       "    <tr>\n",
       "      <th>0</th>\n",
       "      <td>UCsHaTGHXK1B0GrInsGWOmGg</td>\n",
       "    </tr>\n",
       "    <tr>\n",
       "      <th>1</th>\n",
       "      <td>UCdRRA3aC-e4Njs2q5jOVTCw</td>\n",
       "    </tr>\n",
       "    <tr>\n",
       "      <th>2</th>\n",
       "      <td>UCgzqRRDGThOlH4EHaqSXXPA</td>\n",
       "    </tr>\n",
       "    <tr>\n",
       "      <th>3</th>\n",
       "      <td>UC3VlH7lPbKlzVda5aJgyUvQ</td>\n",
       "    </tr>\n",
       "    <tr>\n",
       "      <th>4</th>\n",
       "      <td>UCaunu5TduRN22OXgdGEEayQ</td>\n",
       "    </tr>\n",
       "  </tbody>\n",
       "</table>\n",
       "</div>"
      ],
      "text/plain": [
       "                          0\n",
       "0  UCsHaTGHXK1B0GrInsGWOmGg\n",
       "1  UCdRRA3aC-e4Njs2q5jOVTCw\n",
       "2  UCgzqRRDGThOlH4EHaqSXXPA\n",
       "3  UC3VlH7lPbKlzVda5aJgyUvQ\n",
       "4  UCaunu5TduRN22OXgdGEEayQ"
      ]
     },
     "execution_count": 45,
     "metadata": {},
     "output_type": "execute_result"
    }
   ],
   "source": [
    "conspiracy_df = pd.read_csv('ledwich_refluence/conspiracy.csv', header=None)\n",
    "conspiracy_df.head()"
   ]
  },
  {
   "cell_type": "code",
   "execution_count": 46,
   "id": "b4f3b51e",
   "metadata": {},
   "outputs": [],
   "source": [
    "conspiracy = set(conspiracy_df[0])"
   ]
  },
  {
   "cell_type": "code",
   "execution_count": 47,
   "id": "3042bcab",
   "metadata": {},
   "outputs": [
    {
     "data": {
      "text/plain": [
       "{'UC66IBH4uFkBTzEh2olFFJSg'}"
      ]
     },
     "execution_count": 47,
     "metadata": {},
     "output_type": "execute_result"
    }
   ],
   "source": [
    "conspiracy.intersection(alt_right)"
   ]
  },
  {
   "cell_type": "code",
   "execution_count": 48,
   "id": "3eaa33dd",
   "metadata": {},
   "outputs": [
    {
     "data": {
      "text/plain": [
       "set()"
      ]
     },
     "execution_count": 48,
     "metadata": {},
     "output_type": "execute_result"
    }
   ],
   "source": [
    "conspiracy.intersection(antitheist)"
   ]
  },
  {
   "cell_type": "code",
   "execution_count": null,
   "id": "af1f5c1e",
   "metadata": {},
   "outputs": [],
   "source": []
  }
 ],
 "metadata": {
  "kernelspec": {
   "display_name": "Python 3 (ipykernel)",
   "language": "python",
   "name": "python3"
  },
  "language_info": {
   "codemirror_mode": {
    "name": "ipython",
    "version": 3
   },
   "file_extension": ".py",
   "mimetype": "text/x-python",
   "name": "python",
   "nbconvert_exporter": "python",
   "pygments_lexer": "ipython3",
   "version": "3.8.12"
  }
 },
 "nbformat": 4,
 "nbformat_minor": 5
}
