{
 "cells": [
  {
   "cell_type": "code",
   "execution_count": 2,
   "id": "e53ae12c",
   "metadata": {},
   "outputs": [],
   "source": [
    "import pandas as pd"
   ]
  },
  {
   "cell_type": "code",
   "execution_count": 33,
   "id": "2dac3c5b",
   "metadata": {},
   "outputs": [],
   "source": [
    "# How many of our videos are actually stained?\n",
    "alt_right_df = pd.read_csv('./alt-right_watch_1.csv')"
   ]
  },
  {
   "cell_type": "code",
   "execution_count": 34,
   "id": "2b10f874",
   "metadata": {},
   "outputs": [
    {
     "data": {
      "text/plain": "      video_id                channel_id  rank component           bot_name  \\\n0  a8Gx8wiNbs8  UCgjxQJ6TlKqhHax8742ZMdA     0  homepage  alt-right_watch_1   \n1  1vzdm0Mz58o  UCq6VFHwMzcMXbuKyG7SQYIg     1  homepage  alt-right_watch_1   \n2  bp8727gV5HA  UC_hK9fOxyy_TM8FJGXIyG8Q     2  homepage  alt-right_watch_1   \n3  PJC-oRDwwY8  UCUaT_39o1x6qWjz7K2pWcgw     3  homepage  alt-right_watch_1   \n4  W-iwfmhpHBE  UCb-0Nf8OEIEdRmCJzLuIrnQ     4  homepage  alt-right_watch_1   \n\n   phase  phase_level                        time watch_video_id  \n0  stain            0  2022-05-11 21:02:42.380057            NaN  \n1  stain            0  2022-05-11 21:02:42.380079            NaN  \n2  stain            0  2022-05-11 21:02:42.380090            NaN  \n3  stain            0  2022-05-11 21:02:42.380094            NaN  \n4  stain            0  2022-05-11 21:02:42.380098            NaN  ",
      "text/html": "<div>\n<style scoped>\n    .dataframe tbody tr th:only-of-type {\n        vertical-align: middle;\n    }\n\n    .dataframe tbody tr th {\n        vertical-align: top;\n    }\n\n    .dataframe thead th {\n        text-align: right;\n    }\n</style>\n<table border=\"1\" class=\"dataframe\">\n  <thead>\n    <tr style=\"text-align: right;\">\n      <th></th>\n      <th>video_id</th>\n      <th>channel_id</th>\n      <th>rank</th>\n      <th>component</th>\n      <th>bot_name</th>\n      <th>phase</th>\n      <th>phase_level</th>\n      <th>time</th>\n      <th>watch_video_id</th>\n    </tr>\n  </thead>\n  <tbody>\n    <tr>\n      <th>0</th>\n      <td>a8Gx8wiNbs8</td>\n      <td>UCgjxQJ6TlKqhHax8742ZMdA</td>\n      <td>0</td>\n      <td>homepage</td>\n      <td>alt-right_watch_1</td>\n      <td>stain</td>\n      <td>0</td>\n      <td>2022-05-11 21:02:42.380057</td>\n      <td>NaN</td>\n    </tr>\n    <tr>\n      <th>1</th>\n      <td>1vzdm0Mz58o</td>\n      <td>UCq6VFHwMzcMXbuKyG7SQYIg</td>\n      <td>1</td>\n      <td>homepage</td>\n      <td>alt-right_watch_1</td>\n      <td>stain</td>\n      <td>0</td>\n      <td>2022-05-11 21:02:42.380079</td>\n      <td>NaN</td>\n    </tr>\n    <tr>\n      <th>2</th>\n      <td>bp8727gV5HA</td>\n      <td>UC_hK9fOxyy_TM8FJGXIyG8Q</td>\n      <td>2</td>\n      <td>homepage</td>\n      <td>alt-right_watch_1</td>\n      <td>stain</td>\n      <td>0</td>\n      <td>2022-05-11 21:02:42.380090</td>\n      <td>NaN</td>\n    </tr>\n    <tr>\n      <th>3</th>\n      <td>PJC-oRDwwY8</td>\n      <td>UCUaT_39o1x6qWjz7K2pWcgw</td>\n      <td>3</td>\n      <td>homepage</td>\n      <td>alt-right_watch_1</td>\n      <td>stain</td>\n      <td>0</td>\n      <td>2022-05-11 21:02:42.380094</td>\n      <td>NaN</td>\n    </tr>\n    <tr>\n      <th>4</th>\n      <td>W-iwfmhpHBE</td>\n      <td>UCb-0Nf8OEIEdRmCJzLuIrnQ</td>\n      <td>4</td>\n      <td>homepage</td>\n      <td>alt-right_watch_1</td>\n      <td>stain</td>\n      <td>0</td>\n      <td>2022-05-11 21:02:42.380098</td>\n      <td>NaN</td>\n    </tr>\n  </tbody>\n</table>\n</div>"
     },
     "execution_count": 34,
     "metadata": {},
     "output_type": "execute_result"
    }
   ],
   "source": [
    "alt_right_df.head()"
   ]
  },
  {
   "cell_type": "code",
   "execution_count": 35,
   "id": "25aeba81",
   "metadata": {},
   "outputs": [
    {
     "data": {
      "text/plain": "                          0\n0  UCSTy-H5lSiCcozas32sfJlQ\n1  UCmtALVZjXFzb4v3fIXDmDyw\n2  UClMWnUHbxJKJLUgloN1mPUA\n3  UC4f8Z2XefBDL421pnNEQH0Q\n4  UCFc0stDRUkeBDc36qZeox1g",
      "text/html": "<div>\n<style scoped>\n    .dataframe tbody tr th:only-of-type {\n        vertical-align: middle;\n    }\n\n    .dataframe tbody tr th {\n        vertical-align: top;\n    }\n\n    .dataframe thead th {\n        text-align: right;\n    }\n</style>\n<table border=\"1\" class=\"dataframe\">\n  <thead>\n    <tr style=\"text-align: right;\">\n      <th></th>\n      <th>0</th>\n    </tr>\n  </thead>\n  <tbody>\n    <tr>\n      <th>0</th>\n      <td>UCSTy-H5lSiCcozas32sfJlQ</td>\n    </tr>\n    <tr>\n      <th>1</th>\n      <td>UCmtALVZjXFzb4v3fIXDmDyw</td>\n    </tr>\n    <tr>\n      <th>2</th>\n      <td>UClMWnUHbxJKJLUgloN1mPUA</td>\n    </tr>\n    <tr>\n      <th>3</th>\n      <td>UC4f8Z2XefBDL421pnNEQH0Q</td>\n    </tr>\n    <tr>\n      <th>4</th>\n      <td>UCFc0stDRUkeBDc36qZeox1g</td>\n    </tr>\n  </tbody>\n</table>\n</div>"
     },
     "execution_count": 35,
     "metadata": {},
     "output_type": "execute_result"
    }
   ],
   "source": [
    "alt_right_channels_df = pd.read_csv('../../communities/alt-right/ribeiro_alt-right.csv', header=None)\n",
    "alt_right_channels_df.head()"
   ]
  },
  {
   "cell_type": "code",
   "execution_count": 36,
   "id": "311f3050",
   "metadata": {},
   "outputs": [],
   "source": [
    "channels = set(alt_right_channels_df[0])"
   ]
  },
  {
   "cell_type": "code",
   "execution_count": 37,
   "id": "5e6657f3",
   "metadata": {},
   "outputs": [],
   "source": [
    "alt_right_df['stain'] = alt_right_df.apply(\n",
    "    lambda row: row['channel_id'] in channels,\n",
    "    axis=1\n",
    ")"
   ]
  },
  {
   "cell_type": "code",
   "execution_count": 38,
   "id": "88abe7eb",
   "metadata": {},
   "outputs": [
    {
     "data": {
      "text/plain": "stain\nFalse    589\nTrue     211\nName: stain, dtype: int64"
     },
     "execution_count": 38,
     "metadata": {},
     "output_type": "execute_result"
    }
   ],
   "source": [
    "alt_right_df.groupby(['stain'])['stain'].agg('count')"
   ]
  },
  {
   "cell_type": "code",
   "execution_count": null,
   "id": "5c03afb6",
   "metadata": {},
   "outputs": [],
   "source": []
  },
  {
   "cell_type": "code",
   "execution_count": 22,
   "id": "f4e08b9c",
   "metadata": {},
   "outputs": [],
   "source": [
    "# how many of our last level are stained?\n",
    "final_state_df = alt_right_df[alt_right_df['phase_level']==39]"
   ]
  },
  {
   "cell_type": "code",
   "execution_count": 23,
   "id": "6a198e78",
   "metadata": {},
   "outputs": [
    {
     "data": {
      "text/html": [
       "<div>\n",
       "<style scoped>\n",
       "    .dataframe tbody tr th:only-of-type {\n",
       "        vertical-align: middle;\n",
       "    }\n",
       "\n",
       "    .dataframe tbody tr th {\n",
       "        vertical-align: top;\n",
       "    }\n",
       "\n",
       "    .dataframe thead th {\n",
       "        text-align: right;\n",
       "    }\n",
       "</style>\n",
       "<table border=\"1\" class=\"dataframe\">\n",
       "  <thead>\n",
       "    <tr style=\"text-align: right;\">\n",
       "      <th></th>\n",
       "      <th>video_id</th>\n",
       "      <th>channel_id</th>\n",
       "      <th>rank</th>\n",
       "      <th>component</th>\n",
       "      <th>bot_name</th>\n",
       "      <th>phase</th>\n",
       "      <th>phase_level</th>\n",
       "      <th>time</th>\n",
       "      <th>watch_video_id</th>\n",
       "      <th>stain</th>\n",
       "    </tr>\n",
       "  </thead>\n",
       "  <tbody>\n",
       "    <tr>\n",
       "      <th>780</th>\n",
       "      <td>sfTsHtk9RDM</td>\n",
       "      <td>UCN0-RRaxMgh86eOwndAklxw</td>\n",
       "      <td>0</td>\n",
       "      <td>homepage</td>\n",
       "      <td>alt-right_watch_1</td>\n",
       "      <td>stain</td>\n",
       "      <td>39</td>\n",
       "      <td>2022-05-12 01:11:23.192305</td>\n",
       "      <td>NaN</td>\n",
       "      <td>True</td>\n",
       "    </tr>\n",
       "    <tr>\n",
       "      <th>781</th>\n",
       "      <td>fxwVUbYXVJg</td>\n",
       "      <td>UCHC60upCUfq7EAfw6oDQRDA</td>\n",
       "      <td>1</td>\n",
       "      <td>homepage</td>\n",
       "      <td>alt-right_watch_1</td>\n",
       "      <td>stain</td>\n",
       "      <td>39</td>\n",
       "      <td>2022-05-12 01:11:23.192318</td>\n",
       "      <td>NaN</td>\n",
       "      <td>True</td>\n",
       "    </tr>\n",
       "    <tr>\n",
       "      <th>782</th>\n",
       "      <td>8uuYm7KDm_A</td>\n",
       "      <td>UCVO8YsD87ibqRGIJ7o8sOzg</td>\n",
       "      <td>2</td>\n",
       "      <td>homepage</td>\n",
       "      <td>alt-right_watch_1</td>\n",
       "      <td>stain</td>\n",
       "      <td>39</td>\n",
       "      <td>2022-05-12 01:11:23.192321</td>\n",
       "      <td>NaN</td>\n",
       "      <td>True</td>\n",
       "    </tr>\n",
       "    <tr>\n",
       "      <th>783</th>\n",
       "      <td>08xS5DYZzDQ</td>\n",
       "      <td>UC8cP3F7DseB_k-D1Afmstzw</td>\n",
       "      <td>3</td>\n",
       "      <td>homepage</td>\n",
       "      <td>alt-right_watch_1</td>\n",
       "      <td>stain</td>\n",
       "      <td>39</td>\n",
       "      <td>2022-05-12 01:11:23.192325</td>\n",
       "      <td>NaN</td>\n",
       "      <td>False</td>\n",
       "    </tr>\n",
       "    <tr>\n",
       "      <th>784</th>\n",
       "      <td>5xKhkrvCito</td>\n",
       "      <td>UCwcBRvDnijQlfJQigaI9cEQ</td>\n",
       "      <td>4</td>\n",
       "      <td>homepage</td>\n",
       "      <td>alt-right_watch_1</td>\n",
       "      <td>stain</td>\n",
       "      <td>39</td>\n",
       "      <td>2022-05-12 01:11:23.192328</td>\n",
       "      <td>NaN</td>\n",
       "      <td>False</td>\n",
       "    </tr>\n",
       "    <tr>\n",
       "      <th>785</th>\n",
       "      <td>RHpalC3WaXY</td>\n",
       "      <td>UCutpp9X6rKErxUkv4wKBRPA</td>\n",
       "      <td>5</td>\n",
       "      <td>homepage</td>\n",
       "      <td>alt-right_watch_1</td>\n",
       "      <td>stain</td>\n",
       "      <td>39</td>\n",
       "      <td>2022-05-12 01:11:23.192331</td>\n",
       "      <td>NaN</td>\n",
       "      <td>True</td>\n",
       "    </tr>\n",
       "    <tr>\n",
       "      <th>786</th>\n",
       "      <td>ywPriq-D4J4</td>\n",
       "      <td>UCKA8nI3JBYpWqx2HiiEssNw</td>\n",
       "      <td>6</td>\n",
       "      <td>homepage</td>\n",
       "      <td>alt-right_watch_1</td>\n",
       "      <td>stain</td>\n",
       "      <td>39</td>\n",
       "      <td>2022-05-12 01:11:23.192333</td>\n",
       "      <td>NaN</td>\n",
       "      <td>False</td>\n",
       "    </tr>\n",
       "    <tr>\n",
       "      <th>787</th>\n",
       "      <td>uVlj_MhIxmc</td>\n",
       "      <td>UCmFeOdJI3IXgTBDzqBLD8qg</td>\n",
       "      <td>7</td>\n",
       "      <td>homepage</td>\n",
       "      <td>alt-right_watch_1</td>\n",
       "      <td>stain</td>\n",
       "      <td>39</td>\n",
       "      <td>2022-05-12 01:11:23.192336</td>\n",
       "      <td>NaN</td>\n",
       "      <td>False</td>\n",
       "    </tr>\n",
       "    <tr>\n",
       "      <th>788</th>\n",
       "      <td>_3QMqssyBwQ</td>\n",
       "      <td>UC_3pplzbKMZsP5zBH_6SVJQ</td>\n",
       "      <td>8</td>\n",
       "      <td>homepage</td>\n",
       "      <td>alt-right_watch_1</td>\n",
       "      <td>stain</td>\n",
       "      <td>39</td>\n",
       "      <td>2022-05-12 01:11:23.192338</td>\n",
       "      <td>NaN</td>\n",
       "      <td>False</td>\n",
       "    </tr>\n",
       "    <tr>\n",
       "      <th>789</th>\n",
       "      <td>9fdS8ECbx4A</td>\n",
       "      <td>UCN0-RRaxMgh86eOwndAklxw</td>\n",
       "      <td>9</td>\n",
       "      <td>homepage</td>\n",
       "      <td>alt-right_watch_1</td>\n",
       "      <td>stain</td>\n",
       "      <td>39</td>\n",
       "      <td>2022-05-12 01:11:23.192341</td>\n",
       "      <td>NaN</td>\n",
       "      <td>True</td>\n",
       "    </tr>\n",
       "    <tr>\n",
       "      <th>790</th>\n",
       "      <td>pjbI_p4MM2I</td>\n",
       "      <td>UCv_ammhvQQe-sZo3hj5Gl9A</td>\n",
       "      <td>0</td>\n",
       "      <td>videopage</td>\n",
       "      <td>alt-right_watch_1</td>\n",
       "      <td>stain</td>\n",
       "      <td>39</td>\n",
       "      <td>2022-05-12 01:11:39.407948</td>\n",
       "      <td>Av2bJT8WXds</td>\n",
       "      <td>False</td>\n",
       "    </tr>\n",
       "    <tr>\n",
       "      <th>791</th>\n",
       "      <td>Jl55yShoa1s</td>\n",
       "      <td>UC0h-sR-xyYLX7sSO46ovo2A</td>\n",
       "      <td>1</td>\n",
       "      <td>videopage</td>\n",
       "      <td>alt-right_watch_1</td>\n",
       "      <td>stain</td>\n",
       "      <td>39</td>\n",
       "      <td>2022-05-12 01:11:39.407960</td>\n",
       "      <td>Av2bJT8WXds</td>\n",
       "      <td>True</td>\n",
       "    </tr>\n",
       "    <tr>\n",
       "      <th>792</th>\n",
       "      <td>YheexqPviMc</td>\n",
       "      <td>UC0h-sR-xyYLX7sSO46ovo2A</td>\n",
       "      <td>2</td>\n",
       "      <td>videopage</td>\n",
       "      <td>alt-right_watch_1</td>\n",
       "      <td>stain</td>\n",
       "      <td>39</td>\n",
       "      <td>2022-05-12 01:11:39.407962</td>\n",
       "      <td>Av2bJT8WXds</td>\n",
       "      <td>True</td>\n",
       "    </tr>\n",
       "    <tr>\n",
       "      <th>793</th>\n",
       "      <td>ymTjYXA9MWw</td>\n",
       "      <td>UCN0-RRaxMgh86eOwndAklxw</td>\n",
       "      <td>3</td>\n",
       "      <td>videopage</td>\n",
       "      <td>alt-right_watch_1</td>\n",
       "      <td>stain</td>\n",
       "      <td>39</td>\n",
       "      <td>2022-05-12 01:11:39.407964</td>\n",
       "      <td>Av2bJT8WXds</td>\n",
       "      <td>True</td>\n",
       "    </tr>\n",
       "    <tr>\n",
       "      <th>794</th>\n",
       "      <td>f8DO55VB6ro</td>\n",
       "      <td>UC0h-sR-xyYLX7sSO46ovo2A</td>\n",
       "      <td>4</td>\n",
       "      <td>videopage</td>\n",
       "      <td>alt-right_watch_1</td>\n",
       "      <td>stain</td>\n",
       "      <td>39</td>\n",
       "      <td>2022-05-12 01:11:39.407965</td>\n",
       "      <td>Av2bJT8WXds</td>\n",
       "      <td>True</td>\n",
       "    </tr>\n",
       "    <tr>\n",
       "      <th>795</th>\n",
       "      <td>uj5OWedXfD4</td>\n",
       "      <td>UCbY6GY6orrz7cLtTJgYIIEw</td>\n",
       "      <td>5</td>\n",
       "      <td>videopage</td>\n",
       "      <td>alt-right_watch_1</td>\n",
       "      <td>stain</td>\n",
       "      <td>39</td>\n",
       "      <td>2022-05-12 01:11:39.407967</td>\n",
       "      <td>Av2bJT8WXds</td>\n",
       "      <td>False</td>\n",
       "    </tr>\n",
       "    <tr>\n",
       "      <th>796</th>\n",
       "      <td>OYcYv174KQ4</td>\n",
       "      <td>UCVO8YsD87ibqRGIJ7o8sOzg</td>\n",
       "      <td>6</td>\n",
       "      <td>videopage</td>\n",
       "      <td>alt-right_watch_1</td>\n",
       "      <td>stain</td>\n",
       "      <td>39</td>\n",
       "      <td>2022-05-12 01:11:39.407969</td>\n",
       "      <td>Av2bJT8WXds</td>\n",
       "      <td>True</td>\n",
       "    </tr>\n",
       "    <tr>\n",
       "      <th>797</th>\n",
       "      <td>JYLDL8dnFe8</td>\n",
       "      <td>UCkcWJuLgLqSfkgmhCj-0Hrg</td>\n",
       "      <td>7</td>\n",
       "      <td>videopage</td>\n",
       "      <td>alt-right_watch_1</td>\n",
       "      <td>stain</td>\n",
       "      <td>39</td>\n",
       "      <td>2022-05-12 01:11:39.407970</td>\n",
       "      <td>Av2bJT8WXds</td>\n",
       "      <td>False</td>\n",
       "    </tr>\n",
       "    <tr>\n",
       "      <th>798</th>\n",
       "      <td>8uuYm7KDm_A</td>\n",
       "      <td>UCVO8YsD87ibqRGIJ7o8sOzg</td>\n",
       "      <td>8</td>\n",
       "      <td>videopage</td>\n",
       "      <td>alt-right_watch_1</td>\n",
       "      <td>stain</td>\n",
       "      <td>39</td>\n",
       "      <td>2022-05-12 01:11:39.407971</td>\n",
       "      <td>Av2bJT8WXds</td>\n",
       "      <td>True</td>\n",
       "    </tr>\n",
       "    <tr>\n",
       "      <th>799</th>\n",
       "      <td>uZwzbA91Yno</td>\n",
       "      <td>UCk-5v-dO-7ddMMb4gXA4J4A</td>\n",
       "      <td>9</td>\n",
       "      <td>videopage</td>\n",
       "      <td>alt-right_watch_1</td>\n",
       "      <td>stain</td>\n",
       "      <td>39</td>\n",
       "      <td>2022-05-12 01:11:39.407973</td>\n",
       "      <td>Av2bJT8WXds</td>\n",
       "      <td>False</td>\n",
       "    </tr>\n",
       "  </tbody>\n",
       "</table>\n",
       "</div>"
      ],
      "text/plain": [
       "        video_id                channel_id  rank  component  \\\n",
       "780  sfTsHtk9RDM  UCN0-RRaxMgh86eOwndAklxw     0   homepage   \n",
       "781  fxwVUbYXVJg  UCHC60upCUfq7EAfw6oDQRDA     1   homepage   \n",
       "782  8uuYm7KDm_A  UCVO8YsD87ibqRGIJ7o8sOzg     2   homepage   \n",
       "783  08xS5DYZzDQ  UC8cP3F7DseB_k-D1Afmstzw     3   homepage   \n",
       "784  5xKhkrvCito  UCwcBRvDnijQlfJQigaI9cEQ     4   homepage   \n",
       "785  RHpalC3WaXY  UCutpp9X6rKErxUkv4wKBRPA     5   homepage   \n",
       "786  ywPriq-D4J4  UCKA8nI3JBYpWqx2HiiEssNw     6   homepage   \n",
       "787  uVlj_MhIxmc  UCmFeOdJI3IXgTBDzqBLD8qg     7   homepage   \n",
       "788  _3QMqssyBwQ  UC_3pplzbKMZsP5zBH_6SVJQ     8   homepage   \n",
       "789  9fdS8ECbx4A  UCN0-RRaxMgh86eOwndAklxw     9   homepage   \n",
       "790  pjbI_p4MM2I  UCv_ammhvQQe-sZo3hj5Gl9A     0  videopage   \n",
       "791  Jl55yShoa1s  UC0h-sR-xyYLX7sSO46ovo2A     1  videopage   \n",
       "792  YheexqPviMc  UC0h-sR-xyYLX7sSO46ovo2A     2  videopage   \n",
       "793  ymTjYXA9MWw  UCN0-RRaxMgh86eOwndAklxw     3  videopage   \n",
       "794  f8DO55VB6ro  UC0h-sR-xyYLX7sSO46ovo2A     4  videopage   \n",
       "795  uj5OWedXfD4  UCbY6GY6orrz7cLtTJgYIIEw     5  videopage   \n",
       "796  OYcYv174KQ4  UCVO8YsD87ibqRGIJ7o8sOzg     6  videopage   \n",
       "797  JYLDL8dnFe8  UCkcWJuLgLqSfkgmhCj-0Hrg     7  videopage   \n",
       "798  8uuYm7KDm_A  UCVO8YsD87ibqRGIJ7o8sOzg     8  videopage   \n",
       "799  uZwzbA91Yno  UCk-5v-dO-7ddMMb4gXA4J4A     9  videopage   \n",
       "\n",
       "              bot_name  phase  phase_level                        time  \\\n",
       "780  alt-right_watch_1  stain           39  2022-05-12 01:11:23.192305   \n",
       "781  alt-right_watch_1  stain           39  2022-05-12 01:11:23.192318   \n",
       "782  alt-right_watch_1  stain           39  2022-05-12 01:11:23.192321   \n",
       "783  alt-right_watch_1  stain           39  2022-05-12 01:11:23.192325   \n",
       "784  alt-right_watch_1  stain           39  2022-05-12 01:11:23.192328   \n",
       "785  alt-right_watch_1  stain           39  2022-05-12 01:11:23.192331   \n",
       "786  alt-right_watch_1  stain           39  2022-05-12 01:11:23.192333   \n",
       "787  alt-right_watch_1  stain           39  2022-05-12 01:11:23.192336   \n",
       "788  alt-right_watch_1  stain           39  2022-05-12 01:11:23.192338   \n",
       "789  alt-right_watch_1  stain           39  2022-05-12 01:11:23.192341   \n",
       "790  alt-right_watch_1  stain           39  2022-05-12 01:11:39.407948   \n",
       "791  alt-right_watch_1  stain           39  2022-05-12 01:11:39.407960   \n",
       "792  alt-right_watch_1  stain           39  2022-05-12 01:11:39.407962   \n",
       "793  alt-right_watch_1  stain           39  2022-05-12 01:11:39.407964   \n",
       "794  alt-right_watch_1  stain           39  2022-05-12 01:11:39.407965   \n",
       "795  alt-right_watch_1  stain           39  2022-05-12 01:11:39.407967   \n",
       "796  alt-right_watch_1  stain           39  2022-05-12 01:11:39.407969   \n",
       "797  alt-right_watch_1  stain           39  2022-05-12 01:11:39.407970   \n",
       "798  alt-right_watch_1  stain           39  2022-05-12 01:11:39.407971   \n",
       "799  alt-right_watch_1  stain           39  2022-05-12 01:11:39.407973   \n",
       "\n",
       "    watch_video_id  stain  \n",
       "780            NaN   True  \n",
       "781            NaN   True  \n",
       "782            NaN   True  \n",
       "783            NaN  False  \n",
       "784            NaN  False  \n",
       "785            NaN   True  \n",
       "786            NaN  False  \n",
       "787            NaN  False  \n",
       "788            NaN  False  \n",
       "789            NaN   True  \n",
       "790    Av2bJT8WXds  False  \n",
       "791    Av2bJT8WXds   True  \n",
       "792    Av2bJT8WXds   True  \n",
       "793    Av2bJT8WXds   True  \n",
       "794    Av2bJT8WXds   True  \n",
       "795    Av2bJT8WXds  False  \n",
       "796    Av2bJT8WXds   True  \n",
       "797    Av2bJT8WXds  False  \n",
       "798    Av2bJT8WXds   True  \n",
       "799    Av2bJT8WXds  False  "
      ]
     },
     "execution_count": 23,
     "metadata": {},
     "output_type": "execute_result"
    }
   ],
   "source": [
    "final_state_df"
   ]
  },
  {
   "cell_type": "code",
   "execution_count": null,
   "id": "cae73907",
   "metadata": {},
   "outputs": [],
   "source": []
  },
  {
   "cell_type": "code",
   "execution_count": 25,
   "id": "29052cac",
   "metadata": {},
   "outputs": [
    {
     "data": {
      "text/html": [
       "<div>\n",
       "<style scoped>\n",
       "    .dataframe tbody tr th:only-of-type {\n",
       "        vertical-align: middle;\n",
       "    }\n",
       "\n",
       "    .dataframe tbody tr th {\n",
       "        vertical-align: top;\n",
       "    }\n",
       "\n",
       "    .dataframe thead th {\n",
       "        text-align: right;\n",
       "    }\n",
       "</style>\n",
       "<table border=\"1\" class=\"dataframe\">\n",
       "  <thead>\n",
       "    <tr style=\"text-align: right;\">\n",
       "      <th></th>\n",
       "      <th>video_id</th>\n",
       "      <th>channel_id</th>\n",
       "      <th>rank</th>\n",
       "      <th>component</th>\n",
       "      <th>bot_name</th>\n",
       "      <th>phase</th>\n",
       "      <th>phase_level</th>\n",
       "      <th>time</th>\n",
       "      <th>watch_video_id</th>\n",
       "      <th>stain</th>\n",
       "    </tr>\n",
       "  </thead>\n",
       "  <tbody>\n",
       "    <tr>\n",
       "      <th>12</th>\n",
       "      <td>J58gQXjXIEc</td>\n",
       "      <td>UCHC60upCUfq7EAfw6oDQRDA</td>\n",
       "      <td>2</td>\n",
       "      <td>videopage</td>\n",
       "      <td>alt-right_watch_1</td>\n",
       "      <td>stain</td>\n",
       "      <td>0</td>\n",
       "      <td>2022-05-11 21:03:00.135952</td>\n",
       "      <td>moEPY8kIhts</td>\n",
       "      <td>True</td>\n",
       "    </tr>\n",
       "    <tr>\n",
       "      <th>13</th>\n",
       "      <td>vNWG3UljBsk</td>\n",
       "      <td>UCHC60upCUfq7EAfw6oDQRDA</td>\n",
       "      <td>3</td>\n",
       "      <td>videopage</td>\n",
       "      <td>alt-right_watch_1</td>\n",
       "      <td>stain</td>\n",
       "      <td>0</td>\n",
       "      <td>2022-05-11 21:03:00.135954</td>\n",
       "      <td>moEPY8kIhts</td>\n",
       "      <td>True</td>\n",
       "    </tr>\n",
       "    <tr>\n",
       "      <th>14</th>\n",
       "      <td>T-S6UdcO7No</td>\n",
       "      <td>UCHC60upCUfq7EAfw6oDQRDA</td>\n",
       "      <td>4</td>\n",
       "      <td>videopage</td>\n",
       "      <td>alt-right_watch_1</td>\n",
       "      <td>stain</td>\n",
       "      <td>0</td>\n",
       "      <td>2022-05-11 21:03:00.135955</td>\n",
       "      <td>moEPY8kIhts</td>\n",
       "      <td>True</td>\n",
       "    </tr>\n",
       "    <tr>\n",
       "      <th>15</th>\n",
       "      <td>iEnM_fualmg</td>\n",
       "      <td>UCHC60upCUfq7EAfw6oDQRDA</td>\n",
       "      <td>5</td>\n",
       "      <td>videopage</td>\n",
       "      <td>alt-right_watch_1</td>\n",
       "      <td>stain</td>\n",
       "      <td>0</td>\n",
       "      <td>2022-05-11 21:03:00.135957</td>\n",
       "      <td>moEPY8kIhts</td>\n",
       "      <td>True</td>\n",
       "    </tr>\n",
       "    <tr>\n",
       "      <th>16</th>\n",
       "      <td>59S1OmtsZZo</td>\n",
       "      <td>UCHC60upCUfq7EAfw6oDQRDA</td>\n",
       "      <td>6</td>\n",
       "      <td>videopage</td>\n",
       "      <td>alt-right_watch_1</td>\n",
       "      <td>stain</td>\n",
       "      <td>0</td>\n",
       "      <td>2022-05-11 21:03:00.135958</td>\n",
       "      <td>moEPY8kIhts</td>\n",
       "      <td>True</td>\n",
       "    </tr>\n",
       "  </tbody>\n",
       "</table>\n",
       "</div>"
      ],
      "text/plain": [
       "       video_id                channel_id  rank  component           bot_name  \\\n",
       "12  J58gQXjXIEc  UCHC60upCUfq7EAfw6oDQRDA     2  videopage  alt-right_watch_1   \n",
       "13  vNWG3UljBsk  UCHC60upCUfq7EAfw6oDQRDA     3  videopage  alt-right_watch_1   \n",
       "14  T-S6UdcO7No  UCHC60upCUfq7EAfw6oDQRDA     4  videopage  alt-right_watch_1   \n",
       "15  iEnM_fualmg  UCHC60upCUfq7EAfw6oDQRDA     5  videopage  alt-right_watch_1   \n",
       "16  59S1OmtsZZo  UCHC60upCUfq7EAfw6oDQRDA     6  videopage  alt-right_watch_1   \n",
       "\n",
       "    phase  phase_level                        time watch_video_id  stain  \n",
       "12  stain            0  2022-05-11 21:03:00.135952    moEPY8kIhts   True  \n",
       "13  stain            0  2022-05-11 21:03:00.135954    moEPY8kIhts   True  \n",
       "14  stain            0  2022-05-11 21:03:00.135955    moEPY8kIhts   True  \n",
       "15  stain            0  2022-05-11 21:03:00.135957    moEPY8kIhts   True  \n",
       "16  stain            0  2022-05-11 21:03:00.135958    moEPY8kIhts   True  "
      ]
     },
     "execution_count": 25,
     "metadata": {},
     "output_type": "execute_result"
    }
   ],
   "source": [
    "# how many channels make up our stains?\n",
    "stain_df = alt_right_df[alt_right_df['stain']==True]\n",
    "stain_df.head()"
   ]
  },
  {
   "cell_type": "code",
   "execution_count": 26,
   "id": "a787306a",
   "metadata": {},
   "outputs": [
    {
     "data": {
      "text/plain": [
       "array(['UCHC60upCUfq7EAfw6oDQRDA', 'UCur6nu-T7FilkEztCm_S8yA',\n",
       "       'UCutpp9X6rKErxUkv4wKBRPA', 'UCN0-RRaxMgh86eOwndAklxw',\n",
       "       'UCVO8YsD87ibqRGIJ7o8sOzg', 'UC0h-sR-xyYLX7sSO46ovo2A',\n",
       "       'UC0b-vEnPRxtkMJj7xxDnJIA'], dtype=object)"
      ]
     },
     "execution_count": 26,
     "metadata": {},
     "output_type": "execute_result"
    }
   ],
   "source": [
    "stain_df['channel_id'].unique()"
   ]
  },
  {
   "cell_type": "code",
   "execution_count": null,
   "id": "649470e6",
   "metadata": {},
   "outputs": [],
   "source": []
  },
  {
   "cell_type": "code",
   "execution_count": 3,
   "outputs": [
    {
     "data": {
      "text/plain": "      video_id                channel_id  rank component  \\\n0  fxwVUbYXVJg  UCHC60upCUfq7EAfw6oDQRDA     0  homepage   \n1  XYC0ekh-KqU  UCutpp9X6rKErxUkv4wKBRPA     1  homepage   \n2  ihaB8AFOhZo  UC2LiX7Zjukw_ssz03gjJPpg     2  homepage   \n3  wv87IRX9qlA  UCur6nu-T7FilkEztCm_S8yA     3  homepage   \n4  0b4TU_R7J3c  UCsMrUFBSgQSWHqwH-Bsjn6A     4  homepage   \n\n                     bot_name  phase  phase_level                        time  \n0  alt-right_not_interested_1  scrub            0  2022-05-12 10:27:25.959773  \n1  alt-right_not_interested_1  scrub            0  2022-05-12 10:27:25.959787  \n2  alt-right_not_interested_1  scrub            0  2022-05-12 10:27:25.959790  \n3  alt-right_not_interested_1  scrub            0  2022-05-12 10:27:25.959794  \n4  alt-right_not_interested_1  scrub            0  2022-05-12 10:27:25.959796  ",
      "text/html": "<div>\n<style scoped>\n    .dataframe tbody tr th:only-of-type {\n        vertical-align: middle;\n    }\n\n    .dataframe tbody tr th {\n        vertical-align: top;\n    }\n\n    .dataframe thead th {\n        text-align: right;\n    }\n</style>\n<table border=\"1\" class=\"dataframe\">\n  <thead>\n    <tr style=\"text-align: right;\">\n      <th></th>\n      <th>video_id</th>\n      <th>channel_id</th>\n      <th>rank</th>\n      <th>component</th>\n      <th>bot_name</th>\n      <th>phase</th>\n      <th>phase_level</th>\n      <th>time</th>\n    </tr>\n  </thead>\n  <tbody>\n    <tr>\n      <th>0</th>\n      <td>fxwVUbYXVJg</td>\n      <td>UCHC60upCUfq7EAfw6oDQRDA</td>\n      <td>0</td>\n      <td>homepage</td>\n      <td>alt-right_not_interested_1</td>\n      <td>scrub</td>\n      <td>0</td>\n      <td>2022-05-12 10:27:25.959773</td>\n    </tr>\n    <tr>\n      <th>1</th>\n      <td>XYC0ekh-KqU</td>\n      <td>UCutpp9X6rKErxUkv4wKBRPA</td>\n      <td>1</td>\n      <td>homepage</td>\n      <td>alt-right_not_interested_1</td>\n      <td>scrub</td>\n      <td>0</td>\n      <td>2022-05-12 10:27:25.959787</td>\n    </tr>\n    <tr>\n      <th>2</th>\n      <td>ihaB8AFOhZo</td>\n      <td>UC2LiX7Zjukw_ssz03gjJPpg</td>\n      <td>2</td>\n      <td>homepage</td>\n      <td>alt-right_not_interested_1</td>\n      <td>scrub</td>\n      <td>0</td>\n      <td>2022-05-12 10:27:25.959790</td>\n    </tr>\n    <tr>\n      <th>3</th>\n      <td>wv87IRX9qlA</td>\n      <td>UCur6nu-T7FilkEztCm_S8yA</td>\n      <td>3</td>\n      <td>homepage</td>\n      <td>alt-right_not_interested_1</td>\n      <td>scrub</td>\n      <td>0</td>\n      <td>2022-05-12 10:27:25.959794</td>\n    </tr>\n    <tr>\n      <th>4</th>\n      <td>0b4TU_R7J3c</td>\n      <td>UCsMrUFBSgQSWHqwH-Bsjn6A</td>\n      <td>4</td>\n      <td>homepage</td>\n      <td>alt-right_not_interested_1</td>\n      <td>scrub</td>\n      <td>0</td>\n      <td>2022-05-12 10:27:25.959796</td>\n    </tr>\n  </tbody>\n</table>\n</div>"
     },
     "execution_count": 3,
     "metadata": {},
     "output_type": "execute_result"
    }
   ],
   "source": [
    "# How many of our videos are actually stained?\n",
    "df_1 = pd.read_csv('./alt-right_watch_1.csv')\n",
    "df_2 = pd.read_csv('./alt-right_not_interested_1.csv')\n",
    "df_3 = pd.read_csv('./alt-right_not_interested_1_p2.csv')\n",
    "df_2.head()"
   ],
   "metadata": {
    "collapsed": false,
    "pycharm": {
     "name": "#%%\n"
    }
   }
  },
  {
   "cell_type": "code",
   "execution_count": 6,
   "outputs": [],
   "source": [
    "# Repairing df_3 running after df_2 after minor code breakage\n",
    "df_3['phase_level']+=3\n"
   ],
   "metadata": {
    "collapsed": false,
    "pycharm": {
     "name": "#%%\n"
    }
   }
  },
  {
   "cell_type": "code",
   "execution_count": 7,
   "outputs": [
    {
     "data": {
      "text/plain": "      video_id                channel_id  rank component  \\\n0  28yRhr-_1jg  UCJg9wBPyKMNA5sRDnvzmkdg     0  homepage   \n1  ihaB8AFOhZo  UC2LiX7Zjukw_ssz03gjJPpg     1  homepage   \n2  yTCq4BAfUVQ  UCyOfqgtsQaM3S-VZnsYnHjQ     2  homepage   \n3  vZ9myHhpS9s  UCEpCxY2zgLQpRWjXtzHCVEg     3  homepage   \n4  bE0oQfFYVLY  UCR4qCR7AAIzjrUfNZqu_ToA     4  homepage   \n\n                     bot_name  phase  phase_level                        time  \\\n0  alt-right_not_interested_1  scrub            3  2022-05-12 10:38:33.988752   \n1  alt-right_not_interested_1  scrub            3  2022-05-12 10:38:33.988770   \n2  alt-right_not_interested_1  scrub            3  2022-05-12 10:38:33.988776   \n3  alt-right_not_interested_1  scrub            3  2022-05-12 10:38:33.988779   \n4  alt-right_not_interested_1  scrub            3  2022-05-12 10:38:33.988781   \n\n  watch_video_id  \n0            NaN  \n1            NaN  \n2            NaN  \n3            NaN  \n4            NaN  ",
      "text/html": "<div>\n<style scoped>\n    .dataframe tbody tr th:only-of-type {\n        vertical-align: middle;\n    }\n\n    .dataframe tbody tr th {\n        vertical-align: top;\n    }\n\n    .dataframe thead th {\n        text-align: right;\n    }\n</style>\n<table border=\"1\" class=\"dataframe\">\n  <thead>\n    <tr style=\"text-align: right;\">\n      <th></th>\n      <th>video_id</th>\n      <th>channel_id</th>\n      <th>rank</th>\n      <th>component</th>\n      <th>bot_name</th>\n      <th>phase</th>\n      <th>phase_level</th>\n      <th>time</th>\n      <th>watch_video_id</th>\n    </tr>\n  </thead>\n  <tbody>\n    <tr>\n      <th>0</th>\n      <td>28yRhr-_1jg</td>\n      <td>UCJg9wBPyKMNA5sRDnvzmkdg</td>\n      <td>0</td>\n      <td>homepage</td>\n      <td>alt-right_not_interested_1</td>\n      <td>scrub</td>\n      <td>3</td>\n      <td>2022-05-12 10:38:33.988752</td>\n      <td>NaN</td>\n    </tr>\n    <tr>\n      <th>1</th>\n      <td>ihaB8AFOhZo</td>\n      <td>UC2LiX7Zjukw_ssz03gjJPpg</td>\n      <td>1</td>\n      <td>homepage</td>\n      <td>alt-right_not_interested_1</td>\n      <td>scrub</td>\n      <td>3</td>\n      <td>2022-05-12 10:38:33.988770</td>\n      <td>NaN</td>\n    </tr>\n    <tr>\n      <th>2</th>\n      <td>yTCq4BAfUVQ</td>\n      <td>UCyOfqgtsQaM3S-VZnsYnHjQ</td>\n      <td>2</td>\n      <td>homepage</td>\n      <td>alt-right_not_interested_1</td>\n      <td>scrub</td>\n      <td>3</td>\n      <td>2022-05-12 10:38:33.988776</td>\n      <td>NaN</td>\n    </tr>\n    <tr>\n      <th>3</th>\n      <td>vZ9myHhpS9s</td>\n      <td>UCEpCxY2zgLQpRWjXtzHCVEg</td>\n      <td>3</td>\n      <td>homepage</td>\n      <td>alt-right_not_interested_1</td>\n      <td>scrub</td>\n      <td>3</td>\n      <td>2022-05-12 10:38:33.988779</td>\n      <td>NaN</td>\n    </tr>\n    <tr>\n      <th>4</th>\n      <td>bE0oQfFYVLY</td>\n      <td>UCR4qCR7AAIzjrUfNZqu_ToA</td>\n      <td>4</td>\n      <td>homepage</td>\n      <td>alt-right_not_interested_1</td>\n      <td>scrub</td>\n      <td>3</td>\n      <td>2022-05-12 10:38:33.988781</td>\n      <td>NaN</td>\n    </tr>\n  </tbody>\n</table>\n</div>"
     },
     "execution_count": 7,
     "metadata": {},
     "output_type": "execute_result"
    }
   ],
   "source": [
    "df_3.head()"
   ],
   "metadata": {
    "collapsed": false,
    "pycharm": {
     "name": "#%%\n"
    }
   }
  },
  {
   "cell_type": "code",
   "execution_count": 8,
   "outputs": [
    {
     "data": {
      "text/plain": "      video_id                channel_id  rank component           bot_name  \\\n0  a8Gx8wiNbs8  UCgjxQJ6TlKqhHax8742ZMdA     0  homepage  alt-right_watch_1   \n1  1vzdm0Mz58o  UCq6VFHwMzcMXbuKyG7SQYIg     1  homepage  alt-right_watch_1   \n2  bp8727gV5HA  UC_hK9fOxyy_TM8FJGXIyG8Q     2  homepage  alt-right_watch_1   \n3  PJC-oRDwwY8  UCUaT_39o1x6qWjz7K2pWcgw     3  homepage  alt-right_watch_1   \n4  W-iwfmhpHBE  UCb-0Nf8OEIEdRmCJzLuIrnQ     4  homepage  alt-right_watch_1   \n\n   phase  phase_level                        time watch_video_id  \n0  stain            0  2022-05-11 21:02:42.380057            NaN  \n1  stain            0  2022-05-11 21:02:42.380079            NaN  \n2  stain            0  2022-05-11 21:02:42.380090            NaN  \n3  stain            0  2022-05-11 21:02:42.380094            NaN  \n4  stain            0  2022-05-11 21:02:42.380098            NaN  ",
      "text/html": "<div>\n<style scoped>\n    .dataframe tbody tr th:only-of-type {\n        vertical-align: middle;\n    }\n\n    .dataframe tbody tr th {\n        vertical-align: top;\n    }\n\n    .dataframe thead th {\n        text-align: right;\n    }\n</style>\n<table border=\"1\" class=\"dataframe\">\n  <thead>\n    <tr style=\"text-align: right;\">\n      <th></th>\n      <th>video_id</th>\n      <th>channel_id</th>\n      <th>rank</th>\n      <th>component</th>\n      <th>bot_name</th>\n      <th>phase</th>\n      <th>phase_level</th>\n      <th>time</th>\n      <th>watch_video_id</th>\n    </tr>\n  </thead>\n  <tbody>\n    <tr>\n      <th>0</th>\n      <td>a8Gx8wiNbs8</td>\n      <td>UCgjxQJ6TlKqhHax8742ZMdA</td>\n      <td>0</td>\n      <td>homepage</td>\n      <td>alt-right_watch_1</td>\n      <td>stain</td>\n      <td>0</td>\n      <td>2022-05-11 21:02:42.380057</td>\n      <td>NaN</td>\n    </tr>\n    <tr>\n      <th>1</th>\n      <td>1vzdm0Mz58o</td>\n      <td>UCq6VFHwMzcMXbuKyG7SQYIg</td>\n      <td>1</td>\n      <td>homepage</td>\n      <td>alt-right_watch_1</td>\n      <td>stain</td>\n      <td>0</td>\n      <td>2022-05-11 21:02:42.380079</td>\n      <td>NaN</td>\n    </tr>\n    <tr>\n      <th>2</th>\n      <td>bp8727gV5HA</td>\n      <td>UC_hK9fOxyy_TM8FJGXIyG8Q</td>\n      <td>2</td>\n      <td>homepage</td>\n      <td>alt-right_watch_1</td>\n      <td>stain</td>\n      <td>0</td>\n      <td>2022-05-11 21:02:42.380090</td>\n      <td>NaN</td>\n    </tr>\n    <tr>\n      <th>3</th>\n      <td>PJC-oRDwwY8</td>\n      <td>UCUaT_39o1x6qWjz7K2pWcgw</td>\n      <td>3</td>\n      <td>homepage</td>\n      <td>alt-right_watch_1</td>\n      <td>stain</td>\n      <td>0</td>\n      <td>2022-05-11 21:02:42.380094</td>\n      <td>NaN</td>\n    </tr>\n    <tr>\n      <th>4</th>\n      <td>W-iwfmhpHBE</td>\n      <td>UCb-0Nf8OEIEdRmCJzLuIrnQ</td>\n      <td>4</td>\n      <td>homepage</td>\n      <td>alt-right_watch_1</td>\n      <td>stain</td>\n      <td>0</td>\n      <td>2022-05-11 21:02:42.380098</td>\n      <td>NaN</td>\n    </tr>\n  </tbody>\n</table>\n</div>"
     },
     "execution_count": 8,
     "metadata": {},
     "output_type": "execute_result"
    }
   ],
   "source": [
    "complete_df = pd.concat([df_1, df_2, df_3])\n",
    "complete_df.head()"
   ],
   "metadata": {
    "collapsed": false,
    "pycharm": {
     "name": "#%%\n"
    }
   }
  },
  {
   "cell_type": "code",
   "execution_count": 10,
   "outputs": [
    {
     "data": {
      "text/plain": "(1260, 9)"
     },
     "execution_count": 10,
     "metadata": {},
     "output_type": "execute_result"
    }
   ],
   "source": [
    "complete_df.shape"
   ],
   "metadata": {
    "collapsed": false,
    "pycharm": {
     "name": "#%%\n"
    }
   }
  },
  {
   "cell_type": "code",
   "execution_count": 11,
   "outputs": [
    {
     "data": {
      "text/plain": "(800, 9)"
     },
     "execution_count": 11,
     "metadata": {},
     "output_type": "execute_result"
    }
   ],
   "source": [
    "df_1.shape"
   ],
   "metadata": {
    "collapsed": false,
    "pycharm": {
     "name": "#%%\n"
    }
   }
  },
  {
   "cell_type": "code",
   "execution_count": 12,
   "outputs": [
    {
     "data": {
      "text/plain": "(40, 8)"
     },
     "execution_count": 12,
     "metadata": {},
     "output_type": "execute_result"
    }
   ],
   "source": [
    "df_2.shape"
   ],
   "metadata": {
    "collapsed": false,
    "pycharm": {
     "name": "#%%\n"
    }
   }
  },
  {
   "cell_type": "code",
   "execution_count": 13,
   "outputs": [
    {
     "data": {
      "text/plain": "(420, 9)"
     },
     "execution_count": 13,
     "metadata": {},
     "output_type": "execute_result"
    }
   ],
   "source": [
    "df_3.shape"
   ],
   "metadata": {
    "collapsed": false,
    "pycharm": {
     "name": "#%%\n"
    }
   }
  },
  {
   "cell_type": "code",
   "execution_count": 14,
   "outputs": [
    {
     "data": {
      "text/plain": "(850, 9)"
     },
     "execution_count": 14,
     "metadata": {},
     "output_type": "execute_result"
    }
   ],
   "source": [
    "homepage_df = complete_df[complete_df['component']=='homepage']\n",
    "homepage_df.shape"
   ],
   "metadata": {
    "collapsed": false,
    "pycharm": {
     "name": "#%%\n"
    }
   }
  },
  {
   "cell_type": "markdown",
   "source": [],
   "metadata": {
    "collapsed": false,
    "pycharm": {
     "name": "#%% md\n"
    }
   }
  },
  {
   "cell_type": "code",
   "execution_count": 15,
   "outputs": [
    {
     "data": {
      "text/plain": "array([ 0,  1,  2,  3,  4,  5,  6,  7,  8,  9, 10, 11, 12, 13, 14, 15, 16,\n       17, 18, 19, 20, 21, 22, 23, 24, 25, 26, 27, 28, 29, 30, 31, 32, 33,\n       34, 35, 36, 37, 38, 39, 40, 41, 42])"
     },
     "execution_count": 15,
     "metadata": {},
     "output_type": "execute_result"
    }
   ],
   "source": [
    "homepage_df['phase_level'].unique()"
   ],
   "metadata": {
    "collapsed": false,
    "pycharm": {
     "name": "#%%\n"
    }
   }
  },
  {
   "cell_type": "code",
   "execution_count": 39,
   "outputs": [
    {
     "data": {
      "text/plain": "(400, 9)"
     },
     "execution_count": 39,
     "metadata": {},
     "output_type": "execute_result"
    }
   ],
   "source": [
    "stain_df = homepage_df[homepage_df['phase']=='stain']\n",
    "stain_df.head()\n",
    "stain_df.shape"
   ],
   "metadata": {
    "collapsed": false,
    "pycharm": {
     "name": "#%%\n"
    }
   }
  },
  {
   "cell_type": "code",
   "execution_count": 40,
   "outputs": [
    {
     "data": {
      "text/plain": "      video_id                channel_id  rank component  \\\n0  fxwVUbYXVJg  UCHC60upCUfq7EAfw6oDQRDA     0  homepage   \n1  XYC0ekh-KqU  UCutpp9X6rKErxUkv4wKBRPA     1  homepage   \n2  ihaB8AFOhZo  UC2LiX7Zjukw_ssz03gjJPpg     2  homepage   \n3  wv87IRX9qlA  UCur6nu-T7FilkEztCm_S8yA     3  homepage   \n4  0b4TU_R7J3c  UCsMrUFBSgQSWHqwH-Bsjn6A     4  homepage   \n\n                     bot_name  phase  phase_level                        time  \\\n0  alt-right_not_interested_1  scrub            0  2022-05-12 10:27:25.959773   \n1  alt-right_not_interested_1  scrub            0  2022-05-12 10:27:25.959787   \n2  alt-right_not_interested_1  scrub            0  2022-05-12 10:27:25.959790   \n3  alt-right_not_interested_1  scrub            0  2022-05-12 10:27:25.959794   \n4  alt-right_not_interested_1  scrub            0  2022-05-12 10:27:25.959796   \n\n  watch_video_id  \n0            NaN  \n1            NaN  \n2            NaN  \n3            NaN  \n4            NaN  ",
      "text/html": "<div>\n<style scoped>\n    .dataframe tbody tr th:only-of-type {\n        vertical-align: middle;\n    }\n\n    .dataframe tbody tr th {\n        vertical-align: top;\n    }\n\n    .dataframe thead th {\n        text-align: right;\n    }\n</style>\n<table border=\"1\" class=\"dataframe\">\n  <thead>\n    <tr style=\"text-align: right;\">\n      <th></th>\n      <th>video_id</th>\n      <th>channel_id</th>\n      <th>rank</th>\n      <th>component</th>\n      <th>bot_name</th>\n      <th>phase</th>\n      <th>phase_level</th>\n      <th>time</th>\n      <th>watch_video_id</th>\n    </tr>\n  </thead>\n  <tbody>\n    <tr>\n      <th>0</th>\n      <td>fxwVUbYXVJg</td>\n      <td>UCHC60upCUfq7EAfw6oDQRDA</td>\n      <td>0</td>\n      <td>homepage</td>\n      <td>alt-right_not_interested_1</td>\n      <td>scrub</td>\n      <td>0</td>\n      <td>2022-05-12 10:27:25.959773</td>\n      <td>NaN</td>\n    </tr>\n    <tr>\n      <th>1</th>\n      <td>XYC0ekh-KqU</td>\n      <td>UCutpp9X6rKErxUkv4wKBRPA</td>\n      <td>1</td>\n      <td>homepage</td>\n      <td>alt-right_not_interested_1</td>\n      <td>scrub</td>\n      <td>0</td>\n      <td>2022-05-12 10:27:25.959787</td>\n      <td>NaN</td>\n    </tr>\n    <tr>\n      <th>2</th>\n      <td>ihaB8AFOhZo</td>\n      <td>UC2LiX7Zjukw_ssz03gjJPpg</td>\n      <td>2</td>\n      <td>homepage</td>\n      <td>alt-right_not_interested_1</td>\n      <td>scrub</td>\n      <td>0</td>\n      <td>2022-05-12 10:27:25.959790</td>\n      <td>NaN</td>\n    </tr>\n    <tr>\n      <th>3</th>\n      <td>wv87IRX9qlA</td>\n      <td>UCur6nu-T7FilkEztCm_S8yA</td>\n      <td>3</td>\n      <td>homepage</td>\n      <td>alt-right_not_interested_1</td>\n      <td>scrub</td>\n      <td>0</td>\n      <td>2022-05-12 10:27:25.959794</td>\n      <td>NaN</td>\n    </tr>\n    <tr>\n      <th>4</th>\n      <td>0b4TU_R7J3c</td>\n      <td>UCsMrUFBSgQSWHqwH-Bsjn6A</td>\n      <td>4</td>\n      <td>homepage</td>\n      <td>alt-right_not_interested_1</td>\n      <td>scrub</td>\n      <td>0</td>\n      <td>2022-05-12 10:27:25.959796</td>\n      <td>NaN</td>\n    </tr>\n  </tbody>\n</table>\n</div>"
     },
     "execution_count": 40,
     "metadata": {},
     "output_type": "execute_result"
    }
   ],
   "source": [
    "scrub_df = homepage_df[homepage_df['phase']=='scrub']\n",
    "scrub_df.head()"
   ],
   "metadata": {
    "collapsed": false,
    "pycharm": {
     "name": "#%%\n"
    }
   }
  },
  {
   "cell_type": "code",
   "execution_count": 41,
   "outputs": [],
   "source": [
    "temp_col = stain_df.apply(\n",
    "    lambda row: row['channel_id'] in channels,\n",
    "    axis=1\n",
    ")"
   ],
   "metadata": {
    "collapsed": false,
    "pycharm": {
     "name": "#%%\n"
    }
   }
  },
  {
   "cell_type": "code",
   "execution_count": 42,
   "outputs": [
    {
     "name": "stderr",
     "output_type": "stream",
     "text": [
      "/var/folders/t6/srtzy2f51db8mxxv7g_63f6h0000gr/T/ipykernel_37650/1011425879.py:1: SettingWithCopyWarning: \n",
      "A value is trying to be set on a copy of a slice from a DataFrame.\n",
      "Try using .loc[row_indexer,col_indexer] = value instead\n",
      "\n",
      "See the caveats in the documentation: https://pandas.pydata.org/pandas-docs/stable/user_guide/indexing.html#returning-a-view-versus-a-copy\n",
      "  stain_df['stain'] = temp_col\n"
     ]
    },
    {
     "data": {
      "text/plain": "      video_id                channel_id  rank component           bot_name  \\\n0  a8Gx8wiNbs8  UCgjxQJ6TlKqhHax8742ZMdA     0  homepage  alt-right_watch_1   \n1  1vzdm0Mz58o  UCq6VFHwMzcMXbuKyG7SQYIg     1  homepage  alt-right_watch_1   \n2  bp8727gV5HA  UC_hK9fOxyy_TM8FJGXIyG8Q     2  homepage  alt-right_watch_1   \n3  PJC-oRDwwY8  UCUaT_39o1x6qWjz7K2pWcgw     3  homepage  alt-right_watch_1   \n4  W-iwfmhpHBE  UCb-0Nf8OEIEdRmCJzLuIrnQ     4  homepage  alt-right_watch_1   \n\n   phase  phase_level                        time watch_video_id  stain  \n0  stain            0  2022-05-11 21:02:42.380057            NaN  False  \n1  stain            0  2022-05-11 21:02:42.380079            NaN  False  \n2  stain            0  2022-05-11 21:02:42.380090            NaN  False  \n3  stain            0  2022-05-11 21:02:42.380094            NaN  False  \n4  stain            0  2022-05-11 21:02:42.380098            NaN  False  ",
      "text/html": "<div>\n<style scoped>\n    .dataframe tbody tr th:only-of-type {\n        vertical-align: middle;\n    }\n\n    .dataframe tbody tr th {\n        vertical-align: top;\n    }\n\n    .dataframe thead th {\n        text-align: right;\n    }\n</style>\n<table border=\"1\" class=\"dataframe\">\n  <thead>\n    <tr style=\"text-align: right;\">\n      <th></th>\n      <th>video_id</th>\n      <th>channel_id</th>\n      <th>rank</th>\n      <th>component</th>\n      <th>bot_name</th>\n      <th>phase</th>\n      <th>phase_level</th>\n      <th>time</th>\n      <th>watch_video_id</th>\n      <th>stain</th>\n    </tr>\n  </thead>\n  <tbody>\n    <tr>\n      <th>0</th>\n      <td>a8Gx8wiNbs8</td>\n      <td>UCgjxQJ6TlKqhHax8742ZMdA</td>\n      <td>0</td>\n      <td>homepage</td>\n      <td>alt-right_watch_1</td>\n      <td>stain</td>\n      <td>0</td>\n      <td>2022-05-11 21:02:42.380057</td>\n      <td>NaN</td>\n      <td>False</td>\n    </tr>\n    <tr>\n      <th>1</th>\n      <td>1vzdm0Mz58o</td>\n      <td>UCq6VFHwMzcMXbuKyG7SQYIg</td>\n      <td>1</td>\n      <td>homepage</td>\n      <td>alt-right_watch_1</td>\n      <td>stain</td>\n      <td>0</td>\n      <td>2022-05-11 21:02:42.380079</td>\n      <td>NaN</td>\n      <td>False</td>\n    </tr>\n    <tr>\n      <th>2</th>\n      <td>bp8727gV5HA</td>\n      <td>UC_hK9fOxyy_TM8FJGXIyG8Q</td>\n      <td>2</td>\n      <td>homepage</td>\n      <td>alt-right_watch_1</td>\n      <td>stain</td>\n      <td>0</td>\n      <td>2022-05-11 21:02:42.380090</td>\n      <td>NaN</td>\n      <td>False</td>\n    </tr>\n    <tr>\n      <th>3</th>\n      <td>PJC-oRDwwY8</td>\n      <td>UCUaT_39o1x6qWjz7K2pWcgw</td>\n      <td>3</td>\n      <td>homepage</td>\n      <td>alt-right_watch_1</td>\n      <td>stain</td>\n      <td>0</td>\n      <td>2022-05-11 21:02:42.380094</td>\n      <td>NaN</td>\n      <td>False</td>\n    </tr>\n    <tr>\n      <th>4</th>\n      <td>W-iwfmhpHBE</td>\n      <td>UCb-0Nf8OEIEdRmCJzLuIrnQ</td>\n      <td>4</td>\n      <td>homepage</td>\n      <td>alt-right_watch_1</td>\n      <td>stain</td>\n      <td>0</td>\n      <td>2022-05-11 21:02:42.380098</td>\n      <td>NaN</td>\n      <td>False</td>\n    </tr>\n  </tbody>\n</table>\n</div>"
     },
     "execution_count": 42,
     "metadata": {},
     "output_type": "execute_result"
    }
   ],
   "source": [
    "stain_df['stain'] = temp_col\n",
    "stain_df.head()"
   ],
   "metadata": {
    "collapsed": false,
    "pycharm": {
     "name": "#%%\n"
    }
   }
  },
  {
   "cell_type": "code",
   "execution_count": 46,
   "outputs": [],
   "source": [
    "temp_col = scrub_df.apply(\n",
    "    lambda row: row['channel_id'] in channels,\n",
    "    axis=1\n",
    ")"
   ],
   "metadata": {
    "collapsed": false,
    "pycharm": {
     "name": "#%%\n"
    }
   }
  },
  {
   "cell_type": "code",
   "execution_count": 48,
   "outputs": [
    {
     "name": "stderr",
     "output_type": "stream",
     "text": [
      "/var/folders/t6/srtzy2f51db8mxxv7g_63f6h0000gr/T/ipykernel_37650/324234429.py:1: SettingWithCopyWarning: \n",
      "A value is trying to be set on a copy of a slice from a DataFrame.\n",
      "Try using .loc[row_indexer,col_indexer] = value instead\n",
      "\n",
      "See the caveats in the documentation: https://pandas.pydata.org/pandas-docs/stable/user_guide/indexing.html#returning-a-view-versus-a-copy\n",
      "  scrub_df['stain'] = temp_col\n"
     ]
    },
    {
     "data": {
      "text/plain": "      video_id                channel_id  rank component  \\\n0  fxwVUbYXVJg  UCHC60upCUfq7EAfw6oDQRDA     0  homepage   \n1  XYC0ekh-KqU  UCutpp9X6rKErxUkv4wKBRPA     1  homepage   \n2  ihaB8AFOhZo  UC2LiX7Zjukw_ssz03gjJPpg     2  homepage   \n3  wv87IRX9qlA  UCur6nu-T7FilkEztCm_S8yA     3  homepage   \n4  0b4TU_R7J3c  UCsMrUFBSgQSWHqwH-Bsjn6A     4  homepage   \n\n                     bot_name  phase  phase_level                        time  \\\n0  alt-right_not_interested_1  scrub            0  2022-05-12 10:27:25.959773   \n1  alt-right_not_interested_1  scrub            0  2022-05-12 10:27:25.959787   \n2  alt-right_not_interested_1  scrub            0  2022-05-12 10:27:25.959790   \n3  alt-right_not_interested_1  scrub            0  2022-05-12 10:27:25.959794   \n4  alt-right_not_interested_1  scrub            0  2022-05-12 10:27:25.959796   \n\n  watch_video_id  stain  \n0            NaN   True  \n1            NaN   True  \n2            NaN  False  \n3            NaN   True  \n4            NaN  False  ",
      "text/html": "<div>\n<style scoped>\n    .dataframe tbody tr th:only-of-type {\n        vertical-align: middle;\n    }\n\n    .dataframe tbody tr th {\n        vertical-align: top;\n    }\n\n    .dataframe thead th {\n        text-align: right;\n    }\n</style>\n<table border=\"1\" class=\"dataframe\">\n  <thead>\n    <tr style=\"text-align: right;\">\n      <th></th>\n      <th>video_id</th>\n      <th>channel_id</th>\n      <th>rank</th>\n      <th>component</th>\n      <th>bot_name</th>\n      <th>phase</th>\n      <th>phase_level</th>\n      <th>time</th>\n      <th>watch_video_id</th>\n      <th>stain</th>\n    </tr>\n  </thead>\n  <tbody>\n    <tr>\n      <th>0</th>\n      <td>fxwVUbYXVJg</td>\n      <td>UCHC60upCUfq7EAfw6oDQRDA</td>\n      <td>0</td>\n      <td>homepage</td>\n      <td>alt-right_not_interested_1</td>\n      <td>scrub</td>\n      <td>0</td>\n      <td>2022-05-12 10:27:25.959773</td>\n      <td>NaN</td>\n      <td>True</td>\n    </tr>\n    <tr>\n      <th>1</th>\n      <td>XYC0ekh-KqU</td>\n      <td>UCutpp9X6rKErxUkv4wKBRPA</td>\n      <td>1</td>\n      <td>homepage</td>\n      <td>alt-right_not_interested_1</td>\n      <td>scrub</td>\n      <td>0</td>\n      <td>2022-05-12 10:27:25.959787</td>\n      <td>NaN</td>\n      <td>True</td>\n    </tr>\n    <tr>\n      <th>2</th>\n      <td>ihaB8AFOhZo</td>\n      <td>UC2LiX7Zjukw_ssz03gjJPpg</td>\n      <td>2</td>\n      <td>homepage</td>\n      <td>alt-right_not_interested_1</td>\n      <td>scrub</td>\n      <td>0</td>\n      <td>2022-05-12 10:27:25.959790</td>\n      <td>NaN</td>\n      <td>False</td>\n    </tr>\n    <tr>\n      <th>3</th>\n      <td>wv87IRX9qlA</td>\n      <td>UCur6nu-T7FilkEztCm_S8yA</td>\n      <td>3</td>\n      <td>homepage</td>\n      <td>alt-right_not_interested_1</td>\n      <td>scrub</td>\n      <td>0</td>\n      <td>2022-05-12 10:27:25.959794</td>\n      <td>NaN</td>\n      <td>True</td>\n    </tr>\n    <tr>\n      <th>4</th>\n      <td>0b4TU_R7J3c</td>\n      <td>UCsMrUFBSgQSWHqwH-Bsjn6A</td>\n      <td>4</td>\n      <td>homepage</td>\n      <td>alt-right_not_interested_1</td>\n      <td>scrub</td>\n      <td>0</td>\n      <td>2022-05-12 10:27:25.959796</td>\n      <td>NaN</td>\n      <td>False</td>\n    </tr>\n  </tbody>\n</table>\n</div>"
     },
     "execution_count": 48,
     "metadata": {},
     "output_type": "execute_result"
    }
   ],
   "source": [
    "scrub_df['stain'] = temp_col\n",
    "scrub_df.head()"
   ],
   "metadata": {
    "collapsed": false,
    "pycharm": {
     "name": "#%%\n"
    }
   }
  },
  {
   "cell_type": "code",
   "execution_count": 44,
   "outputs": [],
   "source": [
    "def percentage_true(values):\n",
    "    num = 0\n",
    "    for v in values:\n",
    "        if v:\n",
    "            num += 1\n",
    "    return num * 1.0 / len(values)"
   ],
   "metadata": {
    "collapsed": false,
    "pycharm": {
     "name": "#%%\n"
    }
   }
  },
  {
   "cell_type": "code",
   "execution_count": 65,
   "outputs": [
    {
     "data": {
      "text/plain": "             percentage_true\nphase_level                 \n0                        0.0\n1                        0.0\n2                        0.0\n3                        0.2\n4                        0.5\n5                        0.0\n6                        0.1\n7                        0.5\n8                        0.1\n9                        0.1\n10                       0.1\n11                       0.2\n12                       0.3\n13                       0.3\n14                       0.3\n15                       0.5\n16                       0.3\n17                       0.3\n18                       0.4\n19                       0.4\n20                       0.3\n21                       0.4\n22                       0.5\n23                       0.5\n24                       0.6\n25                       0.4\n26                       0.5\n27                       0.5\n28                       0.4\n29                       0.4\n30                       0.3\n31                       0.5\n32                       0.3\n33                       0.5\n34                       0.3\n35                       0.4\n36                       0.5\n37                       0.4\n38                       0.5\n39                       0.5",
      "text/html": "<div>\n<style scoped>\n    .dataframe tbody tr th:only-of-type {\n        vertical-align: middle;\n    }\n\n    .dataframe tbody tr th {\n        vertical-align: top;\n    }\n\n    .dataframe thead th {\n        text-align: right;\n    }\n</style>\n<table border=\"1\" class=\"dataframe\">\n  <thead>\n    <tr style=\"text-align: right;\">\n      <th></th>\n      <th>percentage_true</th>\n    </tr>\n    <tr>\n      <th>phase_level</th>\n      <th></th>\n    </tr>\n  </thead>\n  <tbody>\n    <tr>\n      <th>0</th>\n      <td>0.0</td>\n    </tr>\n    <tr>\n      <th>1</th>\n      <td>0.0</td>\n    </tr>\n    <tr>\n      <th>2</th>\n      <td>0.0</td>\n    </tr>\n    <tr>\n      <th>3</th>\n      <td>0.2</td>\n    </tr>\n    <tr>\n      <th>4</th>\n      <td>0.5</td>\n    </tr>\n    <tr>\n      <th>5</th>\n      <td>0.0</td>\n    </tr>\n    <tr>\n      <th>6</th>\n      <td>0.1</td>\n    </tr>\n    <tr>\n      <th>7</th>\n      <td>0.5</td>\n    </tr>\n    <tr>\n      <th>8</th>\n      <td>0.1</td>\n    </tr>\n    <tr>\n      <th>9</th>\n      <td>0.1</td>\n    </tr>\n    <tr>\n      <th>10</th>\n      <td>0.1</td>\n    </tr>\n    <tr>\n      <th>11</th>\n      <td>0.2</td>\n    </tr>\n    <tr>\n      <th>12</th>\n      <td>0.3</td>\n    </tr>\n    <tr>\n      <th>13</th>\n      <td>0.3</td>\n    </tr>\n    <tr>\n      <th>14</th>\n      <td>0.3</td>\n    </tr>\n    <tr>\n      <th>15</th>\n      <td>0.5</td>\n    </tr>\n    <tr>\n      <th>16</th>\n      <td>0.3</td>\n    </tr>\n    <tr>\n      <th>17</th>\n      <td>0.3</td>\n    </tr>\n    <tr>\n      <th>18</th>\n      <td>0.4</td>\n    </tr>\n    <tr>\n      <th>19</th>\n      <td>0.4</td>\n    </tr>\n    <tr>\n      <th>20</th>\n      <td>0.3</td>\n    </tr>\n    <tr>\n      <th>21</th>\n      <td>0.4</td>\n    </tr>\n    <tr>\n      <th>22</th>\n      <td>0.5</td>\n    </tr>\n    <tr>\n      <th>23</th>\n      <td>0.5</td>\n    </tr>\n    <tr>\n      <th>24</th>\n      <td>0.6</td>\n    </tr>\n    <tr>\n      <th>25</th>\n      <td>0.4</td>\n    </tr>\n    <tr>\n      <th>26</th>\n      <td>0.5</td>\n    </tr>\n    <tr>\n      <th>27</th>\n      <td>0.5</td>\n    </tr>\n    <tr>\n      <th>28</th>\n      <td>0.4</td>\n    </tr>\n    <tr>\n      <th>29</th>\n      <td>0.4</td>\n    </tr>\n    <tr>\n      <th>30</th>\n      <td>0.3</td>\n    </tr>\n    <tr>\n      <th>31</th>\n      <td>0.5</td>\n    </tr>\n    <tr>\n      <th>32</th>\n      <td>0.3</td>\n    </tr>\n    <tr>\n      <th>33</th>\n      <td>0.5</td>\n    </tr>\n    <tr>\n      <th>34</th>\n      <td>0.3</td>\n    </tr>\n    <tr>\n      <th>35</th>\n      <td>0.4</td>\n    </tr>\n    <tr>\n      <th>36</th>\n      <td>0.5</td>\n    </tr>\n    <tr>\n      <th>37</th>\n      <td>0.4</td>\n    </tr>\n    <tr>\n      <th>38</th>\n      <td>0.5</td>\n    </tr>\n    <tr>\n      <th>39</th>\n      <td>0.5</td>\n    </tr>\n  </tbody>\n</table>\n</div>"
     },
     "execution_count": 65,
     "metadata": {},
     "output_type": "execute_result"
    }
   ],
   "source": [
    "stain_percents = stain_df.groupby(['phase_level'])['stain'].agg([percentage_true])\n",
    "stain_percents"
   ],
   "metadata": {
    "collapsed": false,
    "pycharm": {
     "name": "#%%\n"
    }
   }
  },
  {
   "cell_type": "code",
   "execution_count": 54,
   "outputs": [
    {
     "data": {
      "text/plain": "             percentage_true\nphase_level                 \n0                        0.4\n1                        0.2\n2                        0.2\n3                        0.0\n4                        0.0\n5                        0.0\n6                        0.0\n7                        0.1\n8                        0.0\n9                        0.0\n10                       0.0\n11                       0.0\n12                       0.1\n13                       0.0\n14                       0.0\n15                       0.0\n16                       0.0\n17                       0.0\n18                       0.0\n19                       0.0\n20                       0.0\n21                       0.0\n22                       0.0\n23                       0.0\n24                       0.0\n25                       0.0\n26                       0.0\n27                       0.0\n28                       0.0\n29                       0.0\n30                       0.0\n31                       0.0\n32                       0.0\n33                       0.0\n34                       0.0\n35                       0.0\n36                       0.0\n37                       0.0\n38                       0.0\n39                       0.0\n40                       0.0\n41                       0.0\n42                       0.0",
      "text/html": "<div>\n<style scoped>\n    .dataframe tbody tr th:only-of-type {\n        vertical-align: middle;\n    }\n\n    .dataframe tbody tr th {\n        vertical-align: top;\n    }\n\n    .dataframe thead th {\n        text-align: right;\n    }\n</style>\n<table border=\"1\" class=\"dataframe\">\n  <thead>\n    <tr style=\"text-align: right;\">\n      <th></th>\n      <th>percentage_true</th>\n    </tr>\n    <tr>\n      <th>phase_level</th>\n      <th></th>\n    </tr>\n  </thead>\n  <tbody>\n    <tr>\n      <th>0</th>\n      <td>0.4</td>\n    </tr>\n    <tr>\n      <th>1</th>\n      <td>0.2</td>\n    </tr>\n    <tr>\n      <th>2</th>\n      <td>0.2</td>\n    </tr>\n    <tr>\n      <th>3</th>\n      <td>0.0</td>\n    </tr>\n    <tr>\n      <th>4</th>\n      <td>0.0</td>\n    </tr>\n    <tr>\n      <th>5</th>\n      <td>0.0</td>\n    </tr>\n    <tr>\n      <th>6</th>\n      <td>0.0</td>\n    </tr>\n    <tr>\n      <th>7</th>\n      <td>0.1</td>\n    </tr>\n    <tr>\n      <th>8</th>\n      <td>0.0</td>\n    </tr>\n    <tr>\n      <th>9</th>\n      <td>0.0</td>\n    </tr>\n    <tr>\n      <th>10</th>\n      <td>0.0</td>\n    </tr>\n    <tr>\n      <th>11</th>\n      <td>0.0</td>\n    </tr>\n    <tr>\n      <th>12</th>\n      <td>0.1</td>\n    </tr>\n    <tr>\n      <th>13</th>\n      <td>0.0</td>\n    </tr>\n    <tr>\n      <th>14</th>\n      <td>0.0</td>\n    </tr>\n    <tr>\n      <th>15</th>\n      <td>0.0</td>\n    </tr>\n    <tr>\n      <th>16</th>\n      <td>0.0</td>\n    </tr>\n    <tr>\n      <th>17</th>\n      <td>0.0</td>\n    </tr>\n    <tr>\n      <th>18</th>\n      <td>0.0</td>\n    </tr>\n    <tr>\n      <th>19</th>\n      <td>0.0</td>\n    </tr>\n    <tr>\n      <th>20</th>\n      <td>0.0</td>\n    </tr>\n    <tr>\n      <th>21</th>\n      <td>0.0</td>\n    </tr>\n    <tr>\n      <th>22</th>\n      <td>0.0</td>\n    </tr>\n    <tr>\n      <th>23</th>\n      <td>0.0</td>\n    </tr>\n    <tr>\n      <th>24</th>\n      <td>0.0</td>\n    </tr>\n    <tr>\n      <th>25</th>\n      <td>0.0</td>\n    </tr>\n    <tr>\n      <th>26</th>\n      <td>0.0</td>\n    </tr>\n    <tr>\n      <th>27</th>\n      <td>0.0</td>\n    </tr>\n    <tr>\n      <th>28</th>\n      <td>0.0</td>\n    </tr>\n    <tr>\n      <th>29</th>\n      <td>0.0</td>\n    </tr>\n    <tr>\n      <th>30</th>\n      <td>0.0</td>\n    </tr>\n    <tr>\n      <th>31</th>\n      <td>0.0</td>\n    </tr>\n    <tr>\n      <th>32</th>\n      <td>0.0</td>\n    </tr>\n    <tr>\n      <th>33</th>\n      <td>0.0</td>\n    </tr>\n    <tr>\n      <th>34</th>\n      <td>0.0</td>\n    </tr>\n    <tr>\n      <th>35</th>\n      <td>0.0</td>\n    </tr>\n    <tr>\n      <th>36</th>\n      <td>0.0</td>\n    </tr>\n    <tr>\n      <th>37</th>\n      <td>0.0</td>\n    </tr>\n    <tr>\n      <th>38</th>\n      <td>0.0</td>\n    </tr>\n    <tr>\n      <th>39</th>\n      <td>0.0</td>\n    </tr>\n    <tr>\n      <th>40</th>\n      <td>0.0</td>\n    </tr>\n    <tr>\n      <th>41</th>\n      <td>0.0</td>\n    </tr>\n    <tr>\n      <th>42</th>\n      <td>0.0</td>\n    </tr>\n  </tbody>\n</table>\n</div>"
     },
     "execution_count": 54,
     "metadata": {},
     "output_type": "execute_result"
    }
   ],
   "source": [
    "stain_percents_scrub = scrub_df.groupby(['phase_level'])['stain'].agg([percentage_true])\n",
    "stain_percents_scrub"
   ],
   "metadata": {
    "collapsed": false,
    "pycharm": {
     "name": "#%%\n"
    }
   }
  },
  {
   "cell_type": "code",
   "execution_count": 50,
   "outputs": [],
   "source": [
    "import matplotlib.pyplot as plt\n"
   ],
   "metadata": {
    "collapsed": false,
    "pycharm": {
     "name": "#%%\n"
    }
   }
  },
  {
   "cell_type": "code",
   "execution_count": 63,
   "outputs": [
    {
     "data": {
      "text/plain": "<AxesSubplot:xlabel='phase_level'>"
     },
     "execution_count": 63,
     "metadata": {},
     "output_type": "execute_result"
    },
    {
     "data": {
      "text/plain": "<Figure size 432x288 with 1 Axes>",
      "image/png": "[encoded data removed]"
     },
     "metadata": {
      "needs_background": "light"
     },
     "output_type": "display_data"
    }
   ],
   "source": [
    "stain_percents.plot(yticks=[0,0.2,0.4,0.6,0.8])"
   ],
   "metadata": {
    "collapsed": false,
    "pycharm": {
     "name": "#%%\n"
    }
   }
  },
  {
   "cell_type": "code",
   "execution_count": 64,
   "outputs": [
    {
     "data": {
      "text/plain": "<AxesSubplot:xlabel='phase_level'>"
     },
     "execution_count": 64,
     "metadata": {},
     "output_type": "execute_result"
    },
    {
     "data": {
      "text/plain": "<Figure size 432x288 with 1 Axes>",
      "image/png": "[encoded data removed]"
     },
     "metadata": {
      "needs_background": "light"
     },
     "output_type": "display_data"
    }
   ],
   "source": [
    "stain_percents_scrub.plot(yticks=[0,0.2,0.4,0.6,0.8])"
   ],
   "metadata": {
    "collapsed": false,
    "pycharm": {
     "name": "#%%\n"
    }
   }
  },
  {
   "cell_type": "code",
   "execution_count": null,
   "outputs": [],
   "source": [],
   "metadata": {
    "collapsed": false,
    "pycharm": {
     "name": "#%%\n"
    }
   }
  }
 ],
 "metadata": {
  "kernelspec": {
   "display_name": "Python 3 (ipykernel)",
   "language": "python",
   "name": "python3"
  },
  "language_info": {
   "codemirror_mode": {
    "name": "ipython",
    "version": 3
   },
   "file_extension": ".py",
   "mimetype": "text/x-python",
   "name": "python",
   "nbconvert_exporter": "python",
   "pygments_lexer": "ipython3",
   "version": "3.8.12"
  }
 },
 "nbformat": 4,
 "nbformat_minor": 5
}