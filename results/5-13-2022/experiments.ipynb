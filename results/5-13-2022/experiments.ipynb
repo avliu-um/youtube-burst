{
 "cells": [
  {
   "cell_type": "raw",
   "metadata": {
    "collapsed": true,
    "pycharm": {
     "name": "#%% raw\n"
    }
   },
   "source": [
    "Graph of recommendations on homepage over time\n",
    "Graph of videopage recommedations for stain phase\n",
    "Comparison of videopage recommendations at three points\n",
    "Curious questions:\n",
    "    - after acting on a channel once, does it reappear?\n",
    "    - do bad videos being recommended match channels of seed videos?\n",
    "    - how many times is our rec-based action invoked (i.e. non-zero bad recommendations during scrub phase)"
   ]
  },
  {
   "cell_type": "code",
   "execution_count": 1,
   "outputs": [],
   "source": [
    "import pandas as pd"
   ],
   "metadata": {
    "collapsed": false,
    "pycharm": {
     "name": "#%%\n"
    }
   }
  },
  {
   "cell_type": "code",
   "execution_count": 7,
   "outputs": [],
   "source": [
    "results_filepath = './alt-right_dislike_recommendation_0.csv'\n",
    "channels_filepath = '../../communities/alt-right/ribeiro_alt-right.csv'"
   ],
   "metadata": {
    "collapsed": false,
    "pycharm": {
     "name": "#%%\n"
    }
   }
  },
  {
   "cell_type": "code",
   "execution_count": 3,
   "outputs": [
    {
     "data": {
      "text/plain": "      video_id                channel_id  rank component  \\\n0  1rlPdXPKNBc  UC7u9o8BHiJyH2_cef_nC7tQ     0  homepage   \n1  GyYJV1psDow  UClgRkhTL3_hImCAmdLfDE4g     1  homepage   \n2  7XthJZrzXgY  UCpB959t8iPrxQWj7G6n0ctQ     2  homepage   \n3  YS15RLUQ_FU  UCPDis9pjXuqyI7RYLJ-TTSA     3  homepage   \n4  z4NCh_Lq8hE  UCzXwjTI6c6mVn6oui_p6oiw     4  homepage   \n\n                             bot_name  phase  phase_level  level  \\\n0  alt-right_dislike_recommendation_0  stain            0      0   \n1  alt-right_dislike_recommendation_0  stain            0      0   \n2  alt-right_dislike_recommendation_0  stain            0      0   \n3  alt-right_dislike_recommendation_0  stain            0      0   \n4  alt-right_dislike_recommendation_0  stain            0      0   \n\n                         time watch_video_id  \n0  2022-05-12 22:41:51.630261            NaN  \n1  2022-05-12 22:41:51.630273            NaN  \n2  2022-05-12 22:41:51.630276            NaN  \n3  2022-05-12 22:41:51.630278            NaN  \n4  2022-05-12 22:41:51.630280            NaN  ",
      "text/html": "<div>\n<style scoped>\n    .dataframe tbody tr th:only-of-type {\n        vertical-align: middle;\n    }\n\n    .dataframe tbody tr th {\n        vertical-align: top;\n    }\n\n    .dataframe thead th {\n        text-align: right;\n    }\n</style>\n<table border=\"1\" class=\"dataframe\">\n  <thead>\n    <tr style=\"text-align: right;\">\n      <th></th>\n      <th>video_id</th>\n      <th>channel_id</th>\n      <th>rank</th>\n      <th>component</th>\n      <th>bot_name</th>\n      <th>phase</th>\n      <th>phase_level</th>\n      <th>level</th>\n      <th>time</th>\n      <th>watch_video_id</th>\n    </tr>\n  </thead>\n  <tbody>\n    <tr>\n      <th>0</th>\n      <td>1rlPdXPKNBc</td>\n      <td>UC7u9o8BHiJyH2_cef_nC7tQ</td>\n      <td>0</td>\n      <td>homepage</td>\n      <td>alt-right_dislike_recommendation_0</td>\n      <td>stain</td>\n      <td>0</td>\n      <td>0</td>\n      <td>2022-05-12 22:41:51.630261</td>\n      <td>NaN</td>\n    </tr>\n    <tr>\n      <th>1</th>\n      <td>GyYJV1psDow</td>\n      <td>UClgRkhTL3_hImCAmdLfDE4g</td>\n      <td>1</td>\n      <td>homepage</td>\n      <td>alt-right_dislike_recommendation_0</td>\n      <td>stain</td>\n      <td>0</td>\n      <td>0</td>\n      <td>2022-05-12 22:41:51.630273</td>\n      <td>NaN</td>\n    </tr>\n    <tr>\n      <th>2</th>\n      <td>7XthJZrzXgY</td>\n      <td>UCpB959t8iPrxQWj7G6n0ctQ</td>\n      <td>2</td>\n      <td>homepage</td>\n      <td>alt-right_dislike_recommendation_0</td>\n      <td>stain</td>\n      <td>0</td>\n      <td>0</td>\n      <td>2022-05-12 22:41:51.630276</td>\n      <td>NaN</td>\n    </tr>\n    <tr>\n      <th>3</th>\n      <td>YS15RLUQ_FU</td>\n      <td>UCPDis9pjXuqyI7RYLJ-TTSA</td>\n      <td>3</td>\n      <td>homepage</td>\n      <td>alt-right_dislike_recommendation_0</td>\n      <td>stain</td>\n      <td>0</td>\n      <td>0</td>\n      <td>2022-05-12 22:41:51.630278</td>\n      <td>NaN</td>\n    </tr>\n    <tr>\n      <th>4</th>\n      <td>z4NCh_Lq8hE</td>\n      <td>UCzXwjTI6c6mVn6oui_p6oiw</td>\n      <td>4</td>\n      <td>homepage</td>\n      <td>alt-right_dislike_recommendation_0</td>\n      <td>stain</td>\n      <td>0</td>\n      <td>0</td>\n      <td>2022-05-12 22:41:51.630280</td>\n      <td>NaN</td>\n    </tr>\n  </tbody>\n</table>\n</div>"
     },
     "execution_count": 3,
     "metadata": {},
     "output_type": "execute_result"
    }
   ],
   "source": [
    "results_df = pd.read_csv(results_filepath)\n",
    "results_df.head()"
   ],
   "metadata": {
    "collapsed": false,
    "pycharm": {
     "name": "#%%\n"
    }
   }
  },
  {
   "cell_type": "code",
   "execution_count": 9,
   "outputs": [
    {
     "data": {
      "text/plain": "                          0\n0  UCSTy-H5lSiCcozas32sfJlQ\n1  UCmtALVZjXFzb4v3fIXDmDyw\n2  UClMWnUHbxJKJLUgloN1mPUA\n3  UC4f8Z2XefBDL421pnNEQH0Q\n4  UCFc0stDRUkeBDc36qZeox1g",
      "text/html": "<div>\n<style scoped>\n    .dataframe tbody tr th:only-of-type {\n        vertical-align: middle;\n    }\n\n    .dataframe tbody tr th {\n        vertical-align: top;\n    }\n\n    .dataframe thead th {\n        text-align: right;\n    }\n</style>\n<table border=\"1\" class=\"dataframe\">\n  <thead>\n    <tr style=\"text-align: right;\">\n      <th></th>\n      <th>0</th>\n    </tr>\n  </thead>\n  <tbody>\n    <tr>\n      <th>0</th>\n      <td>UCSTy-H5lSiCcozas32sfJlQ</td>\n    </tr>\n    <tr>\n      <th>1</th>\n      <td>UCmtALVZjXFzb4v3fIXDmDyw</td>\n    </tr>\n    <tr>\n      <th>2</th>\n      <td>UClMWnUHbxJKJLUgloN1mPUA</td>\n    </tr>\n    <tr>\n      <th>3</th>\n      <td>UC4f8Z2XefBDL421pnNEQH0Q</td>\n    </tr>\n    <tr>\n      <th>4</th>\n      <td>UCFc0stDRUkeBDc36qZeox1g</td>\n    </tr>\n  </tbody>\n</table>\n</div>"
     },
     "execution_count": 9,
     "metadata": {},
     "output_type": "execute_result"
    }
   ],
   "source": [
    "channels_df = pd.read_csv(channels_filepath, header=None)\n",
    "channels_df.head()"
   ],
   "metadata": {
    "collapsed": false,
    "pycharm": {
     "name": "#%%\n"
    }
   }
  },
  {
   "cell_type": "code",
   "execution_count": 10,
   "outputs": [],
   "source": [
    "channels = set(channels_df[0])"
   ],
   "metadata": {
    "collapsed": false,
    "pycharm": {
     "name": "#%%\n"
    }
   }
  },
  {
   "cell_type": "code",
   "execution_count": 10,
   "outputs": [],
   "source": [],
   "metadata": {
    "collapsed": false,
    "pycharm": {
     "name": "#%%\n"
    }
   }
  },
  {
   "cell_type": "code",
   "execution_count": 11,
   "outputs": [
    {
     "data": {
      "text/plain": "stain\nFalse    1010\nTrue      190\nName: stain, dtype: int64"
     },
     "execution_count": 11,
     "metadata": {},
     "output_type": "execute_result"
    }
   ],
   "source": [
    "# How many recommendations are from bad channels?\n",
    "results_df['stain'] = results_df.apply(\n",
    "    lambda row: row['channel_id'] in channels,\n",
    "    axis=1\n",
    ")\n",
    "results_df.groupby(['stain'])['stain'].agg('count')"
   ],
   "metadata": {
    "collapsed": false,
    "pycharm": {
     "name": "#%%\n"
    }
   }
  },
  {
   "cell_type": "code",
   "execution_count": 12,
   "outputs": [],
   "source": [],
   "metadata": {
    "collapsed": false,
    "pycharm": {
     "name": "#%%\n"
    }
   }
  },
  {
   "cell_type": "code",
   "execution_count": 13,
   "outputs": [],
   "source": [
    "from analysis import percentage_true"
   ],
   "metadata": {
    "collapsed": false,
    "pycharm": {
     "name": "#%%\n"
    }
   }
  },
  {
   "cell_type": "code",
   "execution_count": 16,
   "outputs": [],
   "source": [
    "homepage_df = results_df[results_df['component']=='homepage']"
   ],
   "metadata": {
    "collapsed": false,
    "pycharm": {
     "name": "#%%\n"
    }
   }
  },
  {
   "cell_type": "code",
   "execution_count": 24,
   "outputs": [
    {
     "data": {
      "text/plain": "       percentage_true\nlevel                 \n0                  0.0\n1                  0.2\n2                  0.2\n3                  0.2\n4                  0.5\n...                ...\n77                 0.0\n78                 0.0\n79                 0.0\n80                 0.0\n82                 0.0\n\n[82 rows x 1 columns]",
      "text/html": "<div>\n<style scoped>\n    .dataframe tbody tr th:only-of-type {\n        vertical-align: middle;\n    }\n\n    .dataframe tbody tr th {\n        vertical-align: top;\n    }\n\n    .dataframe thead th {\n        text-align: right;\n    }\n</style>\n<table border=\"1\" class=\"dataframe\">\n  <thead>\n    <tr style=\"text-align: right;\">\n      <th></th>\n      <th>percentage_true</th>\n    </tr>\n    <tr>\n      <th>level</th>\n      <th></th>\n    </tr>\n  </thead>\n  <tbody>\n    <tr>\n      <th>0</th>\n      <td>0.0</td>\n    </tr>\n    <tr>\n      <th>1</th>\n      <td>0.2</td>\n    </tr>\n    <tr>\n      <th>2</th>\n      <td>0.2</td>\n    </tr>\n    <tr>\n      <th>3</th>\n      <td>0.2</td>\n    </tr>\n    <tr>\n      <th>4</th>\n      <td>0.5</td>\n    </tr>\n    <tr>\n      <th>...</th>\n      <td>...</td>\n    </tr>\n    <tr>\n      <th>77</th>\n      <td>0.0</td>\n    </tr>\n    <tr>\n      <th>78</th>\n      <td>0.0</td>\n    </tr>\n    <tr>\n      <th>79</th>\n      <td>0.0</td>\n    </tr>\n    <tr>\n      <th>80</th>\n      <td>0.0</td>\n    </tr>\n    <tr>\n      <th>82</th>\n      <td>0.0</td>\n    </tr>\n  </tbody>\n</table>\n<p>82 rows × 1 columns</p>\n</div>"
     },
     "execution_count": 24,
     "metadata": {},
     "output_type": "execute_result"
    }
   ],
   "source": [
    "stain_percents = homepage_df.groupby(['level'])['stain'].agg([percentage_true])\n",
    "stain_percents"
   ],
   "metadata": {
    "collapsed": false,
    "pycharm": {
     "name": "#%%\n"
    }
   }
  },
  {
   "cell_type": "code",
   "execution_count": 19,
   "outputs": [
    {
     "data": {
      "text/plain": "<AxesSubplot:xlabel='level'>"
     },
     "execution_count": 19,
     "metadata": {},
     "output_type": "execute_result"
    },
    {
     "data": {
      "text/plain": "<Figure size 432x288 with 1 Axes>",
      "image/png": "[encoded data removed]"
     },
     "metadata": {
      "needs_background": "light"
     },
     "output_type": "display_data"
    }
   ],
   "source": [
    "stain_percents.plot()"
   ],
   "metadata": {
    "collapsed": false,
    "pycharm": {
     "name": "#%%\n"
    }
   }
  },
  {
   "cell_type": "code",
   "execution_count": 19,
   "outputs": [],
   "source": [],
   "metadata": {
    "collapsed": false,
    "pycharm": {
     "name": "#%%\n"
    }
   }
  },
  {
   "cell_type": "code",
   "execution_count": 21,
   "outputs": [
    {
     "data": {
      "text/plain": "       video_id                channel_id  rank  component  \\\n10  TcFt_khISRQ  UC4LyGVdDhiNUetMFSkw41wA     0  videopage   \n11  -rTT588cgtc  UCtyD5Kviv9fxHiyXPio-TOA     1  videopage   \n12  fsCMpMDj6kA  UCqMCUVhU7ESYppPAbzMKjWg     2  videopage   \n13  HtBevengm94  UCZtDKD0pFpPclXA7ZAti90w     3  videopage   \n14  XgFqguNaCIg  UCR3a64-Pbq4IaP4eAl8tpyA     4  videopage   \n\n                              bot_name  phase  phase_level  level  \\\n10  alt-right_dislike_recommendation_0  stain            0      0   \n11  alt-right_dislike_recommendation_0  stain            0      0   \n12  alt-right_dislike_recommendation_0  stain            0      0   \n13  alt-right_dislike_recommendation_0  stain            0      0   \n14  alt-right_dislike_recommendation_0  stain            0      0   \n\n                          time watch_video_id  stain  \n10  2022-05-12 22:42:10.081753    pKM-_x5vgNI  False  \n11  2022-05-12 22:42:10.081763    pKM-_x5vgNI  False  \n12  2022-05-12 22:42:10.081765    pKM-_x5vgNI  False  \n13  2022-05-12 22:42:10.081766    pKM-_x5vgNI   True  \n14  2022-05-12 22:42:10.081768    pKM-_x5vgNI  False  ",
      "text/html": "<div>\n<style scoped>\n    .dataframe tbody tr th:only-of-type {\n        vertical-align: middle;\n    }\n\n    .dataframe tbody tr th {\n        vertical-align: top;\n    }\n\n    .dataframe thead th {\n        text-align: right;\n    }\n</style>\n<table border=\"1\" class=\"dataframe\">\n  <thead>\n    <tr style=\"text-align: right;\">\n      <th></th>\n      <th>video_id</th>\n      <th>channel_id</th>\n      <th>rank</th>\n      <th>component</th>\n      <th>bot_name</th>\n      <th>phase</th>\n      <th>phase_level</th>\n      <th>level</th>\n      <th>time</th>\n      <th>watch_video_id</th>\n      <th>stain</th>\n    </tr>\n  </thead>\n  <tbody>\n    <tr>\n      <th>10</th>\n      <td>TcFt_khISRQ</td>\n      <td>UC4LyGVdDhiNUetMFSkw41wA</td>\n      <td>0</td>\n      <td>videopage</td>\n      <td>alt-right_dislike_recommendation_0</td>\n      <td>stain</td>\n      <td>0</td>\n      <td>0</td>\n      <td>2022-05-12 22:42:10.081753</td>\n      <td>pKM-_x5vgNI</td>\n      <td>False</td>\n    </tr>\n    <tr>\n      <th>11</th>\n      <td>-rTT588cgtc</td>\n      <td>UCtyD5Kviv9fxHiyXPio-TOA</td>\n      <td>1</td>\n      <td>videopage</td>\n      <td>alt-right_dislike_recommendation_0</td>\n      <td>stain</td>\n      <td>0</td>\n      <td>0</td>\n      <td>2022-05-12 22:42:10.081763</td>\n      <td>pKM-_x5vgNI</td>\n      <td>False</td>\n    </tr>\n    <tr>\n      <th>12</th>\n      <td>fsCMpMDj6kA</td>\n      <td>UCqMCUVhU7ESYppPAbzMKjWg</td>\n      <td>2</td>\n      <td>videopage</td>\n      <td>alt-right_dislike_recommendation_0</td>\n      <td>stain</td>\n      <td>0</td>\n      <td>0</td>\n      <td>2022-05-12 22:42:10.081765</td>\n      <td>pKM-_x5vgNI</td>\n      <td>False</td>\n    </tr>\n    <tr>\n      <th>13</th>\n      <td>HtBevengm94</td>\n      <td>UCZtDKD0pFpPclXA7ZAti90w</td>\n      <td>3</td>\n      <td>videopage</td>\n      <td>alt-right_dislike_recommendation_0</td>\n      <td>stain</td>\n      <td>0</td>\n      <td>0</td>\n      <td>2022-05-12 22:42:10.081766</td>\n      <td>pKM-_x5vgNI</td>\n      <td>True</td>\n    </tr>\n    <tr>\n      <th>14</th>\n      <td>XgFqguNaCIg</td>\n      <td>UCR3a64-Pbq4IaP4eAl8tpyA</td>\n      <td>4</td>\n      <td>videopage</td>\n      <td>alt-right_dislike_recommendation_0</td>\n      <td>stain</td>\n      <td>0</td>\n      <td>0</td>\n      <td>2022-05-12 22:42:10.081768</td>\n      <td>pKM-_x5vgNI</td>\n      <td>False</td>\n    </tr>\n  </tbody>\n</table>\n</div>"
     },
     "execution_count": 21,
     "metadata": {},
     "output_type": "execute_result"
    }
   ],
   "source": [
    "videopage_df = results_df[results_df['component']=='videopage']\n",
    "videopage_df.head()"
   ],
   "metadata": {
    "collapsed": false,
    "pycharm": {
     "name": "#%%\n"
    }
   }
  },
  {
   "cell_type": "code",
   "execution_count": 23,
   "outputs": [
    {
     "data": {
      "text/plain": "       percentage_true\nlevel                 \n0                  0.2\n3                  0.0\n4                  0.1\n5                  0.2\n6                  0.4\n7                  0.1\n8                  0.0\n9                  0.1\n10                 0.0\n11                 0.4\n12                 0.0\n13                 0.0\n14                 0.0\n15                 0.0\n16                 0.0\n17                 0.1\n18                 0.0\n19                 0.0\n20                 0.0\n21                 0.0\n22                 0.3\n23                 0.0\n25                 0.0\n26                 0.0\n27                 0.0\n28                 0.0\n29                 0.1\n30                 0.1\n31                 0.0\n32                 0.0\n33                 0.0\n34                 0.0\n35                 0.1\n36                 0.0\n38                 0.0\n39                 0.1\n40                 0.0\n82                 0.0",
      "text/html": "<div>\n<style scoped>\n    .dataframe tbody tr th:only-of-type {\n        vertical-align: middle;\n    }\n\n    .dataframe tbody tr th {\n        vertical-align: top;\n    }\n\n    .dataframe thead th {\n        text-align: right;\n    }\n</style>\n<table border=\"1\" class=\"dataframe\">\n  <thead>\n    <tr style=\"text-align: right;\">\n      <th></th>\n      <th>percentage_true</th>\n    </tr>\n    <tr>\n      <th>level</th>\n      <th></th>\n    </tr>\n  </thead>\n  <tbody>\n    <tr>\n      <th>0</th>\n      <td>0.2</td>\n    </tr>\n    <tr>\n      <th>3</th>\n      <td>0.0</td>\n    </tr>\n    <tr>\n      <th>4</th>\n      <td>0.1</td>\n    </tr>\n    <tr>\n      <th>5</th>\n      <td>0.2</td>\n    </tr>\n    <tr>\n      <th>6</th>\n      <td>0.4</td>\n    </tr>\n    <tr>\n      <th>7</th>\n      <td>0.1</td>\n    </tr>\n    <tr>\n      <th>8</th>\n      <td>0.0</td>\n    </tr>\n    <tr>\n      <th>9</th>\n      <td>0.1</td>\n    </tr>\n    <tr>\n      <th>10</th>\n      <td>0.0</td>\n    </tr>\n    <tr>\n      <th>11</th>\n      <td>0.4</td>\n    </tr>\n    <tr>\n      <th>12</th>\n      <td>0.0</td>\n    </tr>\n    <tr>\n      <th>13</th>\n      <td>0.0</td>\n    </tr>\n    <tr>\n      <th>14</th>\n      <td>0.0</td>\n    </tr>\n    <tr>\n      <th>15</th>\n      <td>0.0</td>\n    </tr>\n    <tr>\n      <th>16</th>\n      <td>0.0</td>\n    </tr>\n    <tr>\n      <th>17</th>\n      <td>0.1</td>\n    </tr>\n    <tr>\n      <th>18</th>\n      <td>0.0</td>\n    </tr>\n    <tr>\n      <th>19</th>\n      <td>0.0</td>\n    </tr>\n    <tr>\n      <th>20</th>\n      <td>0.0</td>\n    </tr>\n    <tr>\n      <th>21</th>\n      <td>0.0</td>\n    </tr>\n    <tr>\n      <th>22</th>\n      <td>0.3</td>\n    </tr>\n    <tr>\n      <th>23</th>\n      <td>0.0</td>\n    </tr>\n    <tr>\n      <th>25</th>\n      <td>0.0</td>\n    </tr>\n    <tr>\n      <th>26</th>\n      <td>0.0</td>\n    </tr>\n    <tr>\n      <th>27</th>\n      <td>0.0</td>\n    </tr>\n    <tr>\n      <th>28</th>\n      <td>0.0</td>\n    </tr>\n    <tr>\n      <th>29</th>\n      <td>0.1</td>\n    </tr>\n    <tr>\n      <th>30</th>\n      <td>0.1</td>\n    </tr>\n    <tr>\n      <th>31</th>\n      <td>0.0</td>\n    </tr>\n    <tr>\n      <th>32</th>\n      <td>0.0</td>\n    </tr>\n    <tr>\n      <th>33</th>\n      <td>0.0</td>\n    </tr>\n    <tr>\n      <th>34</th>\n      <td>0.0</td>\n    </tr>\n    <tr>\n      <th>35</th>\n      <td>0.1</td>\n    </tr>\n    <tr>\n      <th>36</th>\n      <td>0.0</td>\n    </tr>\n    <tr>\n      <th>38</th>\n      <td>0.0</td>\n    </tr>\n    <tr>\n      <th>39</th>\n      <td>0.1</td>\n    </tr>\n    <tr>\n      <th>40</th>\n      <td>0.0</td>\n    </tr>\n    <tr>\n      <th>82</th>\n      <td>0.0</td>\n    </tr>\n  </tbody>\n</table>\n</div>"
     },
     "execution_count": 23,
     "metadata": {},
     "output_type": "execute_result"
    }
   ],
   "source": [
    "vp_stain_percents = videopage_df.groupby(['level'])['stain'].agg([percentage_true])\n",
    "vp_stain_percents"
   ],
   "metadata": {
    "collapsed": false,
    "pycharm": {
     "name": "#%%\n"
    }
   }
  },
  {
   "cell_type": "code",
   "execution_count": 35,
   "outputs": [
    {
     "data": {
      "text/plain": "<AxesSubplot:xlabel='level'>"
     },
     "execution_count": 35,
     "metadata": {},
     "output_type": "execute_result"
    },
    {
     "data": {
      "text/plain": "<Figure size 432x288 with 1 Axes>",
      "image/png": "[encoded data removed]"
     },
     "metadata": {
      "needs_background": "light"
     },
     "output_type": "display_data"
    }
   ],
   "source": [
    "vp_stain_percents.loc[:40].plot()"
   ],
   "metadata": {
    "collapsed": false,
    "pycharm": {
     "name": "#%%\n"
    }
   }
  },
  {
   "cell_type": "code",
   "execution_count": 38,
   "outputs": [
    {
     "name": "stdout",
     "output_type": "stream",
     "text": [
      "s1: 0.2, s2: 0.0, s3: 0.0\n"
     ]
    }
   ],
   "source": [
    "s1 = vp_stain_percents.loc[0].values[0]\n",
    "s2 = vp_stain_percents.loc[40].values[0]\n",
    "s3 = vp_stain_percents.loc[82].values[0]\n",
    "print('s1: {0}, \\n'\n",
    "      's2: {1}, \\n'\n",
    "      's3: {2}'.format(s1,s2,s3))"
   ],
   "metadata": {
    "collapsed": false,
    "pycharm": {
     "name": "#%%\n"
    }
   }
  },
  {
   "cell_type": "code",
   "execution_count": 37,
   "outputs": [
    {
     "data": {
      "text/plain": "phase\nscrub       80\nstain       40\nteardown    82\nName: level, dtype: int64"
     },
     "execution_count": 37,
     "metadata": {},
     "output_type": "execute_result"
    }
   ],
   "source": [
    "results_df.groupby(['phase'])['level'].agg('max')"
   ],
   "metadata": {
    "collapsed": false,
    "pycharm": {
     "name": "#%%\n"
    }
   }
  },
  {
   "cell_type": "code",
   "execution_count": null,
   "outputs": [],
   "source": [],
   "metadata": {
    "collapsed": false,
    "pycharm": {
     "name": "#%%\n"
    }
   }
  }
 ],
 "metadata": {
  "kernelspec": {
   "display_name": "Python 3",
   "language": "python",
   "name": "python3"
  },
  "language_info": {
   "codemirror_mode": {
    "name": "ipython",
    "version": 2
   },
   "file_extension": ".py",
   "mimetype": "text/x-python",
   "name": "python",
   "nbconvert_exporter": "python",
   "pygments_lexer": "ipython2",
   "version": "2.7.6"
  }
 },
 "nbformat": 4,
 "nbformat_minor": 0
}