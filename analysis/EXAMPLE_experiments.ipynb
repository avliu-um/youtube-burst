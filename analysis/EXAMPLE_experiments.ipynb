{
 "cells": [
  {
   "cell_type": "raw",
   "metadata": {
    "collapsed": true,
    "pycharm": {
     "name": "#%% raw\n"
    }
   },
   "source": [
    "Graph of recommendations on homepage over time\n",
    "Graph of videopage recommedations for stain phase\n",
    "Comparison of videopage recommendations at three points\n",
    "Curious questions:\n",
    "    - after acting on a channel once, does it reappear?\n",
    "    - do bad videos being recommended match channels of seed videos?\n",
    "    - how many times is our rec-based action invoked (i.e. non-zero bad recommendations during scrub phase)"
   ]
  },
  {
   "cell_type": "code",
   "execution_count": 2,
   "outputs": [],
   "source": [
    "import pandas as pd"
   ],
   "metadata": {
    "collapsed": false,
    "pycharm": {
     "name": "#%%\n"
    }
   }
  },
  {
   "cell_type": "code",
   "execution_count": 1,
   "outputs": [],
   "source": [
    "results_filepath = './alt-right_delete_0.csv'\n",
    "channels_filepath = '../../communities/alt-right/ribeiro_alt-right.csv'"
   ],
   "metadata": {
    "collapsed": false,
    "pycharm": {
     "name": "#%%\n"
    }
   }
  },
  {
   "cell_type": "code",
   "execution_count": 12,
   "outputs": [
    {
     "data": {
      "text/plain": "      video_id                channel_id  rank component            bot_name  \\\n0  qqJ0EZXfbm4  UCNnKprAG-MWLsk-GsbsC2BA     0  homepage  alt-right_delete_0   \n1  xax6NwLPAkk  UCJW3ePyqjsvKfHGsz7eetQA     1  homepage  alt-right_delete_0   \n2  qSIC-FWXlnc  UC81VpL_WLXlZZjq88zAAONQ     2  homepage  alt-right_delete_0   \n3  aNqXZvn6qSI  UCNnQqoYFCqLID3GAMkGtS6A     3  homepage  alt-right_delete_0   \n4  md8nInMGhFY  UC3Lmytq3AlvcJ-34If_jDyw     4  homepage  alt-right_delete_0   \n\n   phase  phase_level  level                        time watch_video_id  \n0  stain            0      0  2022-05-13 14:26:20.765641            NaN  \n1  stain            0      0  2022-05-13 14:26:20.765653            NaN  \n2  stain            0      0  2022-05-13 14:26:20.765655            NaN  \n3  stain            0      0  2022-05-13 14:26:20.765657            NaN  \n4  stain            0      0  2022-05-13 14:26:20.765659            NaN  ",
      "text/html": "<div>\n<style scoped>\n    .dataframe tbody tr th:only-of-type {\n        vertical-align: middle;\n    }\n\n    .dataframe tbody tr th {\n        vertical-align: top;\n    }\n\n    .dataframe thead th {\n        text-align: right;\n    }\n</style>\n<table border=\"1\" class=\"dataframe\">\n  <thead>\n    <tr style=\"text-align: right;\">\n      <th></th>\n      <th>video_id</th>\n      <th>channel_id</th>\n      <th>rank</th>\n      <th>component</th>\n      <th>bot_name</th>\n      <th>phase</th>\n      <th>phase_level</th>\n      <th>level</th>\n      <th>time</th>\n      <th>watch_video_id</th>\n    </tr>\n  </thead>\n  <tbody>\n    <tr>\n      <th>0</th>\n      <td>qqJ0EZXfbm4</td>\n      <td>UCNnKprAG-MWLsk-GsbsC2BA</td>\n      <td>0</td>\n      <td>homepage</td>\n      <td>alt-right_delete_0</td>\n      <td>stain</td>\n      <td>0</td>\n      <td>0</td>\n      <td>2022-05-13 14:26:20.765641</td>\n      <td>NaN</td>\n    </tr>\n    <tr>\n      <th>1</th>\n      <td>xax6NwLPAkk</td>\n      <td>UCJW3ePyqjsvKfHGsz7eetQA</td>\n      <td>1</td>\n      <td>homepage</td>\n      <td>alt-right_delete_0</td>\n      <td>stain</td>\n      <td>0</td>\n      <td>0</td>\n      <td>2022-05-13 14:26:20.765653</td>\n      <td>NaN</td>\n    </tr>\n    <tr>\n      <th>2</th>\n      <td>qSIC-FWXlnc</td>\n      <td>UC81VpL_WLXlZZjq88zAAONQ</td>\n      <td>2</td>\n      <td>homepage</td>\n      <td>alt-right_delete_0</td>\n      <td>stain</td>\n      <td>0</td>\n      <td>0</td>\n      <td>2022-05-13 14:26:20.765655</td>\n      <td>NaN</td>\n    </tr>\n    <tr>\n      <th>3</th>\n      <td>aNqXZvn6qSI</td>\n      <td>UCNnQqoYFCqLID3GAMkGtS6A</td>\n      <td>3</td>\n      <td>homepage</td>\n      <td>alt-right_delete_0</td>\n      <td>stain</td>\n      <td>0</td>\n      <td>0</td>\n      <td>2022-05-13 14:26:20.765657</td>\n      <td>NaN</td>\n    </tr>\n    <tr>\n      <th>4</th>\n      <td>md8nInMGhFY</td>\n      <td>UC3Lmytq3AlvcJ-34If_jDyw</td>\n      <td>4</td>\n      <td>homepage</td>\n      <td>alt-right_delete_0</td>\n      <td>stain</td>\n      <td>0</td>\n      <td>0</td>\n      <td>2022-05-13 14:26:20.765659</td>\n      <td>NaN</td>\n    </tr>\n  </tbody>\n</table>\n</div>"
     },
     "execution_count": 12,
     "metadata": {},
     "output_type": "execute_result"
    }
   ],
   "source": [
    "results_df = pd.read_csv(results_filepath)\n",
    "results_df.head()"
   ],
   "metadata": {
    "collapsed": false,
    "pycharm": {
     "name": "#%%\n"
    }
   }
  },
  {
   "cell_type": "code",
   "execution_count": 13,
   "outputs": [
    {
     "data": {
      "text/plain": "array([ 0,  1,  2,  3,  4,  5,  6,  7,  8,  9, 10, 11, 12, 13, 14, 15, 16,\n       17, 18, 19, 20, 21, 22, 23, 24, 25, 26, 27, 28, 29, 30, 31, 32, 33,\n       34, 35, 36, 37, 38, 39, 40, 41, 42, 43, 44, 45, 46, 47, 48, 49, 50,\n       51, 52, 53, 54, 55, 56, 57, 58, 59, 60, 61, 62, 63, 64, 65, 66, 67,\n       68, 69, 70, 71, 72, 73, 74, 75, 76])"
     },
     "execution_count": 13,
     "metadata": {},
     "output_type": "execute_result"
    }
   ],
   "source": [
    "# How many recommendations are from bad channels?\n",
    "results_df['level'] = results_df.apply(\n",
    "    lambda row: row['level'] + row['phase_level'] if row['phase']=='scrub' else row['level'],\n",
    "    axis=1\n",
    ")\n",
    "results_df['level'].unique()"
   ],
   "metadata": {
    "collapsed": false,
    "pycharm": {
     "name": "#%%\n"
    }
   }
  },
  {
   "cell_type": "code",
   "execution_count": 4,
   "outputs": [
    {
     "data": {
      "text/plain": "                          0\n0  UCSTy-H5lSiCcozas32sfJlQ\n1  UCmtALVZjXFzb4v3fIXDmDyw\n2  UClMWnUHbxJKJLUgloN1mPUA\n3  UC4f8Z2XefBDL421pnNEQH0Q\n4  UCFc0stDRUkeBDc36qZeox1g",
      "text/html": "<div>\n<style scoped>\n    .dataframe tbody tr th:only-of-type {\n        vertical-align: middle;\n    }\n\n    .dataframe tbody tr th {\n        vertical-align: top;\n    }\n\n    .dataframe thead th {\n        text-align: right;\n    }\n</style>\n<table border=\"1\" class=\"dataframe\">\n  <thead>\n    <tr style=\"text-align: right;\">\n      <th></th>\n      <th>0</th>\n    </tr>\n  </thead>\n  <tbody>\n    <tr>\n      <th>0</th>\n      <td>UCSTy-H5lSiCcozas32sfJlQ</td>\n    </tr>\n    <tr>\n      <th>1</th>\n      <td>UCmtALVZjXFzb4v3fIXDmDyw</td>\n    </tr>\n    <tr>\n      <th>2</th>\n      <td>UClMWnUHbxJKJLUgloN1mPUA</td>\n    </tr>\n    <tr>\n      <th>3</th>\n      <td>UC4f8Z2XefBDL421pnNEQH0Q</td>\n    </tr>\n    <tr>\n      <th>4</th>\n      <td>UCFc0stDRUkeBDc36qZeox1g</td>\n    </tr>\n  </tbody>\n</table>\n</div>"
     },
     "execution_count": 4,
     "metadata": {},
     "output_type": "execute_result"
    }
   ],
   "source": [
    "channels_df = pd.read_csv(channels_filepath, header=None)\n",
    "channels_df.head()"
   ],
   "metadata": {
    "collapsed": false,
    "pycharm": {
     "name": "#%%\n"
    }
   }
  },
  {
   "cell_type": "code",
   "execution_count": 5,
   "outputs": [],
   "source": [
    "channels = set(channels_df[0])"
   ],
   "metadata": {
    "collapsed": false,
    "pycharm": {
     "name": "#%%\n"
    }
   }
  },
  {
   "cell_type": "code",
   "execution_count": 5,
   "outputs": [],
   "source": [],
   "metadata": {
    "collapsed": false,
    "pycharm": {
     "name": "#%%\n"
    }
   }
  },
  {
   "cell_type": "code",
   "execution_count": 14,
   "outputs": [
    {
     "data": {
      "text/plain": "stain\nFalse    913\nTrue     227\nName: stain, dtype: int64"
     },
     "execution_count": 14,
     "metadata": {},
     "output_type": "execute_result"
    }
   ],
   "source": [
    "# How many recommendations are from bad channels?\n",
    "results_df['stain'] = results_df.apply(\n",
    "    lambda row: row['channel_id'] in channels,\n",
    "    axis=1\n",
    ")\n",
    "results_df.groupby(['stain'])['stain'].agg('count')"
   ],
   "metadata": {
    "collapsed": false,
    "pycharm": {
     "name": "#%%\n"
    }
   }
  },
  {
   "cell_type": "code",
   "execution_count": 14,
   "outputs": [],
   "source": [],
   "metadata": {
    "collapsed": false,
    "pycharm": {
     "name": "#%%\n"
    }
   }
  },
  {
   "cell_type": "code",
   "execution_count": 15,
   "outputs": [],
   "source": [
    "from util import percentage_true"
   ],
   "metadata": {
    "collapsed": false,
    "pycharm": {
     "name": "#%%\n"
    }
   }
  },
  {
   "cell_type": "code",
   "execution_count": 16,
   "outputs": [],
   "source": [
    "homepage_df = results_df[results_df['component']=='homepage']"
   ],
   "metadata": {
    "collapsed": false,
    "pycharm": {
     "name": "#%%\n"
    }
   }
  },
  {
   "cell_type": "code",
   "execution_count": 17,
   "outputs": [
    {
     "data": {
      "text/plain": "       percentage_true\nlevel                 \n0                  0.0\n1                  0.0\n2                  0.0\n3                  0.2\n4                  0.2\n...                ...\n72                 0.2\n73                 0.1\n74                 0.1\n75                 0.0\n76                 0.0\n\n[77 rows x 1 columns]",
      "text/html": "<div>\n<style scoped>\n    .dataframe tbody tr th:only-of-type {\n        vertical-align: middle;\n    }\n\n    .dataframe tbody tr th {\n        vertical-align: top;\n    }\n\n    .dataframe thead th {\n        text-align: right;\n    }\n</style>\n<table border=\"1\" class=\"dataframe\">\n  <thead>\n    <tr style=\"text-align: right;\">\n      <th></th>\n      <th>percentage_true</th>\n    </tr>\n    <tr>\n      <th>level</th>\n      <th></th>\n    </tr>\n  </thead>\n  <tbody>\n    <tr>\n      <th>0</th>\n      <td>0.0</td>\n    </tr>\n    <tr>\n      <th>1</th>\n      <td>0.0</td>\n    </tr>\n    <tr>\n      <th>2</th>\n      <td>0.0</td>\n    </tr>\n    <tr>\n      <th>3</th>\n      <td>0.2</td>\n    </tr>\n    <tr>\n      <th>4</th>\n      <td>0.2</td>\n    </tr>\n    <tr>\n      <th>...</th>\n      <td>...</td>\n    </tr>\n    <tr>\n      <th>72</th>\n      <td>0.2</td>\n    </tr>\n    <tr>\n      <th>73</th>\n      <td>0.1</td>\n    </tr>\n    <tr>\n      <th>74</th>\n      <td>0.1</td>\n    </tr>\n    <tr>\n      <th>75</th>\n      <td>0.0</td>\n    </tr>\n    <tr>\n      <th>76</th>\n      <td>0.0</td>\n    </tr>\n  </tbody>\n</table>\n<p>77 rows × 1 columns</p>\n</div>"
     },
     "execution_count": 17,
     "metadata": {},
     "output_type": "execute_result"
    }
   ],
   "source": [
    "stain_percents = homepage_df.groupby(['level'])['stain'].agg([percentage_true])\n",
    "stain_percents"
   ],
   "metadata": {
    "collapsed": false,
    "pycharm": {
     "name": "#%%\n"
    }
   }
  },
  {
   "cell_type": "code",
   "execution_count": 18,
   "outputs": [
    {
     "data": {
      "text/plain": "<AxesSubplot:xlabel='level'>"
     },
     "execution_count": 18,
     "metadata": {},
     "output_type": "execute_result"
    },
    {
     "data": {
      "text/plain": "<Figure size 432x288 with 1 Axes>",
      "image/png": "[encoded data removed]"
     },
     "metadata": {
      "needs_background": "light"
     },
     "output_type": "display_data"
    }
   ],
   "source": [
    "stain_percents.plot()"
   ],
   "metadata": {
    "collapsed": false,
    "pycharm": {
     "name": "#%%\n"
    }
   }
  },
  {
   "cell_type": "code",
   "execution_count": 18,
   "outputs": [],
   "source": [],
   "metadata": {
    "collapsed": false,
    "pycharm": {
     "name": "#%%\n"
    }
   }
  },
  {
   "cell_type": "code",
   "execution_count": 19,
   "outputs": [
    {
     "data": {
      "text/plain": "       video_id                channel_id  rank  component  \\\n10  rlMFpJNd3-k  UCbsnZhYv_NB31qetOdTTWKA     0  videopage   \n11  fWCocjh5aK0  UCsT0YIqwnpJCM-mx7-gSA4Q     1  videopage   \n12  Unzc731iCUY  UCEBb1b_L6zDS3xTUrIALZOw     2  videopage   \n13  Nzl1BOUjyqE  UCbmNph6atAoGfqLoCL_duAg     3  videopage   \n14  qw2nx-I-jAA  UCK7tptUDHh-RYDsdxO1-5QQ     4  videopage   \n\n              bot_name  phase  phase_level  level                        time  \\\n10  alt-right_delete_0  stain            0      0  2022-05-13 14:26:39.331884   \n11  alt-right_delete_0  stain            0      0  2022-05-13 14:26:39.331893   \n12  alt-right_delete_0  stain            0      0  2022-05-13 14:26:39.331895   \n13  alt-right_delete_0  stain            0      0  2022-05-13 14:26:39.331896   \n14  alt-right_delete_0  stain            0      0  2022-05-13 14:26:39.331898   \n\n   watch_video_id  stain  \n10    xuRfQFvhsds  False  \n11    xuRfQFvhsds  False  \n12    xuRfQFvhsds  False  \n13    xuRfQFvhsds  False  \n14    xuRfQFvhsds  False  ",
      "text/html": "<div>\n<style scoped>\n    .dataframe tbody tr th:only-of-type {\n        vertical-align: middle;\n    }\n\n    .dataframe tbody tr th {\n        vertical-align: top;\n    }\n\n    .dataframe thead th {\n        text-align: right;\n    }\n</style>\n<table border=\"1\" class=\"dataframe\">\n  <thead>\n    <tr style=\"text-align: right;\">\n      <th></th>\n      <th>video_id</th>\n      <th>channel_id</th>\n      <th>rank</th>\n      <th>component</th>\n      <th>bot_name</th>\n      <th>phase</th>\n      <th>phase_level</th>\n      <th>level</th>\n      <th>time</th>\n      <th>watch_video_id</th>\n      <th>stain</th>\n    </tr>\n  </thead>\n  <tbody>\n    <tr>\n      <th>10</th>\n      <td>rlMFpJNd3-k</td>\n      <td>UCbsnZhYv_NB31qetOdTTWKA</td>\n      <td>0</td>\n      <td>videopage</td>\n      <td>alt-right_delete_0</td>\n      <td>stain</td>\n      <td>0</td>\n      <td>0</td>\n      <td>2022-05-13 14:26:39.331884</td>\n      <td>xuRfQFvhsds</td>\n      <td>False</td>\n    </tr>\n    <tr>\n      <th>11</th>\n      <td>fWCocjh5aK0</td>\n      <td>UCsT0YIqwnpJCM-mx7-gSA4Q</td>\n      <td>1</td>\n      <td>videopage</td>\n      <td>alt-right_delete_0</td>\n      <td>stain</td>\n      <td>0</td>\n      <td>0</td>\n      <td>2022-05-13 14:26:39.331893</td>\n      <td>xuRfQFvhsds</td>\n      <td>False</td>\n    </tr>\n    <tr>\n      <th>12</th>\n      <td>Unzc731iCUY</td>\n      <td>UCEBb1b_L6zDS3xTUrIALZOw</td>\n      <td>2</td>\n      <td>videopage</td>\n      <td>alt-right_delete_0</td>\n      <td>stain</td>\n      <td>0</td>\n      <td>0</td>\n      <td>2022-05-13 14:26:39.331895</td>\n      <td>xuRfQFvhsds</td>\n      <td>False</td>\n    </tr>\n    <tr>\n      <th>13</th>\n      <td>Nzl1BOUjyqE</td>\n      <td>UCbmNph6atAoGfqLoCL_duAg</td>\n      <td>3</td>\n      <td>videopage</td>\n      <td>alt-right_delete_0</td>\n      <td>stain</td>\n      <td>0</td>\n      <td>0</td>\n      <td>2022-05-13 14:26:39.331896</td>\n      <td>xuRfQFvhsds</td>\n      <td>False</td>\n    </tr>\n    <tr>\n      <th>14</th>\n      <td>qw2nx-I-jAA</td>\n      <td>UCK7tptUDHh-RYDsdxO1-5QQ</td>\n      <td>4</td>\n      <td>videopage</td>\n      <td>alt-right_delete_0</td>\n      <td>stain</td>\n      <td>0</td>\n      <td>0</td>\n      <td>2022-05-13 14:26:39.331898</td>\n      <td>xuRfQFvhsds</td>\n      <td>False</td>\n    </tr>\n  </tbody>\n</table>\n</div>"
     },
     "execution_count": 19,
     "metadata": {},
     "output_type": "execute_result"
    }
   ],
   "source": [
    "videopage_df = results_df[results_df['component']=='videopage']\n",
    "videopage_df.head()"
   ],
   "metadata": {
    "collapsed": false,
    "pycharm": {
     "name": "#%%\n"
    }
   }
  },
  {
   "cell_type": "code",
   "execution_count": 20,
   "outputs": [
    {
     "data": {
      "text/plain": "       percentage_true\nlevel                 \n0                  0.0\n1                  0.0\n2                  0.4\n3                  0.3\n4                  0.1\n5                  0.1\n6                  0.0\n7                  0.3\n8                  0.0\n9                  0.1\n10                 0.1\n11                 0.0\n12                 0.0\n13                 0.2\n14                 0.0\n15                 0.0\n16                 0.1\n17                 0.0\n18                 0.1\n19                 0.0\n20                 0.1\n21                 0.0\n22                 0.0\n24                 0.6\n25                 0.0\n26                 0.0\n27                 0.0\n29                 0.0\n30                 0.0\n31                 0.0\n33                 0.0\n34                 0.1\n35                 0.0\n36                 0.0\n37                 0.0\n38                 0.0\n40                 0.0",
      "text/html": "<div>\n<style scoped>\n    .dataframe tbody tr th:only-of-type {\n        vertical-align: middle;\n    }\n\n    .dataframe tbody tr th {\n        vertical-align: top;\n    }\n\n    .dataframe thead th {\n        text-align: right;\n    }\n</style>\n<table border=\"1\" class=\"dataframe\">\n  <thead>\n    <tr style=\"text-align: right;\">\n      <th></th>\n      <th>percentage_true</th>\n    </tr>\n    <tr>\n      <th>level</th>\n      <th></th>\n    </tr>\n  </thead>\n  <tbody>\n    <tr>\n      <th>0</th>\n      <td>0.0</td>\n    </tr>\n    <tr>\n      <th>1</th>\n      <td>0.0</td>\n    </tr>\n    <tr>\n      <th>2</th>\n      <td>0.4</td>\n    </tr>\n    <tr>\n      <th>3</th>\n      <td>0.3</td>\n    </tr>\n    <tr>\n      <th>4</th>\n      <td>0.1</td>\n    </tr>\n    <tr>\n      <th>5</th>\n      <td>0.1</td>\n    </tr>\n    <tr>\n      <th>6</th>\n      <td>0.0</td>\n    </tr>\n    <tr>\n      <th>7</th>\n      <td>0.3</td>\n    </tr>\n    <tr>\n      <th>8</th>\n      <td>0.0</td>\n    </tr>\n    <tr>\n      <th>9</th>\n      <td>0.1</td>\n    </tr>\n    <tr>\n      <th>10</th>\n      <td>0.1</td>\n    </tr>\n    <tr>\n      <th>11</th>\n      <td>0.0</td>\n    </tr>\n    <tr>\n      <th>12</th>\n      <td>0.0</td>\n    </tr>\n    <tr>\n      <th>13</th>\n      <td>0.2</td>\n    </tr>\n    <tr>\n      <th>14</th>\n      <td>0.0</td>\n    </tr>\n    <tr>\n      <th>15</th>\n      <td>0.0</td>\n    </tr>\n    <tr>\n      <th>16</th>\n      <td>0.1</td>\n    </tr>\n    <tr>\n      <th>17</th>\n      <td>0.0</td>\n    </tr>\n    <tr>\n      <th>18</th>\n      <td>0.1</td>\n    </tr>\n    <tr>\n      <th>19</th>\n      <td>0.0</td>\n    </tr>\n    <tr>\n      <th>20</th>\n      <td>0.1</td>\n    </tr>\n    <tr>\n      <th>21</th>\n      <td>0.0</td>\n    </tr>\n    <tr>\n      <th>22</th>\n      <td>0.0</td>\n    </tr>\n    <tr>\n      <th>24</th>\n      <td>0.6</td>\n    </tr>\n    <tr>\n      <th>25</th>\n      <td>0.0</td>\n    </tr>\n    <tr>\n      <th>26</th>\n      <td>0.0</td>\n    </tr>\n    <tr>\n      <th>27</th>\n      <td>0.0</td>\n    </tr>\n    <tr>\n      <th>29</th>\n      <td>0.0</td>\n    </tr>\n    <tr>\n      <th>30</th>\n      <td>0.0</td>\n    </tr>\n    <tr>\n      <th>31</th>\n      <td>0.0</td>\n    </tr>\n    <tr>\n      <th>33</th>\n      <td>0.0</td>\n    </tr>\n    <tr>\n      <th>34</th>\n      <td>0.1</td>\n    </tr>\n    <tr>\n      <th>35</th>\n      <td>0.0</td>\n    </tr>\n    <tr>\n      <th>36</th>\n      <td>0.0</td>\n    </tr>\n    <tr>\n      <th>37</th>\n      <td>0.0</td>\n    </tr>\n    <tr>\n      <th>38</th>\n      <td>0.0</td>\n    </tr>\n    <tr>\n      <th>40</th>\n      <td>0.0</td>\n    </tr>\n  </tbody>\n</table>\n</div>"
     },
     "execution_count": 20,
     "metadata": {},
     "output_type": "execute_result"
    }
   ],
   "source": [
    "vp_stain_percents = videopage_df.groupby(['level'])['stain'].agg([percentage_true])\n",
    "vp_stain_percents"
   ],
   "metadata": {
    "collapsed": false,
    "pycharm": {
     "name": "#%%\n"
    }
   }
  },
  {
   "cell_type": "code",
   "execution_count": 21,
   "outputs": [
    {
     "data": {
      "text/plain": "<AxesSubplot:xlabel='level'>"
     },
     "execution_count": 21,
     "metadata": {},
     "output_type": "execute_result"
    },
    {
     "data": {
      "text/plain": "<Figure size 432x288 with 1 Axes>",
      "image/png": "[encoded data removed]"
     },
     "metadata": {
      "needs_background": "light"
     },
     "output_type": "display_data"
    }
   ],
   "source": [
    "vp_stain_percents.loc[:40].plot()"
   ],
   "metadata": {
    "collapsed": false,
    "pycharm": {
     "name": "#%%\n"
    }
   }
  },
  {
   "cell_type": "code",
   "execution_count": 22,
   "outputs": [
    {
     "ename": "KeyError",
     "evalue": "82",
     "output_type": "error",
     "traceback": [
      "\u001B[0;31m---------------------------------------------------------------------------\u001B[0m",
      "\u001B[0;31mKeyError\u001B[0m                                  Traceback (most recent call last)",
      "File \u001B[0;32m~/opt/anaconda3/envs/burst/lib/python3.10/site-packages/pandas/core/indexes/base.py:3621\u001B[0m, in \u001B[0;36mIndex.get_loc\u001B[0;34m(self, key, method, tolerance)\u001B[0m\n\u001B[1;32m   3620\u001B[0m \u001B[38;5;28;01mtry\u001B[39;00m:\n\u001B[0;32m-> 3621\u001B[0m     \u001B[38;5;28;01mreturn\u001B[39;00m \u001B[38;5;28;43mself\u001B[39;49m\u001B[38;5;241;43m.\u001B[39;49m\u001B[43m_engine\u001B[49m\u001B[38;5;241;43m.\u001B[39;49m\u001B[43mget_loc\u001B[49m\u001B[43m(\u001B[49m\u001B[43mcasted_key\u001B[49m\u001B[43m)\u001B[49m\n\u001B[1;32m   3622\u001B[0m \u001B[38;5;28;01mexcept\u001B[39;00m \u001B[38;5;167;01mKeyError\u001B[39;00m \u001B[38;5;28;01mas\u001B[39;00m err:\n",
      "File \u001B[0;32m~/opt/anaconda3/envs/burst/lib/python3.10/site-packages/pandas/_libs/index.pyx:136\u001B[0m, in \u001B[0;36mpandas._libs.index.IndexEngine.get_loc\u001B[0;34m()\u001B[0m\n",
      "File \u001B[0;32m~/opt/anaconda3/envs/burst/lib/python3.10/site-packages/pandas/_libs/index.pyx:163\u001B[0m, in \u001B[0;36mpandas._libs.index.IndexEngine.get_loc\u001B[0;34m()\u001B[0m\n",
      "File \u001B[0;32mpandas/_libs/hashtable_class_helper.pxi:2131\u001B[0m, in \u001B[0;36mpandas._libs.hashtable.Int64HashTable.get_item\u001B[0;34m()\u001B[0m\n",
      "File \u001B[0;32mpandas/_libs/hashtable_class_helper.pxi:2140\u001B[0m, in \u001B[0;36mpandas._libs.hashtable.Int64HashTable.get_item\u001B[0;34m()\u001B[0m\n",
      "\u001B[0;31mKeyError\u001B[0m: 82",
      "\nThe above exception was the direct cause of the following exception:\n",
      "\u001B[0;31mKeyError\u001B[0m                                  Traceback (most recent call last)",
      "Input \u001B[0;32mIn [22]\u001B[0m, in \u001B[0;36m<cell line: 3>\u001B[0;34m()\u001B[0m\n\u001B[1;32m      1\u001B[0m s1 \u001B[38;5;241m=\u001B[39m vp_stain_percents\u001B[38;5;241m.\u001B[39mloc[\u001B[38;5;241m0\u001B[39m]\u001B[38;5;241m.\u001B[39mvalues[\u001B[38;5;241m0\u001B[39m]\n\u001B[1;32m      2\u001B[0m s2 \u001B[38;5;241m=\u001B[39m vp_stain_percents\u001B[38;5;241m.\u001B[39mloc[\u001B[38;5;241m40\u001B[39m]\u001B[38;5;241m.\u001B[39mvalues[\u001B[38;5;241m0\u001B[39m]\n\u001B[0;32m----> 3\u001B[0m s3 \u001B[38;5;241m=\u001B[39m \u001B[43mvp_stain_percents\u001B[49m\u001B[38;5;241;43m.\u001B[39;49m\u001B[43mloc\u001B[49m\u001B[43m[\u001B[49m\u001B[38;5;241;43m82\u001B[39;49m\u001B[43m]\u001B[49m\u001B[38;5;241m.\u001B[39mvalues[\u001B[38;5;241m0\u001B[39m]\n\u001B[1;32m      4\u001B[0m \u001B[38;5;28mprint\u001B[39m(\u001B[38;5;124m'\u001B[39m\u001B[38;5;124ms1: \u001B[39m\u001B[38;5;132;01m{0}\u001B[39;00m\u001B[38;5;124m, \u001B[39m\u001B[38;5;130;01m\\n\u001B[39;00m\u001B[38;5;124m'\u001B[39m\n\u001B[1;32m      5\u001B[0m       \u001B[38;5;124m'\u001B[39m\u001B[38;5;124ms2: \u001B[39m\u001B[38;5;132;01m{1}\u001B[39;00m\u001B[38;5;124m, \u001B[39m\u001B[38;5;130;01m\\n\u001B[39;00m\u001B[38;5;124m'\u001B[39m\n\u001B[1;32m      6\u001B[0m       \u001B[38;5;124m'\u001B[39m\u001B[38;5;124ms3: \u001B[39m\u001B[38;5;132;01m{2}\u001B[39;00m\u001B[38;5;124m'\u001B[39m\u001B[38;5;241m.\u001B[39mformat(s1,s2,s3))\n",
      "File \u001B[0;32m~/opt/anaconda3/envs/burst/lib/python3.10/site-packages/pandas/core/indexing.py:967\u001B[0m, in \u001B[0;36m_LocationIndexer.__getitem__\u001B[0;34m(self, key)\u001B[0m\n\u001B[1;32m    964\u001B[0m axis \u001B[38;5;241m=\u001B[39m \u001B[38;5;28mself\u001B[39m\u001B[38;5;241m.\u001B[39maxis \u001B[38;5;129;01mor\u001B[39;00m \u001B[38;5;241m0\u001B[39m\n\u001B[1;32m    966\u001B[0m maybe_callable \u001B[38;5;241m=\u001B[39m com\u001B[38;5;241m.\u001B[39mapply_if_callable(key, \u001B[38;5;28mself\u001B[39m\u001B[38;5;241m.\u001B[39mobj)\n\u001B[0;32m--> 967\u001B[0m \u001B[38;5;28;01mreturn\u001B[39;00m \u001B[38;5;28;43mself\u001B[39;49m\u001B[38;5;241;43m.\u001B[39;49m\u001B[43m_getitem_axis\u001B[49m\u001B[43m(\u001B[49m\u001B[43mmaybe_callable\u001B[49m\u001B[43m,\u001B[49m\u001B[43m \u001B[49m\u001B[43maxis\u001B[49m\u001B[38;5;241;43m=\u001B[39;49m\u001B[43maxis\u001B[49m\u001B[43m)\u001B[49m\n",
      "File \u001B[0;32m~/opt/anaconda3/envs/burst/lib/python3.10/site-packages/pandas/core/indexing.py:1202\u001B[0m, in \u001B[0;36m_LocIndexer._getitem_axis\u001B[0;34m(self, key, axis)\u001B[0m\n\u001B[1;32m   1200\u001B[0m \u001B[38;5;66;03m# fall thru to straight lookup\u001B[39;00m\n\u001B[1;32m   1201\u001B[0m \u001B[38;5;28mself\u001B[39m\u001B[38;5;241m.\u001B[39m_validate_key(key, axis)\n\u001B[0;32m-> 1202\u001B[0m \u001B[38;5;28;01mreturn\u001B[39;00m \u001B[38;5;28;43mself\u001B[39;49m\u001B[38;5;241;43m.\u001B[39;49m\u001B[43m_get_label\u001B[49m\u001B[43m(\u001B[49m\u001B[43mkey\u001B[49m\u001B[43m,\u001B[49m\u001B[43m \u001B[49m\u001B[43maxis\u001B[49m\u001B[38;5;241;43m=\u001B[39;49m\u001B[43maxis\u001B[49m\u001B[43m)\u001B[49m\n",
      "File \u001B[0;32m~/opt/anaconda3/envs/burst/lib/python3.10/site-packages/pandas/core/indexing.py:1153\u001B[0m, in \u001B[0;36m_LocIndexer._get_label\u001B[0;34m(self, label, axis)\u001B[0m\n\u001B[1;32m   1151\u001B[0m \u001B[38;5;28;01mdef\u001B[39;00m \u001B[38;5;21m_get_label\u001B[39m(\u001B[38;5;28mself\u001B[39m, label, axis: \u001B[38;5;28mint\u001B[39m):\n\u001B[1;32m   1152\u001B[0m     \u001B[38;5;66;03m# GH#5667 this will fail if the label is not present in the axis.\u001B[39;00m\n\u001B[0;32m-> 1153\u001B[0m     \u001B[38;5;28;01mreturn\u001B[39;00m \u001B[38;5;28;43mself\u001B[39;49m\u001B[38;5;241;43m.\u001B[39;49m\u001B[43mobj\u001B[49m\u001B[38;5;241;43m.\u001B[39;49m\u001B[43mxs\u001B[49m\u001B[43m(\u001B[49m\u001B[43mlabel\u001B[49m\u001B[43m,\u001B[49m\u001B[43m \u001B[49m\u001B[43maxis\u001B[49m\u001B[38;5;241;43m=\u001B[39;49m\u001B[43maxis\u001B[49m\u001B[43m)\u001B[49m\n",
      "File \u001B[0;32m~/opt/anaconda3/envs/burst/lib/python3.10/site-packages/pandas/core/generic.py:3876\u001B[0m, in \u001B[0;36mNDFrame.xs\u001B[0;34m(self, key, axis, level, drop_level)\u001B[0m\n\u001B[1;32m   3874\u001B[0m             new_index \u001B[38;5;241m=\u001B[39m index[loc]\n\u001B[1;32m   3875\u001B[0m \u001B[38;5;28;01melse\u001B[39;00m:\n\u001B[0;32m-> 3876\u001B[0m     loc \u001B[38;5;241m=\u001B[39m \u001B[43mindex\u001B[49m\u001B[38;5;241;43m.\u001B[39;49m\u001B[43mget_loc\u001B[49m\u001B[43m(\u001B[49m\u001B[43mkey\u001B[49m\u001B[43m)\u001B[49m\n\u001B[1;32m   3878\u001B[0m     \u001B[38;5;28;01mif\u001B[39;00m \u001B[38;5;28misinstance\u001B[39m(loc, np\u001B[38;5;241m.\u001B[39mndarray):\n\u001B[1;32m   3879\u001B[0m         \u001B[38;5;28;01mif\u001B[39;00m loc\u001B[38;5;241m.\u001B[39mdtype \u001B[38;5;241m==\u001B[39m np\u001B[38;5;241m.\u001B[39mbool_:\n",
      "File \u001B[0;32m~/opt/anaconda3/envs/burst/lib/python3.10/site-packages/pandas/core/indexes/base.py:3623\u001B[0m, in \u001B[0;36mIndex.get_loc\u001B[0;34m(self, key, method, tolerance)\u001B[0m\n\u001B[1;32m   3621\u001B[0m     \u001B[38;5;28;01mreturn\u001B[39;00m \u001B[38;5;28mself\u001B[39m\u001B[38;5;241m.\u001B[39m_engine\u001B[38;5;241m.\u001B[39mget_loc(casted_key)\n\u001B[1;32m   3622\u001B[0m \u001B[38;5;28;01mexcept\u001B[39;00m \u001B[38;5;167;01mKeyError\u001B[39;00m \u001B[38;5;28;01mas\u001B[39;00m err:\n\u001B[0;32m-> 3623\u001B[0m     \u001B[38;5;28;01mraise\u001B[39;00m \u001B[38;5;167;01mKeyError\u001B[39;00m(key) \u001B[38;5;28;01mfrom\u001B[39;00m \u001B[38;5;21;01merr\u001B[39;00m\n\u001B[1;32m   3624\u001B[0m \u001B[38;5;28;01mexcept\u001B[39;00m \u001B[38;5;167;01mTypeError\u001B[39;00m:\n\u001B[1;32m   3625\u001B[0m     \u001B[38;5;66;03m# If we have a listlike key, _check_indexing_error will raise\u001B[39;00m\n\u001B[1;32m   3626\u001B[0m     \u001B[38;5;66;03m#  InvalidIndexError. Otherwise we fall through and re-raise\u001B[39;00m\n\u001B[1;32m   3627\u001B[0m     \u001B[38;5;66;03m#  the TypeError.\u001B[39;00m\n\u001B[1;32m   3628\u001B[0m     \u001B[38;5;28mself\u001B[39m\u001B[38;5;241m.\u001B[39m_check_indexing_error(key)\n",
      "\u001B[0;31mKeyError\u001B[0m: 82"
     ]
    }
   ],
   "source": [
    "# Didn't make it to videopage experiment in this round\n",
    "s1 = vp_stain_percents.loc[0].values[0]\n",
    "s2 = vp_stain_percents.loc[40].values[0]\n",
    "s3 = vp_stain_percents.loc[82].values[0]\n",
    "print('s1: {0}, \\n'\n",
    "      's2: {1}, \\n'\n",
    "      's3: {2}'.format(s1,s2,s3))"
   ],
   "metadata": {
    "collapsed": false,
    "pycharm": {
     "name": "#%%\n"
    }
   }
  },
  {
   "cell_type": "code",
   "execution_count": 23,
   "outputs": [
    {
     "data": {
      "text/plain": "phase\nscrub    76\nstain    40\nName: level, dtype: int64"
     },
     "execution_count": 23,
     "metadata": {},
     "output_type": "execute_result"
    }
   ],
   "source": [
    "results_df.groupby(['phase'])['level'].agg('max')"
   ],
   "metadata": {
    "collapsed": false,
    "pycharm": {
     "name": "#%%\n"
    }
   }
  },
  {
   "cell_type": "code",
   "execution_count": null,
   "outputs": [],
   "source": [],
   "metadata": {
    "collapsed": false,
    "pycharm": {
     "name": "#%%\n"
    }
   }
  }
 ],
 "metadata": {
  "kernelspec": {
   "display_name": "Python 3",
   "language": "python",
   "name": "python3"
  },
  "language_info": {
   "codemirror_mode": {
    "name": "ipython",
    "version": 2
   },
   "file_extension": ".py",
   "mimetype": "text/x-python",
   "name": "python",
   "nbconvert_exporter": "python",
   "pygments_lexer": "ipython2",
   "version": "2.7.6"
  }
 },
 "nbformat": 4,
 "nbformat_minor": 0
}