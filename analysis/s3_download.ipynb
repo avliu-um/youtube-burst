{
 "cells": [
  {
   "cell_type": "code",
   "execution_count": 1,
   "metadata": {
    "collapsed": true
   },
   "outputs": [],
   "source": [
    "import pandas as pd"
   ]
  },
  {
   "cell_type": "code",
   "execution_count": 3,
   "outputs": [],
   "source": [
    "from io import StringIO"
   ],
   "metadata": {
    "collapsed": false,
    "pycharm": {
     "name": "#%%\n"
    }
   }
  },
  {
   "cell_type": "code",
   "execution_count": 2,
   "outputs": [],
   "source": [
    "import boto3"
   ],
   "metadata": {
    "collapsed": false,
    "pycharm": {
     "name": "#%%\n"
    }
   }
  },
  {
   "cell_type": "code",
   "execution_count": 7,
   "outputs": [],
   "source": [
    "s3 = boto3.client('s3')"
   ],
   "metadata": {
    "collapsed": false,
    "pycharm": {
     "name": "#%%\n"
    }
   }
  },
  {
   "cell_type": "code",
   "execution_count": 8,
   "outputs": [],
   "source": [
    "filepath = 'outputs/2022-05-23/12:41:57/results_timer_none_many-fails.csv'"
   ],
   "metadata": {
    "collapsed": false,
    "pycharm": {
     "name": "#%%\n"
    }
   }
  },
  {
   "cell_type": "code",
   "execution_count": 11,
   "outputs": [],
   "source": [
    "obj = s3.get_object(Bucket = 'youtube-audit', Key=filepath)"
   ],
   "metadata": {
    "collapsed": false,
    "pycharm": {
     "name": "#%%\n"
    }
   }
  },
  {
   "cell_type": "code",
   "execution_count": 12,
   "outputs": [],
   "source": [
    "data = obj['Body'].read().decode('utf-8').splitlines()"
   ],
   "metadata": {
    "collapsed": false,
    "pycharm": {
     "name": "#%%\n"
    }
   }
  },
  {
   "cell_type": "code",
   "execution_count": 19,
   "outputs": [],
   "source": [
    "data = [line.split(',') for line in data]"
   ],
   "metadata": {
    "collapsed": false,
    "pycharm": {
     "name": "#%%\n"
    }
   }
  },
  {
   "cell_type": "code",
   "execution_count": 20,
   "outputs": [
    {
     "data": {
      "text/plain": "list"
     },
     "execution_count": 20,
     "metadata": {},
     "output_type": "execute_result"
    }
   ],
   "source": [
    "type(data)"
   ],
   "metadata": {
    "collapsed": false,
    "pycharm": {
     "name": "#%%\n"
    }
   }
  },
  {
   "cell_type": "code",
   "execution_count": 21,
   "outputs": [
    {
     "data": {
      "text/plain": "['video_id',\n 'channel_id',\n 'rank',\n 'component',\n 'bot_name',\n 'phase',\n 'phase_level',\n 'level',\n 'time']"
     },
     "execution_count": 21,
     "metadata": {},
     "output_type": "execute_result"
    }
   ],
   "source": [
    "data[0]"
   ],
   "metadata": {
    "collapsed": false,
    "pycharm": {
     "name": "#%%\n"
    }
   }
  },
  {
   "cell_type": "code",
   "execution_count": 24,
   "outputs": [
    {
     "ename": "TypeError",
     "evalue": "DataFrame.__init__() got an unexpected keyword argument 'header'",
     "output_type": "error",
     "traceback": [
      "\u001B[0;31m---------------------------------------------------------------------------\u001B[0m",
      "\u001B[0;31mTypeError\u001B[0m                                 Traceback (most recent call last)",
      "Input \u001B[0;32mIn [24]\u001B[0m, in \u001B[0;36m<cell line: 1>\u001B[0;34m()\u001B[0m\n\u001B[0;32m----> 1\u001B[0m df \u001B[38;5;241m=\u001B[39m \u001B[43mpd\u001B[49m\u001B[38;5;241;43m.\u001B[39;49m\u001B[43mDataFrame\u001B[49m\u001B[43m(\u001B[49m\u001B[43mdata\u001B[49m\u001B[43m,\u001B[49m\u001B[43m \u001B[49m\u001B[43mheader\u001B[49m\u001B[38;5;241;43m=\u001B[39;49m\u001B[38;5;28;43;01mFalse\u001B[39;49;00m\u001B[43m)\u001B[49m\n",
      "\u001B[0;31mTypeError\u001B[0m: DataFrame.__init__() got an unexpected keyword argument 'header'"
     ]
    }
   ],
   "source": [
    "df = pd.DataFrame(data)"
   ],
   "metadata": {
    "collapsed": false,
    "pycharm": {
     "name": "#%%\n"
    }
   }
  },
  {
   "cell_type": "code",
   "execution_count": null,
   "outputs": [],
   "source": [],
   "metadata": {
    "collapsed": false,
    "pycharm": {
     "name": "#%%\n"
    }
   }
  },
  {
   "cell_type": "code",
   "execution_count": 23,
   "outputs": [
    {
     "data": {
      "text/plain": "             0                         1     2          3  \\\n0     video_id                channel_id  rank  component   \n1  b3VibJRXm8g  UCFMSVWESk5z0K4tcdf7k4Xw     0   homepage   \n2  CwRvM2TfYbs  UC6jH5GNi0iOR17opA1Vowhw     1   homepage   \n3  rXMB5WSCVks  UCrMH132hWAcvZu1nL1k7-vA     2   homepage   \n4  r7b12ZFd0cA  UCLvJmi9YPuxiv1FhSEvb4Gw     3   homepage   \n\n                       4      5            6      7  \\\n0               bot_name  phase  phase_level  level   \n1  timer_none_many-fails  stain            0      0   \n2  timer_none_many-fails  stain            0      0   \n3  timer_none_many-fails  stain            0      0   \n4  timer_none_many-fails  stain            0      0   \n\n                            8  \n0                        time  \n1  2022-05-23 12:39:43.240840  \n2  2022-05-23 12:39:43.240855  \n3  2022-05-23 12:39:43.240858  \n4  2022-05-23 12:39:43.240860  ",
      "text/html": "<div>\n<style scoped>\n    .dataframe tbody tr th:only-of-type {\n        vertical-align: middle;\n    }\n\n    .dataframe tbody tr th {\n        vertical-align: top;\n    }\n\n    .dataframe thead th {\n        text-align: right;\n    }\n</style>\n<table border=\"1\" class=\"dataframe\">\n  <thead>\n    <tr style=\"text-align: right;\">\n      <th></th>\n      <th>0</th>\n      <th>1</th>\n      <th>2</th>\n      <th>3</th>\n      <th>4</th>\n      <th>5</th>\n      <th>6</th>\n      <th>7</th>\n      <th>8</th>\n    </tr>\n  </thead>\n  <tbody>\n    <tr>\n      <th>0</th>\n      <td>video_id</td>\n      <td>channel_id</td>\n      <td>rank</td>\n      <td>component</td>\n      <td>bot_name</td>\n      <td>phase</td>\n      <td>phase_level</td>\n      <td>level</td>\n      <td>time</td>\n    </tr>\n    <tr>\n      <th>1</th>\n      <td>b3VibJRXm8g</td>\n      <td>UCFMSVWESk5z0K4tcdf7k4Xw</td>\n      <td>0</td>\n      <td>homepage</td>\n      <td>timer_none_many-fails</td>\n      <td>stain</td>\n      <td>0</td>\n      <td>0</td>\n      <td>2022-05-23 12:39:43.240840</td>\n    </tr>\n    <tr>\n      <th>2</th>\n      <td>CwRvM2TfYbs</td>\n      <td>UC6jH5GNi0iOR17opA1Vowhw</td>\n      <td>1</td>\n      <td>homepage</td>\n      <td>timer_none_many-fails</td>\n      <td>stain</td>\n      <td>0</td>\n      <td>0</td>\n      <td>2022-05-23 12:39:43.240855</td>\n    </tr>\n    <tr>\n      <th>3</th>\n      <td>rXMB5WSCVks</td>\n      <td>UCrMH132hWAcvZu1nL1k7-vA</td>\n      <td>2</td>\n      <td>homepage</td>\n      <td>timer_none_many-fails</td>\n      <td>stain</td>\n      <td>0</td>\n      <td>0</td>\n      <td>2022-05-23 12:39:43.240858</td>\n    </tr>\n    <tr>\n      <th>4</th>\n      <td>r7b12ZFd0cA</td>\n      <td>UCLvJmi9YPuxiv1FhSEvb4Gw</td>\n      <td>3</td>\n      <td>homepage</td>\n      <td>timer_none_many-fails</td>\n      <td>stain</td>\n      <td>0</td>\n      <td>0</td>\n      <td>2022-05-23 12:39:43.240860</td>\n    </tr>\n  </tbody>\n</table>\n</div>"
     },
     "execution_count": 23,
     "metadata": {},
     "output_type": "execute_result"
    }
   ],
   "source": [
    "df.head()"
   ],
   "metadata": {
    "collapsed": false,
    "pycharm": {
     "name": "#%%\n"
    }
   }
  },
  {
   "cell_type": "code",
   "execution_count": null,
   "outputs": [],
   "source": [],
   "metadata": {
    "collapsed": false,
    "pycharm": {
     "name": "#%%\n"
    }
   }
  }
 ],
 "metadata": {
  "kernelspec": {
   "display_name": "Python 3",
   "language": "python",
   "name": "python3"
  },
  "language_info": {
   "codemirror_mode": {
    "name": "ipython",
    "version": 2
   },
   "file_extension": ".py",
   "mimetype": "text/x-python",
   "name": "python",
   "nbconvert_exporter": "python",
   "pygments_lexer": "ipython2",
   "version": "2.7.6"
  }
 },
 "nbformat": 4,
 "nbformat_minor": 0
}